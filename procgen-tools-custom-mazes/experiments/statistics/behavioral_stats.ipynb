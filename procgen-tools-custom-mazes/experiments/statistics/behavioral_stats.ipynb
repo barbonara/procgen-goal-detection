{
 "cells": [
  {
   "attachments": {},
   "cell_type": "markdown",
   "id": "bb489560",
   "metadata": {},
   "source": [
    "This notebook is for taking statistics over thousands of runs, in order to analyze which maze features (e.g. distance to cheese) tend to affect decision-making. "
   ]
  },
  {
   "cell_type": "code",
   "execution_count": 8,
   "id": "af4881a7",
   "metadata": {},
   "outputs": [
    {
     "name": "stdout",
     "output_type": "stream",
     "text": [
      "Already downloaded https://nerdsniper.net/mats/episode_stats_data.tgz\n",
      "Already downloaded https://nerdsniper.net/mats/model_rand_region_5.pth\n"
     ]
    }
   ],
   "source": [
    "try:\n",
    "    import procgen_tools\n",
    "except ImportError:\n",
    "    get_ipython().run_line_magic(magic_name='pip', line='install -U git+https://github.com/ulissemini/procgen-tools')\n",
    "\n",
    "from procgen_tools.utils import setup\n",
    "\n",
    "setup(dl_stats=True) # create directory structure and download data "
   ]
  },
  {
   "cell_type": "code",
   "execution_count": 9,
   "id": "c479b48f",
   "metadata": {},
   "outputs": [],
   "source": [
    "%matplotlib inline\n",
    "import matplotlib.pyplot as plt\n",
    "\n",
    "import numpy as np\n",
    "from procgen import ProcgenGym3Env\n",
    "from procgen_tools import maze\n",
    "from procgen_tools.models import load_policy\n",
    "from procgen_tools.metrics import metrics, decision_square \n",
    "from procgen_tools.data_utils import load_episode\n",
    "\n",
    "from IPython import display\n",
    "from glob import glob\n",
    "import pickle\n",
    "from tqdm import tqdm\n",
    "\n",
    "import os\n",
    "from collections import defaultdict\n",
    "\n",
    "import pandas as pd\n",
    "from sklearn import linear_model\n",
    "import statsmodels.api as sm\n",
    "from sklearn.linear_model import LogisticRegression\n",
    "from scipy import stats\n",
    "from sklearn.model_selection import train_test_split\n",
    "\n",
    "import random \n",
    "from typing import List, Tuple, Any, Dict, Union, Optional\n",
    "\n",
    "import prettytable "
   ]
  },
  {
   "cell_type": "code",
   "execution_count": 10,
   "id": "0ff6529e",
   "metadata": {},
   "outputs": [],
   "source": [
    "# Handle text formatting \n",
    "def bold_text(text : str):\n",
    "    return '\\033[1m' + text + '\\033[0m' \n",
    "\n",
    "# In the \"Understanding and controlling a maze-solving policy network\" post, we claimed that the following attributes are important. We'll often bold them in the text.\n",
    "claimed_attributes = ['steps_between_cheese_decision_square', 'euc_dist_cheese_decision_square','euc_dist_cheese_top_right', 'euc_dist_decision_square_5x5']  \n",
    "\n",
    "def english_attr(attr : str) -> str:\n",
    "    \"\"\" Maps an attribute to its English name. \"\"\" \n",
    "    if attr == 'steps_between_cheese_5x5':\n",
    "        return 'Steps between cheese and top-right 5x5'\n",
    "    elif attr == 'euc_dist_cheese_5x5':\n",
    "        return 'Euclidean distance between cheese and top-right 5x5'\n",
    "    elif attr == 'steps_between_decision_square_5x5':\n",
    "        return 'Steps between decision square and top-right 5x5'\n",
    "    elif attr == 'euc_dist_decision_square_5x5':\n",
    "        return 'Euclidean distance between decision square and top-right 5x5'\n",
    "    elif attr == 'steps_between_cheese_top_right':\n",
    "        return 'Steps between cheese and top right square'\n",
    "    elif attr == 'euc_dist_cheese_top_right':\n",
    "        return 'Euclidean distance between cheese and top right square'\n",
    "    elif attr == 'steps_between_decision_square_top_right':\n",
    "        return 'Steps between decision square and top right square'\n",
    "    elif attr == 'euc_dist_decision_square_top_right':\n",
    "        return 'Euclidean distance between decision square and top right square'\n",
    "    elif attr == 'steps_between_cheese_decision_square':\n",
    "        return 'Steps between cheese and decision square'\n",
    "    elif attr == 'euc_dist_cheese_decision_square':\n",
    "        return 'Euclidean distance between cheese and decision square'\n",
    "    elif attr == 'cheese_coord_norm':\n",
    "        return 'Norm of cheese coordinate'\n",
    "    elif attr == 'taxi_dist_cheese_decision_square':\n",
    "        return 'Taxicab distance between cheese and decision square'\n",
    "    elif attr == 'taxi_dist_cheese_top_right':\n",
    "        return 'Taxicab distance between cheese and top right square'\n",
    "    elif attr == 'taxi_dist_decision_square_top_right':\n",
    "        return 'Taxicab distance between decision square and top right square'\n",
    "    elif attr == 'taxi_dist_cheese_5x5':\n",
    "        return 'Taxicab distance between cheese and top-right 5x5'\n",
    "    elif attr == 'taxi_dist_decision_square_5x5':\n",
    "        return 'Taxicab distance between decision square and top-right 5x5'\n",
    "    else:\n",
    "        raise ValueError(f\"Unknown attribute {attr}\")\n",
    "\n",
    "def format_attr(attr : str):\n",
    "    attr_str = english_attr(attr)\n",
    "    return bold_text(attr_str) if attr in claimed_attributes else attr_str"
   ]
  },
  {
   "cell_type": "code",
   "execution_count": 11,
   "id": "04235c2e",
   "metadata": {},
   "outputs": [
    {
     "name": "stdout",
     "output_type": "stream",
     "text": [
      "Loaded 10000 runs\n"
     ]
    }
   ],
   "source": [
    "files = glob('experiments/statistics/data/*rand_region_5*.pkl') \n",
    "runs = []\n",
    "for f in files:\n",
    "    try:\n",
    "        runs.append(load_episode(f, load_venv=False))\n",
    "    except (AssertionError, KeyError) as e:\n",
    "        print(f\"Malformed file {f}: {e}\")\n",
    "        os.remove(f)\n",
    "\n",
    "print(f'Loaded {len(runs)} runs')"
   ]
  },
  {
   "cell_type": "code",
   "execution_count": 12,
   "id": "151864ae",
   "metadata": {},
   "outputs": [
    {
     "name": "stderr",
     "output_type": "stream",
     "text": [
      "100%|██████████| 10000/10000 [04:23<00:00, 37.93it/s]\n"
     ]
    },
    {
     "data": {
      "text/plain": [
       "5239"
      ]
     },
     "execution_count": 12,
     "metadata": {},
     "output_type": "execute_result"
    }
   ],
   "source": [
    "recorded_metrics = defaultdict(list)\n",
    "recorded_runs = []\n",
    "got_cheese = []\n",
    "for run in tqdm(runs):\n",
    "    g = run.grid()\n",
    "    if decision_square(g) is None or (g[-5:, -5:] == maze.CHEESE).any():\n",
    "        continue\n",
    "    for name, metric in metrics.items():\n",
    "        recorded_metrics[name].append(metric(g))\n",
    "    got_cheese.append(float(run.got_cheese))\n",
    "    recorded_runs.append(run)\n",
    "\n",
    "runs = recorded_runs; del recorded_runs\n",
    "got_cheese = np.array(got_cheese)\n",
    "len(got_cheese)"
   ]
  },
  {
   "cell_type": "code",
   "execution_count": 13,
   "id": "e6cb7919",
   "metadata": {},
   "outputs": [],
   "source": [
    "# We want to turn the metrics into a dataframe, so we have to convert them to numpy arrays\n",
    "for name, metric in recorded_metrics.items():\n",
    "    recorded_metrics[name] = np.array(metric)"
   ]
  },
  {
   "cell_type": "code",
   "execution_count": 14,
   "id": "a207f4ea",
   "metadata": {},
   "outputs": [
    {
     "name": "stdout",
     "output_type": "stream",
     "text": [
      "P(get cheese | decision square, cheese not in top 5x5) = 0.714\n"
     ]
    }
   ],
   "source": [
    "prob = sum(got_cheese) / len(got_cheese)\n",
    "print(f'P(get cheese | decision square, cheese not in top 5x5) = {prob:.3f}')"
   ]
  },
  {
   "attachments": {},
   "cell_type": "markdown",
   "id": "f00443e8",
   "metadata": {},
   "source": [
    "We can explore the data itself."
   ]
  },
  {
   "cell_type": "code",
   "execution_count": 15,
   "id": "9338e2dd",
   "metadata": {},
   "outputs": [
    {
     "data": {
      "application/vnd.jupyter.widget-view+json": {
       "model_id": "7e5dea2f876e4d2096d9ac64330af6f8",
       "version_major": 2,
       "version_minor": 0
      },
      "text/plain": [
       "interactive(children=(Dropdown(description='metric', options=('euc_dist_cheese_decision_square', 'taxi_dist_ch…"
      ]
     },
     "metadata": {},
     "output_type": "display_data"
    }
   ],
   "source": [
    "# Make a plotly histogram, where you select which metric to display using a dropdown menu\n",
    "import plotly.express as px\n",
    "import plotly.graph_objects as go\n",
    "from ipywidgets import interact\n",
    "import math\n",
    "\n",
    "fig = go.FigureWidget()\n",
    "\n",
    "@interact \n",
    "def show_histogram(metric=list(recorded_metrics.keys())):\n",
    "    \"\"\" Show a histogram of the metric on this dataset. \"\"\"\n",
    "    fig.data = []\n",
    "\n",
    "    # Add a trace to fig\n",
    "    fig.add_trace(go.Histogram(x=recorded_metrics[metric], histnorm='probability density'))\n",
    "\n",
    "    # Set the title\n",
    "    fig.update_layout(title_text=f'Histogram of {english_attr(metric)}')\n",
    "    # Set y axis label to probability density\n",
    "    fig.update_yaxes(title_text='Probability density') \n",
    "    fig.update_xaxes(title_text=english_attr(metric))\n",
    "\n",
    "    # Automatically display updates to fig without having to call fig.show()\n",
    "    display.display(fig)"
   ]
  },
  {
   "attachments": {},
   "cell_type": "markdown",
   "id": "560a4e90",
   "metadata": {},
   "source": [
    "And see how the data points relate to each other. Many exhibit natural correlations from the dataset."
   ]
  },
  {
   "cell_type": "code",
   "execution_count": 16,
   "id": "f18bc057",
   "metadata": {},
   "outputs": [
    {
     "data": {
      "application/vnd.jupyter.widget-view+json": {
       "model_id": "29f91fcb47dc4fee88869b63b435ca1d",
       "version_major": 2,
       "version_minor": 0
      },
      "text/plain": [
       "interactive(children=(Dropdown(description='metric1', options=('euc_dist_cheese_decision_square', 'taxi_dist_c…"
      ]
     },
     "metadata": {},
     "output_type": "display_data"
    }
   ],
   "source": [
    "from ipywidgets import Dropdown, Checkbox\n",
    "\n",
    "scatter_distances_fig = go.FigureWidget()\n",
    "\n",
    "# Make plotly scatterplot comparing two metrics, to check for collinearity\n",
    "@interact\n",
    "def show_scatter(metric1=Dropdown(options=list(recorded_metrics.keys()), value='euc_dist_cheese_decision_square'), \n",
    "                 metric2=Dropdown(options=list(recorded_metrics.keys()), value='steps_between_cheese_decision_square')):\n",
    "    \"\"\" Show a scatterplot of two metrics on this dataset. \"\"\"\n",
    "    data = pd.DataFrame(recorded_metrics)\n",
    "    \n",
    "    # Plot the scatterplot\n",
    "    scatter_distances_fig.data = []\n",
    "    scatter_distances_fig.add_trace(go.Scatter(x=data[metric1], y=data[metric2], mode='markers', name='runs'))\n",
    "    scatter_distances_fig.update_layout(title_text=f'{english_attr(metric1)} vs {english_attr(metric2)}')\n",
    "    scatter_distances_fig.update_xaxes(title_text=english_attr(metric1))\n",
    "    scatter_distances_fig.update_yaxes(title_text=english_attr(metric2))\n",
    "    display.display(scatter_distances_fig)\n",
    "\n",
    "    # Draw a line of best fit\n",
    "    slope, intercept, r_value, p_value, std_err = stats.linregress(data[metric1], data[metric2])\n",
    "    scatter_distances_fig.add_trace(go.Scatter(x=data[metric1], y=slope*data[metric1] + intercept, mode='lines', name='best fit'))\n",
    "\n",
    "    # Hide the legend\n",
    "    scatter_distances_fig.update_layout(showlegend=False)\n",
    "\n",
    "    # Print the correlation coefficient\n",
    "    print(f\"Correlation: {np.corrcoef(data[metric1], data[metric2])[0,1]:.3f}\")"
   ]
  },
  {
   "cell_type": "code",
   "execution_count": 17,
   "id": "68d758e4",
   "metadata": {},
   "outputs": [
    {
     "data": {
      "application/vnd.plotly.v1+json": {
       "config": {
        "plotlyServerURL": "https://plot.ly"
       },
       "data": [
        {
         "coloraxis": "coloraxis",
         "hovertemplate": "(%{x}, %{y}) = %{z:.3f} <extra></extra>",
         "name": "0",
         "type": "heatmap",
         "xaxis": "x",
         "yaxis": "y",
         "z": [
          [
           0.9999999999999999,
           0.9833022723058472,
           0.8856307388244479,
           0.49962018464124724,
           0.20937914789198725,
           0.0960312893313234,
           0.1454592141391245,
           0.15189565929586962,
           0.11201510833688498,
           0.4396505425947096,
           0.1340722682705161,
           0.25271622732046556,
           0.15209989674836413,
           0.15296003219694868,
           0.16392009247544395,
           0.2367754048795605
          ],
          [
           0.9833022723058471,
           1,
           0.8813834490173899,
           0.4944639253893644,
           0.20536346150754498,
           0.09401175790212835,
           0.143826801633413,
           0.1491937004135906,
           0.10816871795587733,
           0.4280734000516306,
           0.128056842044465,
           0.24749658082474915,
           0.14918659451245792,
           0.149758785148942,
           0.1580950281806467,
           0.23272430253833337
          ],
          [
           0.8856307388244478,
           0.8813834490173899,
           0.9999999999999999,
           0.5610387819043434,
           0.19989727808209876,
           0.11168983799406618,
           0.15501197839498693,
           0.16074382260228237,
           0.12276193129256976,
           0.4794943945784913,
           0.136886642400597,
           0.23267130250455503,
           0.1510728862267415,
           0.15891933346140538,
           0.1676354113102041,
           0.20189572451313587
          ],
          [
           0.49962018464124724,
           0.4944639253893644,
           0.5610387819043434,
           1,
           0.6844649840798137,
           0.6476704018038881,
           0.834663850512404,
           0.8365088881497568,
           0.8904024446025517,
           0.9226077235445665,
           0.8688695552878511,
           0.688757942280027,
           0.6704227559082633,
           0.8324481892497045,
           0.8385826791078191,
           -0.22930867880732853
          ],
          [
           0.20937914789198725,
           0.20536346150754498,
           0.19989727808209876,
           0.6844649840798137,
           1,
           0.9724848692089012,
           0.7726858354424062,
           0.7613529894320963,
           0.7106875730608772,
           0.7425087594507928,
           0.7330664496859632,
           0.9941602809496991,
           0.9871951072447751,
           0.7810268245493462,
           0.7705055739784268,
           -0.5503200863616485
          ],
          [
           0.0960312893313234,
           0.09401175790212835,
           0.11168983799406619,
           0.647670401803888,
           0.9724848692089012,
           1,
           0.7724538548934176,
           0.7696451966669347,
           0.715076938987335,
           0.7017544457525995,
           0.7354519844048842,
           0.9444710232893286,
           0.9821687650235438,
           0.7756876486241933,
           0.7763262349575621,
           -0.6665640866327864
          ],
          [
           0.1454592141391245,
           0.143826801633413,
           0.15501197839498695,
           0.8346638505124041,
           0.7726858354424062,
           0.7724538548934176,
           1,
           0.994867660574479,
           0.9154418107370015,
           0.8212939272698628,
           0.9230562551512334,
           0.7602660849923096,
           0.7788630889130892,
           0.9939030186878556,
           0.9900762032081386,
           -0.41626917046598516
          ],
          [
           0.15189565929586962,
           0.1491937004135906,
           0.16074382260228237,
           0.8365088881497568,
           0.7613529894320963,
           0.7696451966669348,
           0.9948676605744788,
           1,
           0.9145020728864455,
           0.8202212533092166,
           0.920171342210431,
           0.7458260667007061,
           0.7719421306462931,
           0.9829492456373121,
           0.990253516986766,
           -0.438257754853767
          ],
          [
           0.112015108336885,
           0.10816871795587732,
           0.12276193129256976,
           0.8904024446025517,
           0.7106875730608772,
           0.7150769389873349,
           0.9154418107370015,
           0.9145020728864455,
           0.9999999999999999,
           0.8424554767712227,
           0.9664175249816087,
           0.697813042933622,
           0.7206992788947604,
           0.9106369307767296,
           0.9131988819832152,
           -0.3859337736520866
          ],
          [
           0.43965054259470965,
           0.4280734000516306,
           0.4794943945784913,
           0.9226077235445667,
           0.7425087594507928,
           0.7017544457525996,
           0.8212939272698629,
           0.8202212533092167,
           0.8424554767712227,
           0.9999999999999998,
           0.8789005109784621,
           0.7473942324905921,
           0.726203473729046,
           0.8255544793906171,
           0.8303087867891742,
           -0.28406299717533945
          ],
          [
           0.1340722682705161,
           0.128056842044465,
           0.136886642400597,
           0.8688695552878511,
           0.7330664496859631,
           0.7354519844048841,
           0.9230562551512334,
           0.9201713422104308,
           0.9664175249816087,
           0.878900510978462,
           1,
           0.7216377807283915,
           0.7439412347247336,
           0.92729862001314,
           0.9308047237080207,
           -0.3959940814014336
          ],
          [
           0.25271622732046556,
           0.24749658082474915,
           0.232671302504555,
           0.688757942280027,
           0.9941602809496991,
           0.9444710232893286,
           0.7602660849923096,
           0.7458260667007061,
           0.697813042933622,
           0.7473942324905921,
           0.7216377807283915,
           1,
           0.9756217917494019,
           0.7714394029718417,
           0.7572131334722461,
           -0.4957405535170951
          ],
          [
           0.15209989674836413,
           0.1491865945124579,
           0.1510728862267415,
           0.6704227559082633,
           0.9871951072447751,
           0.9821687650235439,
           0.7788630889130892,
           0.771942130646293,
           0.7206992788947604,
           0.726203473729046,
           0.7439412347247336,
           0.9756217917494019,
           0.9999999999999999,
           0.7872044718705824,
           0.7841230403877671,
           -0.6082222444176397
          ],
          [
           0.15296003219694868,
           0.149758785148942,
           0.15891933346140538,
           0.8324481892497045,
           0.7810268245493462,
           0.7756876486241933,
           0.9939030186878557,
           0.9829492456373121,
           0.9106369307767296,
           0.8255544793906171,
           0.92729862001314,
           0.7714394029718415,
           0.7872044718705824,
           0.9999999999999999,
           0.9915945260694358,
           -0.4030745683163006
          ],
          [
           0.16392009247544395,
           0.1580950281806467,
           0.16763541131020407,
           0.8385826791078191,
           0.7705055739784269,
           0.7763262349575621,
           0.9900762032081385,
           0.990253516986766,
           0.9131988819832153,
           0.8303087867891742,
           0.9308047237080208,
           0.7572131334722462,
           0.7841230403877671,
           0.9915945260694358,
           1,
           -0.43249225271902875
          ],
          [
           0.2367754048795605,
           0.2327243025383334,
           0.20189572451313587,
           -0.22930867880732853,
           -0.5503200863616485,
           -0.6665640866327864,
           -0.41626917046598516,
           -0.438257754853767,
           -0.3859337736520866,
           -0.28406299717533945,
           -0.39599408140143366,
           -0.4957405535170951,
           -0.6082222444176398,
           -0.4030745683163006,
           -0.4324922527190287,
           0.9999999999999998
          ]
         ]
        }
       ],
       "layout": {
        "coloraxis": {
         "cmax": 1,
         "cmin": -1,
         "colorbar": {
          "title": {
           "text": "Correlation"
          }
         },
         "colorscale": [
          [
           0,
           "rgb(103,0,31)"
          ],
          [
           0.1,
           "rgb(178,24,43)"
          ],
          [
           0.2,
           "rgb(214,96,77)"
          ],
          [
           0.3,
           "rgb(244,165,130)"
          ],
          [
           0.4,
           "rgb(253,219,199)"
          ],
          [
           0.5,
           "rgb(247,247,247)"
          ],
          [
           0.6,
           "rgb(209,229,240)"
          ],
          [
           0.7,
           "rgb(146,197,222)"
          ],
          [
           0.8,
           "rgb(67,147,195)"
          ],
          [
           0.9,
           "rgb(33,102,172)"
          ],
          [
           1,
           "rgb(5,48,97)"
          ]
         ],
         "showscale": false
        },
        "height": 1000,
        "margin": {
         "t": 60
        },
        "template": {
         "data": {
          "bar": [
           {
            "error_x": {
             "color": "#2a3f5f"
            },
            "error_y": {
             "color": "#2a3f5f"
            },
            "marker": {
             "line": {
              "color": "#E5ECF6",
              "width": 0.5
             },
             "pattern": {
              "fillmode": "overlay",
              "size": 10,
              "solidity": 0.2
             }
            },
            "type": "bar"
           }
          ],
          "barpolar": [
           {
            "marker": {
             "line": {
              "color": "#E5ECF6",
              "width": 0.5
             },
             "pattern": {
              "fillmode": "overlay",
              "size": 10,
              "solidity": 0.2
             }
            },
            "type": "barpolar"
           }
          ],
          "carpet": [
           {
            "aaxis": {
             "endlinecolor": "#2a3f5f",
             "gridcolor": "white",
             "linecolor": "white",
             "minorgridcolor": "white",
             "startlinecolor": "#2a3f5f"
            },
            "baxis": {
             "endlinecolor": "#2a3f5f",
             "gridcolor": "white",
             "linecolor": "white",
             "minorgridcolor": "white",
             "startlinecolor": "#2a3f5f"
            },
            "type": "carpet"
           }
          ],
          "choropleth": [
           {
            "colorbar": {
             "outlinewidth": 0,
             "ticks": ""
            },
            "type": "choropleth"
           }
          ],
          "contour": [
           {
            "colorbar": {
             "outlinewidth": 0,
             "ticks": ""
            },
            "colorscale": [
             [
              0,
              "#0d0887"
             ],
             [
              0.1111111111111111,
              "#46039f"
             ],
             [
              0.2222222222222222,
              "#7201a8"
             ],
             [
              0.3333333333333333,
              "#9c179e"
             ],
             [
              0.4444444444444444,
              "#bd3786"
             ],
             [
              0.5555555555555556,
              "#d8576b"
             ],
             [
              0.6666666666666666,
              "#ed7953"
             ],
             [
              0.7777777777777778,
              "#fb9f3a"
             ],
             [
              0.8888888888888888,
              "#fdca26"
             ],
             [
              1,
              "#f0f921"
             ]
            ],
            "type": "contour"
           }
          ],
          "contourcarpet": [
           {
            "colorbar": {
             "outlinewidth": 0,
             "ticks": ""
            },
            "type": "contourcarpet"
           }
          ],
          "heatmap": [
           {
            "colorbar": {
             "outlinewidth": 0,
             "ticks": ""
            },
            "colorscale": [
             [
              0,
              "#0d0887"
             ],
             [
              0.1111111111111111,
              "#46039f"
             ],
             [
              0.2222222222222222,
              "#7201a8"
             ],
             [
              0.3333333333333333,
              "#9c179e"
             ],
             [
              0.4444444444444444,
              "#bd3786"
             ],
             [
              0.5555555555555556,
              "#d8576b"
             ],
             [
              0.6666666666666666,
              "#ed7953"
             ],
             [
              0.7777777777777778,
              "#fb9f3a"
             ],
             [
              0.8888888888888888,
              "#fdca26"
             ],
             [
              1,
              "#f0f921"
             ]
            ],
            "type": "heatmap"
           }
          ],
          "heatmapgl": [
           {
            "colorbar": {
             "outlinewidth": 0,
             "ticks": ""
            },
            "colorscale": [
             [
              0,
              "#0d0887"
             ],
             [
              0.1111111111111111,
              "#46039f"
             ],
             [
              0.2222222222222222,
              "#7201a8"
             ],
             [
              0.3333333333333333,
              "#9c179e"
             ],
             [
              0.4444444444444444,
              "#bd3786"
             ],
             [
              0.5555555555555556,
              "#d8576b"
             ],
             [
              0.6666666666666666,
              "#ed7953"
             ],
             [
              0.7777777777777778,
              "#fb9f3a"
             ],
             [
              0.8888888888888888,
              "#fdca26"
             ],
             [
              1,
              "#f0f921"
             ]
            ],
            "type": "heatmapgl"
           }
          ],
          "histogram": [
           {
            "marker": {
             "pattern": {
              "fillmode": "overlay",
              "size": 10,
              "solidity": 0.2
             }
            },
            "type": "histogram"
           }
          ],
          "histogram2d": [
           {
            "colorbar": {
             "outlinewidth": 0,
             "ticks": ""
            },
            "colorscale": [
             [
              0,
              "#0d0887"
             ],
             [
              0.1111111111111111,
              "#46039f"
             ],
             [
              0.2222222222222222,
              "#7201a8"
             ],
             [
              0.3333333333333333,
              "#9c179e"
             ],
             [
              0.4444444444444444,
              "#bd3786"
             ],
             [
              0.5555555555555556,
              "#d8576b"
             ],
             [
              0.6666666666666666,
              "#ed7953"
             ],
             [
              0.7777777777777778,
              "#fb9f3a"
             ],
             [
              0.8888888888888888,
              "#fdca26"
             ],
             [
              1,
              "#f0f921"
             ]
            ],
            "type": "histogram2d"
           }
          ],
          "histogram2dcontour": [
           {
            "colorbar": {
             "outlinewidth": 0,
             "ticks": ""
            },
            "colorscale": [
             [
              0,
              "#0d0887"
             ],
             [
              0.1111111111111111,
              "#46039f"
             ],
             [
              0.2222222222222222,
              "#7201a8"
             ],
             [
              0.3333333333333333,
              "#9c179e"
             ],
             [
              0.4444444444444444,
              "#bd3786"
             ],
             [
              0.5555555555555556,
              "#d8576b"
             ],
             [
              0.6666666666666666,
              "#ed7953"
             ],
             [
              0.7777777777777778,
              "#fb9f3a"
             ],
             [
              0.8888888888888888,
              "#fdca26"
             ],
             [
              1,
              "#f0f921"
             ]
            ],
            "type": "histogram2dcontour"
           }
          ],
          "mesh3d": [
           {
            "colorbar": {
             "outlinewidth": 0,
             "ticks": ""
            },
            "type": "mesh3d"
           }
          ],
          "parcoords": [
           {
            "line": {
             "colorbar": {
              "outlinewidth": 0,
              "ticks": ""
             }
            },
            "type": "parcoords"
           }
          ],
          "pie": [
           {
            "automargin": true,
            "type": "pie"
           }
          ],
          "scatter": [
           {
            "fillpattern": {
             "fillmode": "overlay",
             "size": 10,
             "solidity": 0.2
            },
            "type": "scatter"
           }
          ],
          "scatter3d": [
           {
            "line": {
             "colorbar": {
              "outlinewidth": 0,
              "ticks": ""
             }
            },
            "marker": {
             "colorbar": {
              "outlinewidth": 0,
              "ticks": ""
             }
            },
            "type": "scatter3d"
           }
          ],
          "scattercarpet": [
           {
            "marker": {
             "colorbar": {
              "outlinewidth": 0,
              "ticks": ""
             }
            },
            "type": "scattercarpet"
           }
          ],
          "scattergeo": [
           {
            "marker": {
             "colorbar": {
              "outlinewidth": 0,
              "ticks": ""
             }
            },
            "type": "scattergeo"
           }
          ],
          "scattergl": [
           {
            "marker": {
             "colorbar": {
              "outlinewidth": 0,
              "ticks": ""
             }
            },
            "type": "scattergl"
           }
          ],
          "scattermapbox": [
           {
            "marker": {
             "colorbar": {
              "outlinewidth": 0,
              "ticks": ""
             }
            },
            "type": "scattermapbox"
           }
          ],
          "scatterpolar": [
           {
            "marker": {
             "colorbar": {
              "outlinewidth": 0,
              "ticks": ""
             }
            },
            "type": "scatterpolar"
           }
          ],
          "scatterpolargl": [
           {
            "marker": {
             "colorbar": {
              "outlinewidth": 0,
              "ticks": ""
             }
            },
            "type": "scatterpolargl"
           }
          ],
          "scatterternary": [
           {
            "marker": {
             "colorbar": {
              "outlinewidth": 0,
              "ticks": ""
             }
            },
            "type": "scatterternary"
           }
          ],
          "surface": [
           {
            "colorbar": {
             "outlinewidth": 0,
             "ticks": ""
            },
            "colorscale": [
             [
              0,
              "#0d0887"
             ],
             [
              0.1111111111111111,
              "#46039f"
             ],
             [
              0.2222222222222222,
              "#7201a8"
             ],
             [
              0.3333333333333333,
              "#9c179e"
             ],
             [
              0.4444444444444444,
              "#bd3786"
             ],
             [
              0.5555555555555556,
              "#d8576b"
             ],
             [
              0.6666666666666666,
              "#ed7953"
             ],
             [
              0.7777777777777778,
              "#fb9f3a"
             ],
             [
              0.8888888888888888,
              "#fdca26"
             ],
             [
              1,
              "#f0f921"
             ]
            ],
            "type": "surface"
           }
          ],
          "table": [
           {
            "cells": {
             "fill": {
              "color": "#EBF0F8"
             },
             "line": {
              "color": "white"
             }
            },
            "header": {
             "fill": {
              "color": "#C8D4E3"
             },
             "line": {
              "color": "white"
             }
            },
            "type": "table"
           }
          ]
         },
         "layout": {
          "annotationdefaults": {
           "arrowcolor": "#2a3f5f",
           "arrowhead": 0,
           "arrowwidth": 1
          },
          "autotypenumbers": "strict",
          "coloraxis": {
           "colorbar": {
            "outlinewidth": 0,
            "ticks": ""
           }
          },
          "colorscale": {
           "diverging": [
            [
             0,
             "#8e0152"
            ],
            [
             0.1,
             "#c51b7d"
            ],
            [
             0.2,
             "#de77ae"
            ],
            [
             0.3,
             "#f1b6da"
            ],
            [
             0.4,
             "#fde0ef"
            ],
            [
             0.5,
             "#f7f7f7"
            ],
            [
             0.6,
             "#e6f5d0"
            ],
            [
             0.7,
             "#b8e186"
            ],
            [
             0.8,
             "#7fbc41"
            ],
            [
             0.9,
             "#4d9221"
            ],
            [
             1,
             "#276419"
            ]
           ],
           "sequential": [
            [
             0,
             "#0d0887"
            ],
            [
             0.1111111111111111,
             "#46039f"
            ],
            [
             0.2222222222222222,
             "#7201a8"
            ],
            [
             0.3333333333333333,
             "#9c179e"
            ],
            [
             0.4444444444444444,
             "#bd3786"
            ],
            [
             0.5555555555555556,
             "#d8576b"
            ],
            [
             0.6666666666666666,
             "#ed7953"
            ],
            [
             0.7777777777777778,
             "#fb9f3a"
            ],
            [
             0.8888888888888888,
             "#fdca26"
            ],
            [
             1,
             "#f0f921"
            ]
           ],
           "sequentialminus": [
            [
             0,
             "#0d0887"
            ],
            [
             0.1111111111111111,
             "#46039f"
            ],
            [
             0.2222222222222222,
             "#7201a8"
            ],
            [
             0.3333333333333333,
             "#9c179e"
            ],
            [
             0.4444444444444444,
             "#bd3786"
            ],
            [
             0.5555555555555556,
             "#d8576b"
            ],
            [
             0.6666666666666666,
             "#ed7953"
            ],
            [
             0.7777777777777778,
             "#fb9f3a"
            ],
            [
             0.8888888888888888,
             "#fdca26"
            ],
            [
             1,
             "#f0f921"
            ]
           ]
          },
          "colorway": [
           "#636efa",
           "#EF553B",
           "#00cc96",
           "#ab63fa",
           "#FFA15A",
           "#19d3f3",
           "#FF6692",
           "#B6E880",
           "#FF97FF",
           "#FECB52"
          ],
          "font": {
           "color": "#2a3f5f"
          },
          "geo": {
           "bgcolor": "white",
           "lakecolor": "white",
           "landcolor": "#E5ECF6",
           "showlakes": true,
           "showland": true,
           "subunitcolor": "white"
          },
          "hoverlabel": {
           "align": "left"
          },
          "hovermode": "closest",
          "mapbox": {
           "style": "light"
          },
          "paper_bgcolor": "white",
          "plot_bgcolor": "#E5ECF6",
          "polar": {
           "angularaxis": {
            "gridcolor": "white",
            "linecolor": "white",
            "ticks": ""
           },
           "bgcolor": "#E5ECF6",
           "radialaxis": {
            "gridcolor": "white",
            "linecolor": "white",
            "ticks": ""
           }
          },
          "scene": {
           "xaxis": {
            "backgroundcolor": "#E5ECF6",
            "gridcolor": "white",
            "gridwidth": 2,
            "linecolor": "white",
            "showbackground": true,
            "ticks": "",
            "zerolinecolor": "white"
           },
           "yaxis": {
            "backgroundcolor": "#E5ECF6",
            "gridcolor": "white",
            "gridwidth": 2,
            "linecolor": "white",
            "showbackground": true,
            "ticks": "",
            "zerolinecolor": "white"
           },
           "zaxis": {
            "backgroundcolor": "#E5ECF6",
            "gridcolor": "white",
            "gridwidth": 2,
            "linecolor": "white",
            "showbackground": true,
            "ticks": "",
            "zerolinecolor": "white"
           }
          },
          "shapedefaults": {
           "line": {
            "color": "#2a3f5f"
           }
          },
          "ternary": {
           "aaxis": {
            "gridcolor": "white",
            "linecolor": "white",
            "ticks": ""
           },
           "baxis": {
            "gridcolor": "white",
            "linecolor": "white",
            "ticks": ""
           },
           "bgcolor": "#E5ECF6",
           "caxis": {
            "gridcolor": "white",
            "linecolor": "white",
            "ticks": ""
           }
          },
          "title": {
           "x": 0.05
          },
          "xaxis": {
           "automargin": true,
           "gridcolor": "white",
           "linecolor": "white",
           "ticks": "",
           "title": {
            "standoff": 15
           },
           "zerolinecolor": "white",
           "zerolinewidth": 2
          },
          "yaxis": {
           "automargin": true,
           "gridcolor": "white",
           "linecolor": "white",
           "ticks": "",
           "title": {
            "standoff": 15
           },
           "zerolinecolor": "white",
           "zerolinewidth": 2
          }
         }
        },
        "title": {
         "text": "Correlation matrix between metrics"
        },
        "width": 1000,
        "xaxis": {
         "anchor": "y",
         "constrain": "domain",
         "domain": [
          0,
          1
         ],
         "scaleanchor": "y",
         "ticktext": [
          "Euclidean distance between cheese and decision square",
          "Taxicab distance between cheese and decision square",
          "Steps between cheese and decision square",
          "Steps between cheese and top right square",
          "Euclidean distance between cheese and top right square",
          "Taxicab distance between cheese and top right square",
          "Euclidean distance between decision square and top right square",
          "Taxicab distance between decision square and top right square",
          "Steps between decision square and top right square",
          "Steps between cheese and top-right 5x5",
          "Steps between decision square and top-right 5x5",
          "Euclidean distance between cheese and top-right 5x5",
          "Taxicab distance between cheese and top-right 5x5",
          "Euclidean distance between decision square and top-right 5x5",
          "Taxicab distance between decision square and top-right 5x5",
          "Norm of cheese coordinate"
         ],
         "tickvals": [
          0,
          1,
          2,
          3,
          4,
          5,
          6,
          7,
          8,
          9,
          10,
          11,
          12,
          13,
          14,
          15
         ],
         "title": {
          "text": ""
         }
        },
        "yaxis": {
         "anchor": "x",
         "autorange": "reversed",
         "constrain": "domain",
         "domain": [
          0,
          1
         ],
         "ticktext": [
          "Euclidean distance between cheese and decision square",
          "Taxicab distance between cheese and decision square",
          "Steps between cheese and decision square",
          "Steps between cheese and top right square",
          "Euclidean distance between cheese and top right square",
          "Taxicab distance between cheese and top right square",
          "Euclidean distance between decision square and top right square",
          "Taxicab distance between decision square and top right square",
          "Steps between decision square and top right square",
          "Steps between cheese and top-right 5x5",
          "Steps between decision square and top-right 5x5",
          "Euclidean distance between cheese and top-right 5x5",
          "Taxicab distance between cheese and top-right 5x5",
          "Euclidean distance between decision square and top-right 5x5",
          "Taxicab distance between decision square and top-right 5x5",
          "Norm of cheese coordinate"
         ],
         "tickvals": [
          0,
          1,
          2,
          3,
          4,
          5,
          6,
          7,
          8,
          9,
          10,
          11,
          12,
          13,
          14,
          15
         ],
         "title": {
          "text": ""
         }
        }
       }
      }
     },
     "metadata": {},
     "output_type": "display_data"
    }
   ],
   "source": [
    "# Show the correlation matrix in plotly\n",
    "final_metrics = ['euc_dist_cheese_decision_square']\n",
    "\n",
    "correlations = np.zeros((len(recorded_metrics), len(recorded_metrics)))\n",
    "for i, metric1 in enumerate(recorded_metrics.keys()):\n",
    "    for j, metric2 in enumerate(recorded_metrics.keys()):\n",
    "        correlations[i, j] = np.corrcoef(recorded_metrics[metric1], recorded_metrics[metric2])[0,1]\n",
    "\n",
    "# Show the correlation matrix in plotly, with a colorbar \n",
    "# On mouse over, show the name of each metric\n",
    "corrmap = px.imshow(correlations, labels=dict(x='Metric 1', y='Metric 2', color='Correlation'), color_continuous_scale='RdBu', zmin=-1, zmax=1)\n",
    "# Hover template: show the name of each metric, by looking up its value in the x and y lists \n",
    "corrmap.update_traces(hovertemplate='(%{x}, %{y}) = %{z:.3f} <extra></extra>')\n",
    "\n",
    "corrmap.update_layout(title_text='Correlation matrix between metrics')\n",
    "# Don't show numbers over each cell\n",
    "corrmap.update_traces(text=None)\n",
    "# Show x and y axis labels\n",
    "corrmap.update_xaxes(ticktext=list(map(english_attr,recorded_metrics.keys())), tickvals=list(range(len(recorded_metrics.keys()))))\n",
    "\n",
    "corrmap.update_yaxes(ticktext=list(map(english_attr, recorded_metrics.keys())), tickvals=list(range(len(recorded_metrics.keys()))))\n",
    "\n",
    "# Hide x and y axis titles\n",
    "corrmap.update_xaxes(title_text='')\n",
    "corrmap.update_yaxes(title_text='')  \n",
    "\n",
    "# Hide the color bar \n",
    "corrmap.update_layout(coloraxis_showscale=False)\n",
    "\n",
    "# Make size of plot a bit bigger\n",
    "corrmap.update_layout(width=1000, height=1000)\n",
    "corrmap.show()"
   ]
  },
  {
   "attachments": {},
   "cell_type": "markdown",
   "id": "41d1c538",
   "metadata": {},
   "source": [
    "And here are the strongest correlations:"
   ]
  },
  {
   "cell_type": "code",
   "execution_count": 18,
   "id": "8514cf7b",
   "metadata": {},
   "outputs": [
    {
     "name": "stdout",
     "output_type": "stream",
     "text": [
      "+-----------------------------------------------------------------+-------------+---------------------------------------------------------------+\n",
      "|                             \u001b[1mMetric 1\u001b[0m                            | \u001b[1mCorrelation\u001b[0m |                            \u001b[1mMetric 2\u001b[0m                           |\n",
      "+-----------------------------------------------------------------+-------------+---------------------------------------------------------------+\n",
      "| Euclidean distance between decision square and top right square |    0.995    | Taxicab distance between decision square and top right square |\n",
      "|      \u001b[1mEuclidean distance between cheese and top right square\u001b[0m     |    0.994    |      Euclidean distance between cheese and top-right 5x5      |\n",
      "| Euclidean distance between decision square and top right square |    0.994    |  \u001b[1mEuclidean distance between decision square and top-right 5x5\u001b[0m |\n",
      "|   \u001b[1mEuclidean distance between decision square and top-right 5x5\u001b[0m  |    0.992    |   Taxicab distance between decision square and top-right 5x5  |\n",
      "|  Taxicab distance between decision square and top right square  |    0.990    |   Taxicab distance between decision square and top-right 5x5  |\n",
      "| Euclidean distance between decision square and top right square |    0.990    |   Taxicab distance between decision square and top-right 5x5  |\n",
      "|      \u001b[1mEuclidean distance between cheese and top right square\u001b[0m     |    0.987    |       Taxicab distance between cheese and top-right 5x5       |\n",
      "|      \u001b[1mEuclidean distance between cheese and decision square\u001b[0m      |    0.983    |      Taxicab distance between cheese and decision square      |\n",
      "|  Taxicab distance between decision square and top right square  |    0.983    |  \u001b[1mEuclidean distance between decision square and top-right 5x5\u001b[0m |\n",
      "|       Taxicab distance between cheese and top right square      |    0.982    |       Taxicab distance between cheese and top-right 5x5       |\n",
      "|       Euclidean distance between cheese and top-right 5x5       |    0.976    |       Taxicab distance between cheese and top-right 5x5       |\n",
      "|      \u001b[1mEuclidean distance between cheese and top right square\u001b[0m     |    0.972    |      Taxicab distance between cheese and top right square     |\n",
      "|        Steps between decision square and top right square       |    0.966    |        Steps between decision square and top-right 5x5        |\n",
      "|       Taxicab distance between cheese and top right square      |    0.944    |      Euclidean distance between cheese and top-right 5x5      |\n",
      "|         Steps between decision square and top-right 5x5         |    0.931    |   Taxicab distance between decision square and top-right 5x5  |\n",
      "|         Steps between decision square and top-right 5x5         |    0.927    |  \u001b[1mEuclidean distance between decision square and top-right 5x5\u001b[0m |\n",
      "| Euclidean distance between decision square and top right square |    0.923    |        Steps between decision square and top-right 5x5        |\n",
      "|            Steps between cheese and top right square            |    0.923    |             Steps between cheese and top-right 5x5            |\n",
      "|  Taxicab distance between decision square and top right square  |    0.920    |        Steps between decision square and top-right 5x5        |\n",
      "| Euclidean distance between decision square and top right square |    0.915    |       Steps between decision square and top right square      |\n",
      "|  Taxicab distance between decision square and top right square  |    0.915    |       Steps between decision square and top right square      |\n",
      "|        Steps between decision square and top right square       |    0.913    |   Taxicab distance between decision square and top-right 5x5  |\n",
      "|        Steps between decision square and top right square       |    0.911    |  \u001b[1mEuclidean distance between decision square and top-right 5x5\u001b[0m |\n",
      "|            Steps between cheese and top right square            |    0.890    |       Steps between decision square and top right square      |\n",
      "|      \u001b[1mEuclidean distance between cheese and decision square\u001b[0m      |    0.886    |            \u001b[1mSteps between cheese and decision square\u001b[0m           |\n",
      "+-----------------------------------------------------------------+-------------+---------------------------------------------------------------+\n"
     ]
    }
   ],
   "source": [
    "# Get the top k absolute value correlations, ignoring diagonals\n",
    "k = 50\n",
    "len_diagonal = len(correlations)\n",
    "topk = np.argsort(np.abs(correlations).flatten())[-(k+len_diagonal):][::-1] # Diagonal will be 1, so just add in len_diagonal\n",
    "\n",
    "# Print the top k correlations in a pretty table\n",
    "table = prettytable.PrettyTable() \n",
    "table.field_names = map(bold_text, [\"Metric 1\", \"Correlation\", \"Metric 2\"])\n",
    "\n",
    "for i in topk:\n",
    "    # Get the row and column of the correlation\n",
    "    row, col = i // len(correlations), i % len(correlations)\n",
    "    # Ignore the diagonal and the lower triangle\n",
    "    if row >= col:\n",
    "        continue\n",
    "    # Get the metric names\n",
    "    metric1, metric2 = list(recorded_metrics.keys())[row], list(recorded_metrics.keys())[col]\n",
    "    # Add the row to the table\n",
    "    table.add_row([format_attr(metric1), f'{correlations[row, col]:.3f}', format_attr(metric2)])\n",
    "\n",
    "print(table)"
   ]
  },
  {
   "cell_type": "code",
   "execution_count": 19,
   "id": "e51004a0",
   "metadata": {},
   "outputs": [],
   "source": [
    "def run_regression(attrs : List[str], data_frame : pd.DataFrame):\n",
    "    \"\"\" Runs a LASSO-regularized regression on the data using the given attributes. Returns the clf. \"\"\" \n",
    "    assert len(attrs) > 0, \"Must have at least one attribute to regress upon\"\n",
    "    for attr in attrs:\n",
    "        assert attr in data_frame, f\"Attribute {attr} not in data frame\"\n",
    "    assert 'cheese' in data_frame, \"Attribute 'cheese' not in data frame\"\n",
    "    \n",
    "    x = data_frame[attrs] \n",
    "    y = np.ravel(data_frame[['cheese']])\n",
    "\n",
    "    clf = LogisticRegression(random_state=0, solver ='liblinear', penalty= 'l1').fit(x, y)\n",
    "    return clf\n",
    "\n",
    "def compute_avg_accuracy(attrs : List[str], data_frame : pd.DataFrame, num_runs : int) -> float:\n",
    "    \"\"\" Runs a LASSO-regularized regression num_runs times on the data using the given attributes. Returns the average accuracy. \"\"\" \n",
    "    assert len(attrs) > 0, \"Must have at least one attribute to regress upon\"\n",
    "    assert num_runs > 0, \"Must run at least one time\"\n",
    "\n",
    "    accuracies = []\n",
    "    for i in range(num_runs):\n",
    "        train, test = train_test_split(data_frame, test_size=0.2)\n",
    "        clf = run_regression(attrs, train)\n",
    "        accuracies.append(clf.score(test[attrs], test['cheese']))\n",
    "    return np.mean(accuracies)\n",
    "\n",
    "def display_coeff_table(clf : Any, attrs : List[str]):\n",
    "    \"\"\" Displays the coefficients for each attribute, printing the label next to each coefficient. \"\"\" \n",
    "    assert len(attrs) > 0, \"Must have at least one attribute\"\n",
    "\n",
    "    # Print the coefficient for each attribute, printing the label next to each coefficient\n",
    "    table = prettytable.PrettyTable()\n",
    "    table.field_names = [bold_text(\"Attribute\"), bold_text(\"Coefficient\")]\n",
    "    for i, attr in enumerate(attrs):\n",
    "        table.add_row([format_attr(attr), f'{clf.coef_[0][i]:.3f}'])\n",
    "\n",
    "    # Add a row for the intercept\n",
    "    table.add_row([\"Intercept\", f'{clf.intercept_[0]:.3f}'])\n",
    "    print(table)"
   ]
  },
  {
   "attachments": {},
   "cell_type": "markdown",
   "id": "d5bf611e",
   "metadata": {},
   "source": [
    "# Using maze features to predict whether the mouse got the cheese "
   ]
  },
  {
   "cell_type": "code",
   "execution_count": 20,
   "id": "1f3f5156",
   "metadata": {},
   "outputs": [
    {
     "name": "stdout",
     "output_type": "stream",
     "text": [
      "+-----------------------------------------------------------------+-------------+\n",
      "|                            \u001b[1mAttribute\u001b[0m                            | \u001b[1mCoefficient\u001b[0m |\n",
      "+-----------------------------------------------------------------+-------------+\n",
      "|              Steps between cheese and top-right 5x5             |    -0.391   |\n",
      "|       Euclidean distance between cheese and top-right 5x5       |    1.740    |\n",
      "|         Steps between decision square and top-right 5x5         |    0.658    |\n",
      "|   \u001b[1mEuclidean distance between decision square and top-right 5x5\u001b[0m  |    2.646    |\n",
      "|            Steps between cheese and top right square            |    0.000    |\n",
      "|      \u001b[1mEuclidean distance between cheese and top right square\u001b[0m     |    -4.590   |\n",
      "|        Steps between decision square and top right square       |    0.000    |\n",
      "| Euclidean distance between decision square and top right square |    -1.579   |\n",
      "|             \u001b[1mSteps between cheese and decision square\u001b[0m            |    -0.656   |\n",
      "|      \u001b[1mEuclidean distance between cheese and decision square\u001b[0m      |    -0.558   |\n",
      "|                    Norm of cheese coordinate                    |    -0.236   |\n",
      "|                            Intercept                            |    1.365    |\n",
      "+-----------------------------------------------------------------+-------------+\n",
      "The average regression accuracy is 0.849.\n"
     ]
    }
   ],
   "source": [
    "keys = list(recorded_metrics.keys())\n",
    "data = { key: recorded_metrics[key] for key in keys }\n",
    "df = pd.DataFrame(data) \n",
    "\n",
    "df= stats.zscore(df) # zscore standardizes the data by subtracting the mean and dividing by the standard deviation\n",
    "\n",
    "# Now we want to add the cheese column to the dataframe\n",
    "df ['cheese'] = pd.DataFrame({'cheese': [(runs[i].got_cheese) for i in range(len(runs))]})\n",
    "\n",
    "# Choose which keys to regress upon\n",
    "attributes = [\n",
    "    'steps_between_cheese_5x5', \n",
    "    'euc_dist_cheese_5x5',\n",
    "    'steps_between_decision_square_5x5',\n",
    "    'euc_dist_decision_square_5x5',\n",
    "    'steps_between_cheese_top_right',\n",
    "    'euc_dist_cheese_top_right',\n",
    "    'steps_between_decision_square_top_right',\n",
    "    'euc_dist_decision_square_top_right',\n",
    "    'steps_between_cheese_decision_square',\n",
    "    'euc_dist_cheese_decision_square',\n",
    "    'cheese_coord_norm'\n",
    "    ] \n",
    "\n",
    "n_runs = 50\n",
    "\n",
    "avg_accuracy = 0\n",
    "avg_coefficients = np.zeros(len(attributes)+1) # Add one for the intercept \n",
    "# We reduce variance in the score by running the regression multiple times\n",
    "for x in range(n_runs): \n",
    "    train, test = train_test_split(df, test_size=0.2)\n",
    "\n",
    "    clf = run_regression(attributes, train)\n",
    "    avg_coefficients[:-1] = clf.coef_[0] + avg_coefficients[:-1] # Update all but last entry with coeffs\n",
    "    avg_coefficients[-1] += clf.intercept_[0] # Last entry is the intercept\n",
    "\n",
    "    x = test[attributes]\n",
    "    y = np.ravel(test[['cheese']])\n",
    "    avg_accuracy += clf.score(x, y)\n",
    "\n",
    "avg_accuracy /= n_runs\n",
    "avg_coefficients /= n_runs\n",
    "# Print the coefficient for each attribute, printing the label next to each coefficient (for the last run)\n",
    "display_coeff_table(clf, attributes)\n",
    "# print(avg_coefficients / n_runs) # TODO show what avg coefficients are\n",
    "print(f'The average regression accuracy is {avg_accuracy:.3f}, averaged over {n_runs} regressions.')\n",
    "\n",
    "# Record the sign of the coefficients for each attribute\n",
    "regression_coeff_signs = { attr: (clf.coef_[0][i] > 0) for i, attr in enumerate(attributes) if attr in claimed_attributes }"
   ]
  },
  {
   "cell_type": "code",
   "execution_count": 21,
   "id": "fc8c909c",
   "metadata": {},
   "outputs": [
    {
     "name": "stdout",
     "output_type": "stream",
     "text": [
      "Accuracy of the trivial \"always yes\" or \"always no\" predictor: 0.714\n"
     ]
    }
   ],
   "source": [
    "cheese_rate = sum(df[\"cheese\"]) / len(df[\"cheese\"])\n",
    "max_baseline = max(cheese_rate, 1-cheese_rate) # Always predict \"cheese\" or \"no cheese\"\n",
    "print(f'Accuracy of the trivial \"always yes\" or \"always no\" predictor: {max_baseline:.3f}')"
   ]
  },
  {
   "attachments": {},
   "cell_type": "markdown",
   "id": "19678d56",
   "metadata": {},
   "source": [
    "Let's examine whether it's predictively useful to know the Euclidean\n",
    "distance between the cheese and the decision square, given that we\n",
    "already know the step distance. (Spoiler: It is!)"
   ]
  },
  {
   "cell_type": "code",
   "execution_count": 33,
   "id": "f22f899f",
   "metadata": {},
   "outputs": [
    {
     "name": "stdout",
     "output_type": "stream",
     "text": [
      "\n",
      "+------------------------------------------+-------------+\n",
      "|                \u001b[1mAttribute\u001b[0m                 | \u001b[1mCoefficient\u001b[0m |\n",
      "+------------------------------------------+-------------+\n",
      "| \u001b[1mSteps between cheese and decision square\u001b[0m |    -0.964   |\n",
      "|                Intercept                 |    1.020    |\n",
      "+------------------------------------------+-------------+\n",
      "The accuracy for these attributes is 0.755, averaged over 100 regressions.\n",
      "\n",
      "\n",
      "+-------------------------------------------------------+-------------+\n",
      "|                       \u001b[1mAttribute\u001b[0m                       | \u001b[1mCoefficient\u001b[0m |\n",
      "+-------------------------------------------------------+-------------+\n",
      "|        \u001b[1mSteps between cheese and decision square\u001b[0m       |    -0.463   |\n",
      "| \u001b[1mEuclidean distance between cheese and decision square\u001b[0m |    -0.574   |\n",
      "|                       Intercept                       |    1.045    |\n",
      "+-------------------------------------------------------+-------------+\n",
      "The accuracy for these attributes is 0.760, averaged over 100 regressions.\n",
      "\n",
      "\n",
      "+-----------------------------------------------------------------+-------------+\n",
      "|                            \u001b[1mAttribute\u001b[0m                            | \u001b[1mCoefficient\u001b[0m |\n",
      "+-----------------------------------------------------------------+-------------+\n",
      "|              Steps between cheese and top-right 5x5             |    -0.445   |\n",
      "|       Euclidean distance between cheese and top-right 5x5       |    2.025    |\n",
      "|         Steps between decision square and top-right 5x5         |    0.764    |\n",
      "|   \u001b[1mEuclidean distance between decision square and top-right 5x5\u001b[0m  |    2.353    |\n",
      "|            Steps between cheese and top right square            |    -0.127   |\n",
      "|      \u001b[1mEuclidean distance between cheese and top right square\u001b[0m     |    -4.867   |\n",
      "|        Steps between decision square and top right square       |    0.000    |\n",
      "| Euclidean distance between decision square and top right square |    -1.287   |\n",
      "|             \u001b[1mSteps between cheese and decision square\u001b[0m            |    -0.561   |\n",
      "|      \u001b[1mEuclidean distance between cheese and decision square\u001b[0m      |    -0.574   |\n",
      "|                    Norm of cheese coordinate                    |    -0.259   |\n",
      "|                            Intercept                            |    1.401    |\n",
      "+-----------------------------------------------------------------+-------------+\n",
      "The accuracy for these attributes is 0.849, averaged over 100 regressions.\n",
      "\n"
     ]
    }
   ],
   "source": [
    "attr_lists = [['steps_between_cheese_decision_square'],\n",
    "              ['steps_between_cheese_decision_square', 'euc_dist_cheese_decision_square']] \n",
    "n_regressions = 100\n",
    "\n",
    "for attr_list in attr_lists:\n",
    "    print()\n",
    "    clf = run_regression(attr_list, df)\n",
    "    display_coeff_table(clf, attr_list)\n",
    "    print(f'The accuracy for these attributes is {compute_avg_accuracy(attr_list, df, n_regressions):.3f}, averaged over {n_regressions} regressions.')\n",
    "    print()"
   ]
  },
  {
   "attachments": {},
   "cell_type": "markdown",
   "id": "33762c04",
   "metadata": {},
   "source": [
    "# Stress-testing our results\n",
    "Overall, the features we claimed to be important, still seem to be important, although to different strengths. The claimed attributes don't exhibit sign-flips in a range of conditions.\n",
    "\n",
    "## Trying to re-pinpoint the claimed features\n",
    "Peli Grietzer originally found the bolded attributes using the following methodology, which he describes as follows:\n",
    "\n",
    "> I did multiple logistic regression with all the factors at once, then did a multiple logistic regression with all-factors-except-x for each x and wrote down which factors caused test accuracy loss when dropped.\n",
    ">\n",
    "> Four factors caused non-trivial test accuracy loss, so I took those four factors and did a multiple logistic regression on these four factors, and saw that the test accuracy was as good as with all factors.\n",
    ">\n",
    "> I then tested dropping each of the four factors and using just three, and saw that there was a non-trivial drop in test accuracy for each of them.\n",
    ">\n",
    "> I then tested adding one additional factor to the four factors, trying every unused factor and seeing no increase in test accuracy.\n",
    "\n",
    "This section implements that methodology. This doesn't seem to replicate, which is some evidence against our initial results -- there's less of a reason to pick out the four attributes we did."
   ]
  },
  {
   "cell_type": "code",
   "execution_count": 23,
   "id": "d7fda0ed",
   "metadata": {},
   "outputs": [
    {
     "name": "stderr",
     "output_type": "stream",
     "text": [
      "/home/turn/miniconda3/envs/MATS/lib/python3.10/site-packages/sklearn/svm/_base.py:1244: ConvergenceWarning:\n",
      "\n",
      "Liblinear failed to converge, increase the number of iterations.\n",
      "\n"
     ]
    },
    {
     "name": "stdout",
     "output_type": "stream",
     "text": [
      "When excluded, the following attributes caused a >0.5% relative drop in accuracy:\n"
     ]
    }
   ],
   "source": [
    "# Do a multiple logistic regression with all-attributes-except-x for each x and store which attributes caused test accuracy loss when dropped.\n",
    "relative_drop = .005\n",
    "accuracy_drop_attrs = []\n",
    "num_runs = 5\n",
    "\n",
    "for attr in recorded_metrics.keys():\n",
    "    attr_accuracy = compute_avg_accuracy(list(recorded_metrics.keys() - {attr}), df, num_runs)\n",
    "    if attr_accuracy < avg_accuracy * (1 - relative_drop):\n",
    "        accuracy_drop_attrs.append(attr)\n",
    "\n",
    "print(f'When excluded, the following attributes caused a >{relative_drop*100}% relative drop in accuracy:')\n",
    "for attr in accuracy_drop_attrs:\n",
    "    print(f'\\t{format_attr(attr)}')"
   ]
  },
  {
   "cell_type": "code",
   "execution_count": 24,
   "id": "88a3d5ff",
   "metadata": {},
   "outputs": [],
   "source": [
    "# Take these attributes and run a multiple logistic regression on these attributes, and check that the test accuracy was as good as with all attributes.\n",
    "if len(accuracy_drop_attrs) > 0:\n",
    "    new_accuracy = compute_avg_accuracy(accuracy_drop_attrs, df, num_runs=10)\n",
    "    print(f'The accuracy of the regression with the dropped attributes is {new_accuracy:.3f}.')\n",
    "    if new_accuracy < avg_accuracy * (1-relative_drop): \n",
    "        print(\"Accuracy of regression with dropped attributes is not as good as with all attributes.\")\n",
    "\n",
    "    # Try dropping each of the attributes that caused a drop in accuracy and verify that the accuracy drops significantly\n",
    "    for attr in accuracy_drop_attrs:\n",
    "        attr_accuracy = compute_avg_accuracy(list(recorded_metrics.keys() - {attr}), df, num_runs=1)\n",
    "        if attr_accuracy > avg_accuracy * (1-relative_drop): \n",
    "            print(f'The accuracy of the regression with ({format_attr(attr)}) dropped is not significantly lower than with all attributes ({avg_accuracy:.3f}).')\n",
    "    print()\n",
    "\n",
    "    # Try adding each of the attributes that did not cause a drop in accuracy and see if the accuracy increases significantly\n",
    "    for attr in list(recorded_metrics.keys() - set(accuracy_drop_attrs)):\n",
    "        attr_accuracy = compute_avg_accuracy(list(recorded_metrics.keys() | {attr}), df, num_runs=1)\n",
    "        if attr_accuracy > avg_accuracy * (1-relative_drop): \n",
    "            print(f'The accuracy of the regression with ({format_attr(attr)}) added is not significantly higher than with all attributes.')"
   ]
  },
  {
   "cell_type": "code",
   "execution_count": 25,
   "id": "927b82c3",
   "metadata": {},
   "outputs": [
    {
     "name": "stdout",
     "output_type": "stream",
     "text": [
      "+--------------------------------------------------------------+-------------+\n",
      "|                          \u001b[1mAttribute\u001b[0m                           | \u001b[1mCoefficient\u001b[0m |\n",
      "+--------------------------------------------------------------+-------------+\n",
      "|           \u001b[1mSteps between cheese and decision square\u001b[0m           |    -0.826   |\n",
      "|    \u001b[1mEuclidean distance between cheese and decision square\u001b[0m     |    -0.505   |\n",
      "|    \u001b[1mEuclidean distance between cheese and top right square\u001b[0m    |    -2.629   |\n",
      "| \u001b[1mEuclidean distance between decision square and top-right 5x5\u001b[0m |    1.300    |\n",
      "|                          Intercept                           |    1.376    |\n",
      "+--------------------------------------------------------------+-------------+\n",
      "Claimed attributes obtain accuracy of 0.845, which is 0.374 absolute percent less than when all features are used.\n"
     ]
    }
   ],
   "source": [
    "claimed_accuracy = compute_avg_accuracy(claimed_attributes, df, num_runs=10)\n",
    "clf = run_regression(claimed_attributes, df)\n",
    "display_coeff_table(clf, claimed_attributes)\n",
    "print(f'Claimed attributes obtain accuracy of {claimed_accuracy:.3f}, which is {(avg_accuracy - claimed_accuracy)*100:.3f} absolute percent less than when all features are used.')"
   ]
  },
  {
   "attachments": {},
   "cell_type": "markdown",
   "id": "116e6e4c",
   "metadata": {},
   "source": [
    "## Robustness to regressing on random subsets of attributes\n",
    "\n",
    "When regressing on related factors (e.g. Euclidean and step distance to cheese from decision square), we might wonder: \"Did these coefficients only come out this way as a fluke of the regression itself?\". For example, factor subset X may induce feature $a$ to have a positive coefficient, while a different factor subset Y induces $a$ with a negative regression coefficient. Encouragingly, the signs of our claimed attributes are highly robust to which set of factors we regress upon."
   ]
  },
  {
   "cell_type": "code",
   "execution_count": 26,
   "id": "224e12a0",
   "metadata": {},
   "outputs": [],
   "source": [
    "def run_subset_regression(data_frame : pd.DataFrame, n_attrs : int, verbose : bool = False) -> Tuple[Any, List[str]]:\n",
    "    \"\"\" Runs a regression on the data frame using a random subset of n_attrs attributes. Returns the clf and the attributes used. \"\"\"\n",
    "    attrs = random.sample(list(recorded_metrics.keys() - {'cheese'}), n_attrs)\n",
    "    clf = run_regression(attrs, train)\n",
    "    \n",
    "    if verbose: display_coeff_table(clf, attrs)\n",
    "\n",
    "    return clf, attrs\n",
    "\n",
    "def check_claimed_signs(clf : Any, attrs : List[str], data_frame : pd.DataFrame, verbose : bool = False) -> Dict[str, int]:\n",
    "    \"\"\" Checks if the signs of the regression coefficients for the given attributes match regression_coeff_signs. Returns a dictionary which counts the number of times each attribute had the wrong sign. \"\"\"\n",
    "    counters = defaultdict(int)\n",
    "\n",
    "    for i, attr in enumerate(attrs):\n",
    "        if attr not in regression_coeff_signs.keys() or attr in counters: continue\n",
    "        assert attr in data_frame, f\"Attribute {attr} not in data frame\"\n",
    "        if (clf.coef_[0][i] >= 0) != regression_coeff_signs[attr]:\n",
    "            if verbose: \n",
    "                print(f\"Attribute {attr} has incorrect sign; expected {regression_coeff_signs[attr]} but got {clf.coef_[0][i] >= 0}\")\n",
    "                display_coeff_table(clf, attrs)\n",
    "            counters[attr] += 1 # Increment the attribute that had the incorrect sign\n",
    "    return counters\n",
    "\n",
    "# Run the regression multiple times and check the signs\n",
    "# See distribution of sign errors over multiple runs\n",
    "counter = { attr: 0 for attr in claimed_attributes }\n",
    "n_rand_runs = 200 \n",
    "for x in range(n_rand_runs):\n",
    "    # Draw a random number of attributes to use\n",
    "    n_attrs = random.randint(1, len(recorded_metrics.keys()) - 1)\n",
    "    clf, attrs = run_subset_regression(train, n_attrs)\n",
    "    new_counter = check_claimed_signs(clf, attrs, train, verbose=False)\n",
    "    for key in new_counter.keys():  \n",
    "        counter[key] += new_counter[key]"
   ]
  },
  {
   "cell_type": "code",
   "execution_count": 27,
   "id": "d96cd3ac",
   "metadata": {},
   "outputs": [
    {
     "name": "stdout",
     "output_type": "stream",
     "text": [
      "+--------------------------------------------------------------+-----------------------------+\n",
      "|                          Attribute                           | % of runs with flipped sign |\n",
      "+--------------------------------------------------------------+-----------------------------+\n",
      "|           Steps between cheese and decision square           |             0.0             |\n",
      "|    Euclidean distance between cheese and decision square     |             0.5             |\n",
      "|    Euclidean distance between cheese and top right square    |             0.5             |\n",
      "| Euclidean distance between decision square and top-right 5x5 |             5.5             |\n",
      "+--------------------------------------------------------------+-----------------------------+\n"
     ]
    }
   ],
   "source": [
    "# Print a table displaying the percentage of times each attribute had the wrong sign\n",
    "sign_table = prettytable.PrettyTable()\n",
    "sign_table.field_names = [\"Attribute\", \"% of runs with flipped sign\"] \n",
    "for key in counter.keys():\n",
    "    sign_table.add_row([english_attr(key), counter[key] / n_rand_runs * 100])\n",
    "print(sign_table)"
   ]
  },
  {
   "attachments": {},
   "cell_type": "markdown",
   "id": "83f3df78",
   "metadata": {},
   "source": [
    "## Variation inflation factor (VIF)\n",
    "As I (Alex) understand it, VIF measures how much of the variance of the regression coefficients are due to multicollinearity. Restricting our attention to the features mentioned in the post, the VIF scores are medium-high (but tolerable), while including all features leads to extremely high VIF. This is some weak further evidence that our regression was not a statistical fluke or modeling decision (but I'm not a statistician!)."
   ]
  },
  {
   "cell_type": "code",
   "execution_count": 28,
   "id": "8ba3bf95",
   "metadata": {},
   "outputs": [
    {
     "name": "stdout",
     "output_type": "stream",
     "text": [
      "\n",
      "VIF for claimed attributes\n",
      "                               Features       VIF\n",
      "0  steps_between_cheese_decision_square  4.649812\n",
      "1       euc_dist_cheese_decision_square  4.669986\n",
      "2             euc_dist_cheese_top_right  2.620124\n",
      "3          euc_dist_decision_square_5x5  2.569385\n",
      "\n",
      "VIF for all attributes\n",
      "                                   Features          VIF\n",
      "0           euc_dist_cheese_decision_square    34.813221\n",
      "1          taxi_dist_cheese_decision_square    31.922247\n",
      "2      steps_between_cheese_decision_square          inf\n",
      "3            steps_between_cheese_top_right          inf\n",
      "4                 euc_dist_cheese_top_right  1008.796065\n",
      "5                taxi_dist_cheese_top_right   185.542253\n",
      "6        euc_dist_decision_square_top_right   849.361266\n",
      "7       taxi_dist_decision_square_top_right   472.831023\n",
      "8   steps_between_decision_square_top_right          inf\n",
      "9                  steps_between_cheese_5x5    12.111153\n",
      "10        steps_between_decision_square_5x5    30.564062\n",
      "11                      euc_dist_cheese_5x5   571.094823\n",
      "12                     taxi_dist_cheese_5x5    93.560493\n",
      "13             euc_dist_decision_square_5x5   460.061302\n",
      "14            taxi_dist_decision_square_5x5   251.892851\n",
      "15                        cheese_coord_norm     3.011046\n"
     ]
    }
   ],
   "source": [
    "# Let's compute VIF (variance inflation factor) for each attribute\n",
    "# This is a measure of how much the variance of the coefficient is inflated due to multicollinearity\n",
    "# Above 5 is usually considered to be a sign of that\n",
    "from statsmodels.stats.outliers_influence import variance_inflation_factor\n",
    "\n",
    "# Ignore runtime warnings due to division by 0 from R2=1\n",
    "import warnings\n",
    "warnings.filterwarnings(\"ignore\")\n",
    "\n",
    "for attrs in [claimed_attributes, recorded_metrics.keys()]:\n",
    "    print()\n",
    "    print(\"VIF for claimed attributes\" if attrs == claimed_attributes else \"VIF for all attributes\")\n",
    "    vif = pd.DataFrame()\n",
    "    vif[\"Features\"] = df[attrs].columns\n",
    "    vif[\"VIF\"] = [variance_inflation_factor(df[attrs].values, i) for i in range(df[attrs].shape[1])]\n",
    "\n",
    "    print(vif)"
   ]
  }
 ],
 "metadata": {
  "kernelspec": {
   "display_name": "MATS",
   "language": "python",
   "name": "python3"
  },
  "language_info": {
   "codemirror_mode": {
    "name": "ipython",
    "version": 3
   },
   "file_extension": ".py",
   "mimetype": "text/x-python",
   "name": "python",
   "nbconvert_exporter": "python",
   "pygments_lexer": "ipython3",
   "version": "3.10.9"
  },
  "vscode": {
   "interpreter": {
    "hash": "4c77f2f46953a93e2cdf30c808e94602375d16ad6294e549473c1f301bc8b554"
   }
  }
 },
 "nbformat": 4,
 "nbformat_minor": 5
}
