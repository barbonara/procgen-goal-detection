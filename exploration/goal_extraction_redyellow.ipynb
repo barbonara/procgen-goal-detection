{
 "cells": [
  {
   "attachments": {},
   "cell_type": "markdown",
   "metadata": {},
   "source": [
    "Infrastructure based on:\n",
    "https://s3.us-west-2.amazonaws.com/montemac.share/probing_main.html\n",
    "\n",
    "We want to use probes on each channel\n"
   ]
  },
  {
   "cell_type": "code",
   "execution_count": 1,
   "metadata": {},
   "outputs": [
    {
     "data": {
      "application/javascript": "(function(root) {\n  function now() {\n    return new Date();\n  }\n\n  var force = true;\n  var py_version = '3.1.1'.replace('rc', '-rc.').replace('.dev', '-dev.');\n  var is_dev = py_version.indexOf(\"+\") !== -1 || py_version.indexOf(\"-\") !== -1;\n  var reloading = false;\n  var Bokeh = root.Bokeh;\n  var bokeh_loaded = Bokeh != null && (Bokeh.version === py_version || (Bokeh.versions !== undefined && Bokeh.versions.has(py_version)));\n\n  if (typeof (root._bokeh_timeout) === \"undefined\" || force) {\n    root._bokeh_timeout = Date.now() + 5000;\n    root._bokeh_failed_load = false;\n  }\n\n  function run_callbacks() {\n    try {\n      root._bokeh_onload_callbacks.forEach(function(callback) {\n        if (callback != null)\n          callback();\n      });\n    } finally {\n      delete root._bokeh_onload_callbacks;\n    }\n    console.debug(\"Bokeh: all callbacks have finished\");\n  }\n\n  function load_libs(css_urls, js_urls, js_modules, js_exports, callback) {\n    if (css_urls == null) css_urls = [];\n    if (js_urls == null) js_urls = [];\n    if (js_modules == null) js_modules = [];\n    if (js_exports == null) js_exports = {};\n\n    root._bokeh_onload_callbacks.push(callback);\n\n    if (root._bokeh_is_loading > 0) {\n      console.debug(\"Bokeh: BokehJS is being loaded, scheduling callback at\", now());\n      return null;\n    }\n    if (js_urls.length === 0 && js_modules.length === 0 && Object.keys(js_exports).length === 0) {\n      run_callbacks();\n      return null;\n    }\n    if (!reloading) {\n      console.debug(\"Bokeh: BokehJS not loaded, scheduling load and callback at\", now());\n    }\n\n    function on_load() {\n      root._bokeh_is_loading--;\n      if (root._bokeh_is_loading === 0) {\n        console.debug(\"Bokeh: all BokehJS libraries/stylesheets loaded\");\n        run_callbacks()\n      }\n    }\n    window._bokeh_on_load = on_load\n\n    function on_error() {\n      console.error(\"failed to load \" + url);\n    }\n\n    var skip = [];\n    if (window.requirejs) {\n      window.requirejs.config({'packages': {}, 'paths': {'jspanel': 'https://cdn.jsdelivr.net/npm/jspanel4@4.12.0/dist/jspanel', 'jspanel-modal': 'https://cdn.jsdelivr.net/npm/jspanel4@4.12.0/dist/extensions/modal/jspanel.modal', 'jspanel-tooltip': 'https://cdn.jsdelivr.net/npm/jspanel4@4.12.0/dist/extensions/tooltip/jspanel.tooltip', 'jspanel-hint': 'https://cdn.jsdelivr.net/npm/jspanel4@4.12.0/dist/extensions/hint/jspanel.hint', 'jspanel-layout': 'https://cdn.jsdelivr.net/npm/jspanel4@4.12.0/dist/extensions/layout/jspanel.layout', 'jspanel-contextmenu': 'https://cdn.jsdelivr.net/npm/jspanel4@4.12.0/dist/extensions/contextmenu/jspanel.contextmenu', 'jspanel-dock': 'https://cdn.jsdelivr.net/npm/jspanel4@4.12.0/dist/extensions/dock/jspanel.dock', 'gridstack': 'https://cdn.jsdelivr.net/npm/gridstack@7.2.3/dist/gridstack-all', 'notyf': 'https://cdn.jsdelivr.net/npm/notyf@3/notyf.min'}, 'shim': {'jspanel': {'exports': 'jsPanel'}, 'gridstack': {'exports': 'GridStack'}}});\n      require([\"jspanel\"], function(jsPanel) {\n\twindow.jsPanel = jsPanel\n\ton_load()\n      })\n      require([\"jspanel-modal\"], function() {\n\ton_load()\n      })\n      require([\"jspanel-tooltip\"], function() {\n\ton_load()\n      })\n      require([\"jspanel-hint\"], function() {\n\ton_load()\n      })\n      require([\"jspanel-layout\"], function() {\n\ton_load()\n      })\n      require([\"jspanel-contextmenu\"], function() {\n\ton_load()\n      })\n      require([\"jspanel-dock\"], function() {\n\ton_load()\n      })\n      require([\"gridstack\"], function(GridStack) {\n\twindow.GridStack = GridStack\n\ton_load()\n      })\n      require([\"notyf\"], function() {\n\ton_load()\n      })\n      root._bokeh_is_loading = css_urls.length + 9;\n    } else {\n      root._bokeh_is_loading = css_urls.length + js_urls.length + js_modules.length + Object.keys(js_exports).length;\n    }\n\n    var existing_stylesheets = []\n    var links = document.getElementsByTagName('link')\n    for (var i = 0; i < links.length; i++) {\n      var link = links[i]\n      if (link.href != null) {\n\texisting_stylesheets.push(link.href)\n      }\n    }\n    for (var i = 0; i < css_urls.length; i++) {\n      var url = css_urls[i];\n      if (existing_stylesheets.indexOf(url) !== -1) {\n\ton_load()\n\tcontinue;\n      }\n      const element = document.createElement(\"link\");\n      element.onload = on_load;\n      element.onerror = on_error;\n      element.rel = \"stylesheet\";\n      element.type = \"text/css\";\n      element.href = url;\n      console.debug(\"Bokeh: injecting link tag for BokehJS stylesheet: \", url);\n      document.body.appendChild(element);\n    }    if (((window['jsPanel'] !== undefined) && (!(window['jsPanel'] instanceof HTMLElement))) || window.requirejs) {\n      var urls = ['https://cdn.holoviz.org/panel/1.2.0/dist/bundled/floatpanel/jspanel4@4.12.0/dist/jspanel.js', 'https://cdn.holoviz.org/panel/1.2.0/dist/bundled/floatpanel/jspanel4@4.12.0/dist/extensions/modal/jspanel.modal.js', 'https://cdn.holoviz.org/panel/1.2.0/dist/bundled/floatpanel/jspanel4@4.12.0/dist/extensions/tooltip/jspanel.tooltip.js', 'https://cdn.holoviz.org/panel/1.2.0/dist/bundled/floatpanel/jspanel4@4.12.0/dist/extensions/hint/jspanel.hint.js', 'https://cdn.holoviz.org/panel/1.2.0/dist/bundled/floatpanel/jspanel4@4.12.0/dist/extensions/layout/jspanel.layout.js', 'https://cdn.holoviz.org/panel/1.2.0/dist/bundled/floatpanel/jspanel4@4.12.0/dist/extensions/contextmenu/jspanel.contextmenu.js', 'https://cdn.holoviz.org/panel/1.2.0/dist/bundled/floatpanel/jspanel4@4.12.0/dist/extensions/dock/jspanel.dock.js'];\n      for (var i = 0; i < urls.length; i++) {\n        skip.push(urls[i])\n      }\n    }    if (((window['GridStack'] !== undefined) && (!(window['GridStack'] instanceof HTMLElement))) || window.requirejs) {\n      var urls = ['https://cdn.holoviz.org/panel/1.2.0/dist/bundled/gridstack/gridstack@7.2.3/dist/gridstack-all.js'];\n      for (var i = 0; i < urls.length; i++) {\n        skip.push(urls[i])\n      }\n    }    if (((window['Notyf'] !== undefined) && (!(window['Notyf'] instanceof HTMLElement))) || window.requirejs) {\n      var urls = ['https://cdn.holoviz.org/panel/1.2.0/dist/bundled/notificationarea/notyf@3/notyf.min.js'];\n      for (var i = 0; i < urls.length; i++) {\n        skip.push(urls[i])\n      }\n    }    var existing_scripts = []\n    var scripts = document.getElementsByTagName('script')\n    for (var i = 0; i < scripts.length; i++) {\n      var script = scripts[i]\n      if (script.src != null) {\n\texisting_scripts.push(script.src)\n      }\n    }\n    for (var i = 0; i < js_urls.length; i++) {\n      var url = js_urls[i];\n      if (skip.indexOf(url) !== -1 || existing_scripts.indexOf(url) !== -1) {\n\tif (!window.requirejs) {\n\t  on_load();\n\t}\n\tcontinue;\n      }\n      var element = document.createElement('script');\n      element.onload = on_load;\n      element.onerror = on_error;\n      element.async = false;\n      element.src = url;\n      console.debug(\"Bokeh: injecting script tag for BokehJS library: \", url);\n      document.head.appendChild(element);\n    }\n    for (var i = 0; i < js_modules.length; i++) {\n      var url = js_modules[i];\n      if (skip.indexOf(url) !== -1 || existing_scripts.indexOf(url) !== -1) {\n\tif (!window.requirejs) {\n\t  on_load();\n\t}\n\tcontinue;\n      }\n      var element = document.createElement('script');\n      element.onload = on_load;\n      element.onerror = on_error;\n      element.async = false;\n      element.src = url;\n      element.type = \"module\";\n      console.debug(\"Bokeh: injecting script tag for BokehJS library: \", url);\n      document.head.appendChild(element);\n    }\n    for (const name in js_exports) {\n      var url = js_exports[name];\n      if (skip.indexOf(url) >= 0 || root[name] != null) {\n\tif (!window.requirejs) {\n\t  on_load();\n\t}\n\tcontinue;\n      }\n      var element = document.createElement('script');\n      element.onerror = on_error;\n      element.async = false;\n      element.type = \"module\";\n      console.debug(\"Bokeh: injecting script tag for BokehJS library: \", url);\n      element.textContent = `\n      import ${name} from \"${url}\"\n      window.${name} = ${name}\n      window._bokeh_on_load()\n      `\n      document.head.appendChild(element);\n    }\n    if (!js_urls.length && !js_modules.length) {\n      on_load()\n    }\n  };\n\n  function inject_raw_css(css) {\n    const element = document.createElement(\"style\");\n    element.appendChild(document.createTextNode(css));\n    document.body.appendChild(element);\n  }\n\n  var js_urls = [\"https://cdn.bokeh.org/bokeh/release/bokeh-3.1.1.min.js\", \"https://cdn.bokeh.org/bokeh/release/bokeh-gl-3.1.1.min.js\", \"https://cdn.bokeh.org/bokeh/release/bokeh-widgets-3.1.1.min.js\", \"https://cdn.bokeh.org/bokeh/release/bokeh-tables-3.1.1.min.js\", \"https://cdn.holoviz.org/panel/1.2.0/dist/panel.min.js\"];\n  var js_modules = [];\n  var js_exports = {};\n  var css_urls = [];\n  var inline_js = [    function(Bokeh) {\n      Bokeh.set_log_level(\"info\");\n    },\nfunction(Bokeh) {} // ensure no trailing comma for IE\n  ];\n\n  function run_inline_js() {\n    if ((root.Bokeh !== undefined) || (force === true)) {\n      for (var i = 0; i < inline_js.length; i++) {\n        inline_js[i].call(root, root.Bokeh);\n      }\n      // Cache old bokeh versions\n      if (Bokeh != undefined && !reloading) {\n\tvar NewBokeh = root.Bokeh;\n\tif (Bokeh.versions === undefined) {\n\t  Bokeh.versions = new Map();\n\t}\n\tif (NewBokeh.version !== Bokeh.version) {\n\t  Bokeh.versions.set(NewBokeh.version, NewBokeh)\n\t}\n\troot.Bokeh = Bokeh;\n      }} else if (Date.now() < root._bokeh_timeout) {\n      setTimeout(run_inline_js, 100);\n    } else if (!root._bokeh_failed_load) {\n      console.log(\"Bokeh: BokehJS failed to load within specified timeout.\");\n      root._bokeh_failed_load = true;\n    }\n    root._bokeh_is_initializing = false\n  }\n\n  function load_or_wait() {\n    // Implement a backoff loop that tries to ensure we do not load multiple\n    // versions of Bokeh and its dependencies at the same time.\n    // In recent versions we use the root._bokeh_is_initializing flag\n    // to determine whether there is an ongoing attempt to initialize\n    // bokeh, however for backward compatibility we also try to ensure\n    // that we do not start loading a newer (Panel>=1.0 and Bokeh>3) version\n    // before older versions are fully initialized.\n    if (root._bokeh_is_initializing && Date.now() > root._bokeh_timeout) {\n      root._bokeh_is_initializing = false;\n      root._bokeh_onload_callbacks = undefined;\n      console.log(\"Bokeh: BokehJS was loaded multiple times but one version failed to initialize.\");\n      load_or_wait();\n    } else if (root._bokeh_is_initializing || (typeof root._bokeh_is_initializing === \"undefined\" && root._bokeh_onload_callbacks !== undefined)) {\n      setTimeout(load_or_wait, 100);\n    } else {\n      Bokeh = root.Bokeh;\n      bokeh_loaded = Bokeh != null && (Bokeh.version === py_version || (Bokeh.versions !== undefined && Bokeh.versions.has(py_version)));\n      root._bokeh_is_initializing = true\n      root._bokeh_onload_callbacks = []\n      if (!reloading && (!bokeh_loaded || is_dev)) {\n\troot.Bokeh = undefined;\n      }\n      load_libs(css_urls, js_urls, js_modules, js_exports, function() {\n\tconsole.debug(\"Bokeh: BokehJS plotting callback run at\", now());\n\trun_inline_js();\n      });\n    }\n  }\n  // Give older versions of the autoload script a head-start to ensure\n  // they initialize before we start loading newer version.\n  setTimeout(load_or_wait, 100)\n}(window));",
      "application/vnd.holoviews_load.v0+json": ""
     },
     "metadata": {},
     "output_type": "display_data"
    },
    {
     "data": {
      "application/javascript": "\nif ((window.PyViz === undefined) || (window.PyViz instanceof HTMLElement)) {\n  window.PyViz = {comms: {}, comm_status:{}, kernels:{}, receivers: {}, plot_index: []}\n}\n\n\n    function JupyterCommManager() {\n    }\n\n    JupyterCommManager.prototype.register_target = function(plot_id, comm_id, msg_handler) {\n      if (window.comm_manager || ((window.Jupyter !== undefined) && (Jupyter.notebook.kernel != null))) {\n        var comm_manager = window.comm_manager || Jupyter.notebook.kernel.comm_manager;\n        comm_manager.register_target(comm_id, function(comm) {\n          comm.on_msg(msg_handler);\n        });\n      } else if ((plot_id in window.PyViz.kernels) && (window.PyViz.kernels[plot_id])) {\n        window.PyViz.kernels[plot_id].registerCommTarget(comm_id, function(comm) {\n          comm.onMsg = msg_handler;\n        });\n      } else if (typeof google != 'undefined' && google.colab.kernel != null) {\n        google.colab.kernel.comms.registerTarget(comm_id, (comm) => {\n          var messages = comm.messages[Symbol.asyncIterator]();\n          function processIteratorResult(result) {\n            var message = result.value;\n            console.log(message)\n            var content = {data: message.data, comm_id};\n            var buffers = []\n            for (var buffer of message.buffers || []) {\n              buffers.push(new DataView(buffer))\n            }\n            var metadata = message.metadata || {};\n            var msg = {content, buffers, metadata}\n            msg_handler(msg);\n            return messages.next().then(processIteratorResult);\n          }\n          return messages.next().then(processIteratorResult);\n        })\n      }\n    }\n\n    JupyterCommManager.prototype.get_client_comm = function(plot_id, comm_id, msg_handler) {\n      if (comm_id in window.PyViz.comms) {\n        return window.PyViz.comms[comm_id];\n      } else if (window.comm_manager || ((window.Jupyter !== undefined) && (Jupyter.notebook.kernel != null))) {\n        var comm_manager = window.comm_manager || Jupyter.notebook.kernel.comm_manager;\n        var comm = comm_manager.new_comm(comm_id, {}, {}, {}, comm_id);\n        if (msg_handler) {\n          comm.on_msg(msg_handler);\n        }\n      } else if ((plot_id in window.PyViz.kernels) && (window.PyViz.kernels[plot_id])) {\n        var comm = window.PyViz.kernels[plot_id].connectToComm(comm_id);\n        comm.open();\n        if (msg_handler) {\n          comm.onMsg = msg_handler;\n        }\n      } else if (typeof google != 'undefined' && google.colab.kernel != null) {\n        var comm_promise = google.colab.kernel.comms.open(comm_id)\n        comm_promise.then((comm) => {\n          window.PyViz.comms[comm_id] = comm;\n          if (msg_handler) {\n            var messages = comm.messages[Symbol.asyncIterator]();\n            function processIteratorResult(result) {\n              var message = result.value;\n              var content = {data: message.data};\n              var metadata = message.metadata || {comm_id};\n              var msg = {content, metadata}\n              msg_handler(msg);\n              return messages.next().then(processIteratorResult);\n            }\n            return messages.next().then(processIteratorResult);\n          }\n        }) \n        var sendClosure = (data, metadata, buffers, disposeOnDone) => {\n          return comm_promise.then((comm) => {\n            comm.send(data, metadata, buffers, disposeOnDone);\n          });\n        };\n        var comm = {\n          send: sendClosure\n        };\n      }\n      window.PyViz.comms[comm_id] = comm;\n      return comm;\n    }\n    window.PyViz.comm_manager = new JupyterCommManager();\n    \n\n\nvar JS_MIME_TYPE = 'application/javascript';\nvar HTML_MIME_TYPE = 'text/html';\nvar EXEC_MIME_TYPE = 'application/vnd.holoviews_exec.v0+json';\nvar CLASS_NAME = 'output';\n\n/**\n * Render data to the DOM node\n */\nfunction render(props, node) {\n  var div = document.createElement(\"div\");\n  var script = document.createElement(\"script\");\n  node.appendChild(div);\n  node.appendChild(script);\n}\n\n/**\n * Handle when a new output is added\n */\nfunction handle_add_output(event, handle) {\n  var output_area = handle.output_area;\n  var output = handle.output;\n  if ((output.data == undefined) || (!output.data.hasOwnProperty(EXEC_MIME_TYPE))) {\n    return\n  }\n  var id = output.metadata[EXEC_MIME_TYPE][\"id\"];\n  var toinsert = output_area.element.find(\".\" + CLASS_NAME.split(' ')[0]);\n  if (id !== undefined) {\n    var nchildren = toinsert.length;\n    var html_node = toinsert[nchildren-1].children[0];\n    html_node.innerHTML = output.data[HTML_MIME_TYPE];\n    var scripts = [];\n    var nodelist = html_node.querySelectorAll(\"script\");\n    for (var i in nodelist) {\n      if (nodelist.hasOwnProperty(i)) {\n        scripts.push(nodelist[i])\n      }\n    }\n\n    scripts.forEach( function (oldScript) {\n      var newScript = document.createElement(\"script\");\n      var attrs = [];\n      var nodemap = oldScript.attributes;\n      for (var j in nodemap) {\n        if (nodemap.hasOwnProperty(j)) {\n          attrs.push(nodemap[j])\n        }\n      }\n      attrs.forEach(function(attr) { newScript.setAttribute(attr.name, attr.value) });\n      newScript.appendChild(document.createTextNode(oldScript.innerHTML));\n      oldScript.parentNode.replaceChild(newScript, oldScript);\n    });\n    if (JS_MIME_TYPE in output.data) {\n      toinsert[nchildren-1].children[1].textContent = output.data[JS_MIME_TYPE];\n    }\n    output_area._hv_plot_id = id;\n    if ((window.Bokeh !== undefined) && (id in Bokeh.index)) {\n      window.PyViz.plot_index[id] = Bokeh.index[id];\n    } else {\n      window.PyViz.plot_index[id] = null;\n    }\n  } else if (output.metadata[EXEC_MIME_TYPE][\"server_id\"] !== undefined) {\n    var bk_div = document.createElement(\"div\");\n    bk_div.innerHTML = output.data[HTML_MIME_TYPE];\n    var script_attrs = bk_div.children[0].attributes;\n    for (var i = 0; i < script_attrs.length; i++) {\n      toinsert[toinsert.length - 1].childNodes[1].setAttribute(script_attrs[i].name, script_attrs[i].value);\n    }\n    // store reference to server id on output_area\n    output_area._bokeh_server_id = output.metadata[EXEC_MIME_TYPE][\"server_id\"];\n  }\n}\n\n/**\n * Handle when an output is cleared or removed\n */\nfunction handle_clear_output(event, handle) {\n  var id = handle.cell.output_area._hv_plot_id;\n  var server_id = handle.cell.output_area._bokeh_server_id;\n  if (((id === undefined) || !(id in PyViz.plot_index)) && (server_id !== undefined)) { return; }\n  var comm = window.PyViz.comm_manager.get_client_comm(\"hv-extension-comm\", \"hv-extension-comm\", function () {});\n  if (server_id !== null) {\n    comm.send({event_type: 'server_delete', 'id': server_id});\n    return;\n  } else if (comm !== null) {\n    comm.send({event_type: 'delete', 'id': id});\n  }\n  delete PyViz.plot_index[id];\n  if ((window.Bokeh !== undefined) & (id in window.Bokeh.index)) {\n    var doc = window.Bokeh.index[id].model.document\n    doc.clear();\n    const i = window.Bokeh.documents.indexOf(doc);\n    if (i > -1) {\n      window.Bokeh.documents.splice(i, 1);\n    }\n  }\n}\n\n/**\n * Handle kernel restart event\n */\nfunction handle_kernel_cleanup(event, handle) {\n  delete PyViz.comms[\"hv-extension-comm\"];\n  window.PyViz.plot_index = {}\n}\n\n/**\n * Handle update_display_data messages\n */\nfunction handle_update_output(event, handle) {\n  handle_clear_output(event, {cell: {output_area: handle.output_area}})\n  handle_add_output(event, handle)\n}\n\nfunction register_renderer(events, OutputArea) {\n  function append_mime(data, metadata, element) {\n    // create a DOM node to render to\n    var toinsert = this.create_output_subarea(\n    metadata,\n    CLASS_NAME,\n    EXEC_MIME_TYPE\n    );\n    this.keyboard_manager.register_events(toinsert);\n    // Render to node\n    var props = {data: data, metadata: metadata[EXEC_MIME_TYPE]};\n    render(props, toinsert[0]);\n    element.append(toinsert);\n    return toinsert\n  }\n\n  events.on('output_added.OutputArea', handle_add_output);\n  events.on('output_updated.OutputArea', handle_update_output);\n  events.on('clear_output.CodeCell', handle_clear_output);\n  events.on('delete.Cell', handle_clear_output);\n  events.on('kernel_ready.Kernel', handle_kernel_cleanup);\n\n  OutputArea.prototype.register_mime_type(EXEC_MIME_TYPE, append_mime, {\n    safe: true,\n    index: 0\n  });\n}\n\nif (window.Jupyter !== undefined) {\n  try {\n    var events = require('base/js/events');\n    var OutputArea = require('notebook/js/outputarea').OutputArea;\n    if (OutputArea.prototype.mime_types().indexOf(EXEC_MIME_TYPE) == -1) {\n      register_renderer(events, OutputArea);\n    }\n  } catch(err) {\n  }\n}\n",
      "application/vnd.holoviews_load.v0+json": ""
     },
     "metadata": {},
     "output_type": "display_data"
    },
    {
     "data": {
      "text/html": [
       "<style>*[data-root-id],\n",
       "*[data-root-id] > * {\n",
       "  box-sizing: border-box;\n",
       "  font-family: var(--jp-ui-font-family);\n",
       "  font-size: var(--jp-ui-font-size1);\n",
       "  color: var(--vscode-editor-foreground, var(--jp-ui-font-color1));\n",
       "}\n",
       "\n",
       "/* Override VSCode background color */\n",
       ".cell-output-ipywidget-background:has(\n",
       "    > .cell-output-ipywidget-background > .lm-Widget > *[data-root-id]\n",
       "  ),\n",
       ".cell-output-ipywidget-background:has(> .lm-Widget > *[data-root-id]) {\n",
       "  background-color: transparent !important;\n",
       "}\n",
       "</style>"
      ]
     },
     "metadata": {},
     "output_type": "display_data"
    },
    {
     "name": "stdout",
     "output_type": "stream",
     "text": [
      "building procgen...done\n"
     ]
    }
   ],
   "source": [
    "# Imports\n",
    "%reload_ext autoreload\n",
    "%autoreload 2\n",
    "\n",
    "import os\n",
    "import pickle\n",
    "\n",
    "import numpy as np\n",
    "import pandas as pd\n",
    "import scipy as sp\n",
    "from sklearn.feature_selection import f_classif\n",
    "import torch as t\n",
    "import torch.nn.functional as f\n",
    "import xarray as xr\n",
    "import plotly.express as px\n",
    "import plotly as py\n",
    "import plotly.subplots\n",
    "import plotly.graph_objects as go\n",
    "from einops import rearrange, repeat\n",
    "from IPython.display import Video, display\n",
    "from tqdm.auto import tqdm\n",
    "import warnings\n",
    "\n",
    "# NOTE: this is Monte's RL hooking code (and other stuff will be added in the future)\n",
    "# Install normally with: pip install circrl\n",
    "import circrl.module_hook as cmh\n",
    "import circrl.rollouts as cro\n",
    "import circrl.probing as cpr\n",
    "\n",
    "import procgen_tools.models as models\n",
    "import procgen_tools.maze as maze\n",
    "\n",
    "warnings.filterwarnings(\"ignore\", message=r'.*labels with no predicted samples.*')\n",
    "\n",
    "# Hack to make sure cwd is the script folder\n",
    "os.chdir(globals()['_dh'][0])\n",
    "\n",
    "import procgen_tools\n",
    "import matplotlib.pyplot as plt\n",
    "from procgen_tools.imports import *\n",
    "from procgen_tools import visualization, maze, vfield, patch_utils\n",
    "\n"
   ]
  },
  {
   "cell_type": "code",
   "execution_count": 2,
   "metadata": {},
   "outputs": [],
   "source": [
    "# Number of mazes to work with\n",
    "\n",
    "num_batch = 200"
   ]
  },
  {
   "cell_type": "code",
   "execution_count": 3,
   "metadata": {},
   "outputs": [],
   "source": [
    "# Functions\n",
    "\n",
    "# Takes in a maze object, position in maze, venv (collection of environments), and returns labels regarding whether the position contains object\n",
    "def is_obj_in_pos(obj, pos, venv):\n",
    "    square_is_obj = []\n",
    "\n",
    "    for env_idx in range(venv.num_envs):\n",
    "        #maze.EnvState(dd[state_bytes_key])\n",
    "\n",
    "        square_is_obj.append(maze.state_from_venv(venv, env_idx).full_grid()[pos] == obj)\n",
    "\n",
    "    square_is_obj = np.array(square_is_obj, dtype=bool)\n",
    "    return square_is_obj\n",
    "\n",
    "# Train sparse linear probes on observation of model as a baseline\n",
    "\n",
    "def test_probes_on_obs( obj_is_in_pos_array, hook_to_use, index_nums = np.array([1, 2, 3, 4, 5, 6, 7, 8, 9, 10])):\n",
    "    results, _ = cpr.sparse_linear_probe(hook_to_use, ['embedder.block1.conv_in0'], obj_is_in_pos_array, \n",
    "        index_nums=index_nums, random_state=42, class_weight='balanced', max_iter=1000, C=10.)\n",
    "    #px.line(x=index_nums, y=results.score.isel(value_label=0)).show()\n",
    "    x = pd.DataFrame({'num_activations': index_nums, 'test_score': results.score.isel(value_label=0).values}).set_index('num_activations')\n",
    "    print(x)\n",
    "\n",
    "# Plot the sparse probe scores\n",
    "def plot_sparse_probe_scores(results, y, index_nums, title, include_limits=True):\n",
    "    scores_df = results.score.to_dataframe().reset_index()\n",
    "    scores_df['K'] = index_nums[scores_df['index_num_step']]\n",
    "    fig = px.line(scores_df, x='value_label', y='score', color='K', title=title)\n",
    "    if include_limits:\n",
    "        fig.add_hline(y=1., line_dash=\"dot\", annotation_text=\"perfect\", annotation_position=\"bottom right\")\n",
    "        baseline_score = abs(y.mean()-0.5) + 0.5\n",
    "        fig.add_hline(y=baseline_score, line_dash=\"dot\", annotation_text=\"baseline\", \n",
    "                annotation_position=\"bottom right\")\n",
    "    fig.show()\n",
    "\n",
    "# Apply probes to various layers in the network\n",
    "def test_probes_layers(obj_is_in_pos_array, hook_to_use, pos, index_nums = np.array([1, 2, 10, 50, 100]),\n",
    "    value_labels_to_plot = [\n",
    "        'embedder.block1.conv_in0',\n",
    "        'embedder.block1.res1.resadd_out',\n",
    "        'embedder.block1.res2.resadd_out',\n",
    "        'embedder.block2.res1.resadd_out',\n",
    "        'embedder.block2.res2.resadd_out',\n",
    "        'embedder.block3.res1.resadd_out',\n",
    "        'embedder.block3.res2.resadd_out']\n",
    "    ):\n",
    "\n",
    "\n",
    "    results, _ = cpr.sparse_linear_probe(hook_to_use, value_labels_to_plot, obj_is_in_pos_array,\n",
    "        index_nums = index_nums, random_state=42, class_weight='balanced', max_iter=10000, C=10.)\n",
    "\n",
    "\n",
    "    plot_sparse_probe_scores(results, obj_is_in_pos_array, index_nums, \n",
    "        f'Probe score over layers and K-values for {pos} \"is open\"')\n",
    "    \n",
    "\n",
    "# Get the probe target for object location\n",
    "def get_obj_loc_targets(venv, obj_value):\n",
    "    '''Get potential probe targets for y,x (row, col) location of an\n",
    "    object, where the object is specified by obj_value as the value\n",
    "    to match on in the maze grid array.'''\n",
    "    pos_arr = maze.get_object_pos_from_seq_of_states(\n",
    "        [maze.state_from_venv(venv, env_idx).state_bytes for env_idx in range(num_batch)], obj_value)\n",
    "    pos = xr.Dataset({\n",
    "        'y': xr.DataArray(pos_arr[:,0], dims=['batch']),\n",
    "        'x': xr.DataArray(pos_arr[:,1], dims=['batch'])}).assign_coords(\n",
    "            {'batch': np.arange(num_batch)})\n",
    "    return pos\n",
    "\n",
    "# Get the probe target for top right corner\n",
    "def get_top_right_loc_targets(venv):\n",
    "    '''Get potential probe targets for y,x (row, col) location of an\n",
    "    object, where the object is specified by obj_value as the value\n",
    "    to match on in the maze grid array.'''\n",
    "    # pos_arr is array of length len(state_bytes_seq) with (y,x) locations of object\n",
    "    # pos_arr = maze.get_object_pos_from_seq_of_states(\n",
    "    #     [maze.state_from_venv(venv, env_idx).state_bytes for env_idx in range(num_batch)], obj_value)\n",
    "    # Replace with top right corner coords\n",
    "    pos_arr = np.array([[maze.state_from_venv(venv,env_idx).inner_grid().shape[0]-1, maze.state_from_venv(venv,env_idx).inner_grid().shape[0]-1] for env_idx in range(num_batch)])\n",
    "    pos = xr.Dataset({\n",
    "        'y': xr.DataArray(pos_arr[:,0], dims=['batch']),\n",
    "        'x': xr.DataArray(pos_arr[:,1], dims=['batch'])}).assign_coords(\n",
    "            {'batch': np.arange(num_batch)})\n",
    "    return pos\n",
    "\n",
    "\n",
    "def euclidian_mouse_dist_to_top_right(grid: np.ndarray) -> float:\n",
    "    \"\"\"\n",
    "    Euclidian distance from (x,y) to the cheese. default heuristic for A*\n",
    "    \"\"\"\n",
    "    #print(grid)\n",
    "    grid_size = grid.shape[0]\n",
    "    \n",
    "\n",
    "    # venv = maze.venv_from_grid(grid)\n",
    "    # visualization.visualize_venv(\n",
    "    #     venv\n",
    "    # )\n",
    "    cx, cy = maze.get_mouse_pos(grid)\n",
    "    # print(grid_size-1, grid_size-1)\n",
    "    # print(cx,cy)\n",
    "    return np.sqrt((grid_size-1 - cx) ** 2 + (grid_size-1 - cy) ** 2)\n",
    "\n",
    "def get_mouse_dist_to_top_right(venv):\n",
    "    '''Get potential probe targets for y,x (row, col) location of an\n",
    "    object, where the object is specified by obj_value as the value\n",
    "    to match on in the maze grid array.'''\n",
    "    #print(euclidian_mouse_dist_to_top_right(maze.state_from_venv(venv, 0).inner_grid()))\n",
    "    dist = [euclidian_mouse_dist_to_top_right(maze.state_from_venv(venv, env_idx).inner_grid()) for env_idx in range(num_batch)]\n",
    "    dist_arr = np.array(dist)\n",
    "    return dist_arr\n",
    "\n",
    "def visualize_maze(state: maze.EnvState) -> None:\n",
    "    venv = maze.venv_from_grid(state.inner_grid())\n",
    "    visualization.visualize_venv(venv, render_padding=False)\n",
    "\n",
    "# Helper functions for conv probes\n",
    "# \n",
    "# Some helper functions\n",
    "def grid_coord_to_value_ind(full_grid_coord, value_size):\n",
    "    '''Pick the value index that covers the majority of the grid coord pixel'''\n",
    "    # TODO: I'm pretty sure this is the best groudned approach, but ch 55 responds better to the approach in probing_main.py\n",
    "    return np.floor((full_grid_coord+0.5) * value_size/maze.WORLD_DIM).astype(int)\n",
    "\n",
    "def value_ind_to_grid_coord(value_ind, value_size):\n",
    "    '''Pick the grid coordinate index whose center is closest to the center of the value pixel'''\n",
    "    return np.floor((value_ind+0.5) * maze.WORLD_DIM/value_size).astype(int)\n",
    "\n",
    "def get_obj_pos_data(value_label, object_pos, hook_to_use):\n",
    "    '''Pick the object location and a random other location without the object so we have a\n",
    "    balanced dataset of pixels 2x the original size.'''\n",
    "    rng = np.random.default_rng(15)\n",
    "    # TODO: vectorize this!    \n",
    "    value = hook_to_use.get_value_by_label(value_label)\n",
    "    value_size = value.shape[-1]\n",
    "    num_pixels = num_batch * 2\n",
    "    pixels = np.zeros((num_pixels, value.shape[1]))\n",
    "    is_obj = np.zeros(num_pixels, dtype=bool)\n",
    "    rows_in_value = np.zeros(num_pixels, dtype=int)\n",
    "    cols_in_value = np.zeros(num_pixels, dtype=int)\n",
    "    for bb in tqdm(range(obs_all.shape[0])):\n",
    "        # Cheese location (transform from full grid row/col to row/col in this value)\n",
    "        obj_pos_value = (grid_coord_to_value_ind(\n",
    "                maze.WORLD_DIM-1 - object_pos.y[bb].item(), value_size),\n",
    "            grid_coord_to_value_ind(object_pos.x[bb].item(), value_size))\n",
    "        pixels[bb,:] = value[bb,:,obj_pos_value[0],obj_pos_value[1]]\n",
    "        is_obj[bb] = True\n",
    "        rows_in_value[bb] = obj_pos_value[0]\n",
    "        cols_in_value[bb] = obj_pos_value[1]\n",
    "        # Random pixel that isn't the object location\n",
    "        bb_rand = bb + num_batch\n",
    "        random_pos = obj_pos_value\n",
    "        while random_pos == obj_pos_value:\n",
    "            random_pos = (rng.integers(value_size), rng.integers(value_size))\n",
    "        pixels[bb_rand,:] = value[bb,:,random_pos[0],random_pos[1]]\n",
    "        is_obj[bb_rand] = False\n",
    "        rows_in_value[bb_rand] = random_pos[0]\n",
    "        cols_in_value[bb_rand] = random_pos[1]\n",
    "    return pixels, is_obj, rows_in_value, cols_in_value\n",
    "\n",
    "# def show_f_test_results(pixels, target, target_name, rows_in_value, cols_in_value):\n",
    "#     f_test, _ = cpr.f_classif_fixed(pixels, target)\n",
    "#     f_test_df = pd.Series(f_test).sort_values(ascending=False)\n",
    "\n",
    "#     fig = px.line(y=f_test_df, title=f'Sorted {target_name} f-test scores for channels of<br>{value_label}',\n",
    "#         hover_data={'channel': f_test_df.index})\n",
    "#     fig.update_layout(\n",
    "#         xaxis_title=\"channel rank\",\n",
    "#         yaxis_title=\"f-test score\",)\n",
    "#     fig.show()\n",
    "\n",
    "#     print(list(f_test_df.index[:20]))\n",
    "\n",
    "#     for ch_ind in f_test_df.index[:2]:\n",
    "#         show_pixel_histogram(pixels, target, target_name, ch_ind)\n",
    "\n",
    "def make_pixel_data(value_labels, obj_pos, hook_to_use):\n",
    "    f_test_list = []\n",
    "    pixel_data = {}\n",
    "    for value_label in value_labels:\n",
    "        pixels, is_obj, rows_in_value, cols_in_value = get_obj_pos_data(value_label, obj_pos, hook_to_use)\n",
    "        f_test, _ = cpr.f_classif_fixed(pixels, is_obj)\n",
    "        sort_inds = np.argsort(f_test)[::-1]\n",
    "        pixel_data[value_label] = (pixels, is_obj, rows_in_value, cols_in_value, f_test, sort_inds)\n",
    "        f_test_list.append(pd.DataFrame(\n",
    "            {'layer': np.full(sort_inds.shape, value_label), 'rank': np.arange(len(sort_inds)),\n",
    "            'channel': sort_inds, 'f-score': f_test[sort_inds]}))\n",
    "        #show_f_test_results(pixels, is_obj, 'cheese', rows_in_value, cols_in_value)\n",
    "    f_test_df = pd.concat(f_test_list, axis='index')\n",
    "    return pixel_data, f_test_df\n",
    "    # px.line(f_test_df, x='rank', y='f-score', color='layer', hover_data=['channel'],\n",
    "    #     title='Ranked f-test scores for \"conv pixel contains cheese\" over resadd layers').show()\n",
    "\n",
    "def plot_linear_probe_score(hook, values_to_store, obj_pos, index_nums, model_name, object_name):\n",
    "\n",
    "    #Could try with just linear probes instead\n",
    "\n",
    "    results, _ = cpr.sparse_linear_probe(hook, values_to_store, obj_pos, model_type='ridge',\n",
    "        index_nums = index_nums, random_state=42, max_iter=10000, alpha=100.)\n",
    "\n",
    "    plot_sparse_probe_scores(results, obj_pos, index_nums, \n",
    "        f'Probe score over layers for: Model = {model_name}, abstraction = {object_name}',\n",
    "        include_limits=False)\n",
    "\n"
   ]
  },
  {
   "cell_type": "code",
   "execution_count": 34,
   "metadata": {},
   "outputs": [],
   "source": [
    "# Generate mazes:\n",
    "venv = maze.create_venv(num=num_batch, start_level=0, num_levels=0, env_name = \"maze\" )\n",
    "AX_SIZE = 2\n",
    "\n"
   ]
  },
  {
   "cell_type": "code",
   "execution_count": 35,
   "metadata": {},
   "outputs": [],
   "source": [
    "# Load models:\n",
    "policy_cheese, hook_cheese = load_model('15', 15)\n",
    "policy_topright, hook_topright = load_model('1', 15)\n",
    "# policy_redgem = models.load_policy('logs/train/maze_yellowstar_redgem/2023-08-06__14-42-51/model_10240.pth', 15)\n",
    "# policy_yellowstar = models.load_policy('logs/train/maze_redgem_yellowstar/2023-08-06__14-42-51/model_10240.pth', 15)\n",
    "# hook_redgem = cmh.ModuleHook(policy_redgem)\n",
    "# hook_yellowstar = cmh.ModuleHook(policy_yellowstar)\n",
    "\n",
    "hook1 = hook_cheese\n",
    "hook2 = hook_topright\n",
    "\n",
    "model1_name = 'Cheese Mouse'\n",
    "model2_name = 'Top Right Mouse'\n",
    "\n"
   ]
  },
  {
   "cell_type": "code",
   "execution_count": 36,
   "metadata": {},
   "outputs": [],
   "source": [
    "# Collect activations\n",
    "\n",
    "\n",
    "\n",
    "values_to_store = [\n",
    "    'embedder.block1.conv_in0',\n",
    "    'embedder.block1.res1.relu1_out',\n",
    "    'embedder.block1.res1.relu2_out',\n",
    "    'embedder.block1.res1.resadd_out',\n",
    "    'embedder.block1.res2.relu1_out',\n",
    "    'embedder.block1.res2.relu2_out',\n",
    "    'embedder.block1.res2.resadd_out',\n",
    "    'embedder.block2.res1.relu1_out',\n",
    "    'embedder.block2.res1.relu2_out',\n",
    "    'embedder.block2.res1.resadd_out',\n",
    "    'embedder.block2.res2.relu1_out',\n",
    "    'embedder.block2.res2.relu2_out',\n",
    "    'embedder.block2.res2.resadd_out',\n",
    "    'embedder.block3.res1.relu1_out',\n",
    "    'embedder.block3.res1.relu2_out',\n",
    "    'embedder.block3.res1.resadd_out',\n",
    "    'embedder.block3.res2.relu1_out',\n",
    "    'embedder.block3.res2.relu2_out',\n",
    "    'embedder.block3.res2.resadd_out',\n",
    "    # 'embedder.flatten_out',\n",
    "    # 'embedder.relufc_out',\n",
    "    # 'fc_policy_out',\n",
    "]\n",
    "\n",
    "\n",
    "\n",
    "# Run obs through model to get all the activations\n",
    "obs_all = venv.reset().astype('float32')\n",
    "\n",
    "_ = hook1.run_with_input(obs_all, values_to_store=values_to_store)\n",
    "_ = hook2.run_with_input(obs_all, values_to_store=values_to_store)\n"
   ]
  },
  {
   "cell_type": "code",
   "execution_count": 38,
   "metadata": {},
   "outputs": [],
   "source": [
    "# Get the goal and goal variant positions. Note that this depends on maze type (redgem or yellowstar)\n",
    "goal_pos = get_obj_loc_targets(venv, 2)\n",
    "#goal_variant_pos = get_obj_loc_targets(venv, 3)\n",
    "\n",
    "goal_pos_x = goal_pos.x.values.astype(float)\n",
    "goal_pos_y = goal_pos.y.values.astype(float)\n",
    "\n",
    "# goal_variant_pos_x = goal_variant_pos.x.values.astype(float)\n",
    "# goal_variant_pos_y = goal_variant_pos.y.values.astype(float)\n",
    "\n",
    "\n",
    "\n"
   ]
  },
  {
   "cell_type": "code",
   "execution_count": 39,
   "metadata": {},
   "outputs": [
    {
     "data": {
      "application/vnd.jupyter.widget-view+json": {
       "model_id": "e4b7a6949a95475c884569e752237825",
       "version_major": 2,
       "version_minor": 0
      },
      "text/plain": [
       "  0%|          | 0/19 [00:00<?, ?it/s]"
      ]
     },
     "metadata": {},
     "output_type": "display_data"
    },
    {
     "data": {
      "application/vnd.plotly.v1+json": {
       "config": {
        "plotlyServerURL": "https://plot.ly"
       },
       "data": [
        {
         "hovertemplate": "K=100<br>value_label=%{x}<br>score=%{y}<extra></extra>",
         "legendgroup": "100",
         "line": {
          "color": "#636efa",
          "dash": "solid"
         },
         "marker": {
          "symbol": "circle"
         },
         "mode": "lines",
         "name": "100",
         "orientation": "v",
         "showlegend": true,
         "type": "scatter",
         "x": [
          "embedder.block1.conv_in0",
          "embedder.block1.res1.relu1_out",
          "embedder.block1.res1.relu2_out",
          "embedder.block1.res1.resadd_out",
          "embedder.block1.res2.relu1_out",
          "embedder.block1.res2.relu2_out",
          "embedder.block1.res2.resadd_out",
          "embedder.block2.res1.relu1_out",
          "embedder.block2.res1.relu2_out",
          "embedder.block2.res1.resadd_out",
          "embedder.block2.res2.relu1_out",
          "embedder.block2.res2.relu2_out",
          "embedder.block2.res2.resadd_out",
          "embedder.block3.res1.relu1_out",
          "embedder.block3.res1.relu2_out",
          "embedder.block3.res1.resadd_out",
          "embedder.block3.res2.relu1_out",
          "embedder.block3.res2.relu2_out",
          "embedder.block3.res2.resadd_out"
         ],
         "xaxis": "x",
         "y": [
          -0.07468435982060706,
          -0.028883761234714145,
          -0.026281211780169622,
          -0.024366510953681697,
          -0.025606492092778765,
          -0.025649586612141784,
          -0.023112313775085935,
          -0.021287278797318177,
          0.004717173661751395,
          0.22419572530791143,
          0.1030531476029456,
          0.08742817017885629,
          0.29364249398567444,
          0.6289662145806267,
          0.5831144755324301,
          0.6596026744411208,
          0.7288556337674077,
          0.675798022236235,
          0.7062202205126673
         ],
         "yaxis": "y"
        },
        {
         "hovertemplate": "K=1000<br>value_label=%{x}<br>score=%{y}<extra></extra>",
         "legendgroup": "1000",
         "line": {
          "color": "#EF553B",
          "dash": "solid"
         },
         "marker": {
          "symbol": "circle"
         },
         "mode": "lines",
         "name": "1000",
         "orientation": "v",
         "showlegend": true,
         "type": "scatter",
         "x": [
          "embedder.block1.conv_in0",
          "embedder.block1.res1.relu1_out",
          "embedder.block1.res1.relu2_out",
          "embedder.block1.res1.resadd_out",
          "embedder.block1.res2.relu1_out",
          "embedder.block1.res2.relu2_out",
          "embedder.block1.res2.resadd_out",
          "embedder.block2.res1.relu1_out",
          "embedder.block2.res1.relu2_out",
          "embedder.block2.res1.resadd_out",
          "embedder.block2.res2.relu1_out",
          "embedder.block2.res2.relu2_out",
          "embedder.block2.res2.resadd_out",
          "embedder.block3.res1.relu1_out",
          "embedder.block3.res1.relu2_out",
          "embedder.block3.res1.resadd_out",
          "embedder.block3.res2.relu1_out",
          "embedder.block3.res2.relu2_out",
          "embedder.block3.res2.resadd_out"
         ],
         "xaxis": "x",
         "y": [
          -0.07027475067810407,
          -0.043826023963234206,
          -0.052206869781903587,
          -0.037566937817474555,
          -0.02943416115805131,
          -0.026310772790903325,
          -0.015082215337161475,
          0.004912026788217672,
          0.09241835746030092,
          0.48965270135553907,
          0.2928063646993202,
          0.2862299908871825,
          0.5559549727753252,
          0.7943194608973065,
          0.7443262658244814,
          0.797272558805687,
          0.7935251459000034,
          0.7585058538740393,
          0.8358005868398503
         ],
         "yaxis": "y"
        },
        {
         "hovertemplate": "K=100000<br>value_label=%{x}<br>score=%{y}<extra></extra>",
         "legendgroup": "100000",
         "line": {
          "color": "#00cc96",
          "dash": "solid"
         },
         "marker": {
          "symbol": "circle"
         },
         "mode": "lines",
         "name": "100000",
         "orientation": "v",
         "showlegend": true,
         "type": "scatter",
         "x": [
          "embedder.block1.conv_in0",
          "embedder.block1.res1.relu1_out",
          "embedder.block1.res1.relu2_out",
          "embedder.block1.res1.resadd_out",
          "embedder.block1.res2.relu1_out",
          "embedder.block1.res2.relu2_out",
          "embedder.block1.res2.resadd_out",
          "embedder.block2.res1.relu1_out",
          "embedder.block2.res1.relu2_out",
          "embedder.block2.res1.resadd_out",
          "embedder.block2.res2.relu1_out",
          "embedder.block2.res2.relu2_out",
          "embedder.block2.res2.resadd_out",
          "embedder.block3.res1.relu1_out",
          "embedder.block3.res1.relu2_out",
          "embedder.block3.res1.resadd_out",
          "embedder.block3.res2.relu1_out",
          "embedder.block3.res2.relu2_out",
          "embedder.block3.res2.resadd_out"
         ],
         "xaxis": "x",
         "y": [
          -0.18793429509029358,
          -0.12010714122296973,
          -0.07648187043150223,
          -0.16124094454800053,
          -0.07793691544635384,
          -0.040404539487176594,
          -0.12241900528566263,
          0.23011698597691455,
          0.30415168737034604,
          0.43530111761119983,
          0.45997640990305944,
          0.5219132548209212,
          0.6674291885930357,
          0.8194128750701178,
          0.7739065101534821,
          0.8077133884726498,
          0.7946859977563512,
          0.7931334467240407,
          0.8161955342882002
         ],
         "yaxis": "y"
        }
       ],
       "layout": {
        "legend": {
         "title": {
          "text": "K"
         },
         "tracegroupgap": 0
        },
        "template": {
         "data": {
          "bar": [
           {
            "error_x": {
             "color": "#2a3f5f"
            },
            "error_y": {
             "color": "#2a3f5f"
            },
            "marker": {
             "line": {
              "color": "#E5ECF6",
              "width": 0.5
             },
             "pattern": {
              "fillmode": "overlay",
              "size": 10,
              "solidity": 0.2
             }
            },
            "type": "bar"
           }
          ],
          "barpolar": [
           {
            "marker": {
             "line": {
              "color": "#E5ECF6",
              "width": 0.5
             },
             "pattern": {
              "fillmode": "overlay",
              "size": 10,
              "solidity": 0.2
             }
            },
            "type": "barpolar"
           }
          ],
          "carpet": [
           {
            "aaxis": {
             "endlinecolor": "#2a3f5f",
             "gridcolor": "white",
             "linecolor": "white",
             "minorgridcolor": "white",
             "startlinecolor": "#2a3f5f"
            },
            "baxis": {
             "endlinecolor": "#2a3f5f",
             "gridcolor": "white",
             "linecolor": "white",
             "minorgridcolor": "white",
             "startlinecolor": "#2a3f5f"
            },
            "type": "carpet"
           }
          ],
          "choropleth": [
           {
            "colorbar": {
             "outlinewidth": 0,
             "ticks": ""
            },
            "type": "choropleth"
           }
          ],
          "contour": [
           {
            "colorbar": {
             "outlinewidth": 0,
             "ticks": ""
            },
            "colorscale": [
             [
              0,
              "#0d0887"
             ],
             [
              0.1111111111111111,
              "#46039f"
             ],
             [
              0.2222222222222222,
              "#7201a8"
             ],
             [
              0.3333333333333333,
              "#9c179e"
             ],
             [
              0.4444444444444444,
              "#bd3786"
             ],
             [
              0.5555555555555556,
              "#d8576b"
             ],
             [
              0.6666666666666666,
              "#ed7953"
             ],
             [
              0.7777777777777778,
              "#fb9f3a"
             ],
             [
              0.8888888888888888,
              "#fdca26"
             ],
             [
              1,
              "#f0f921"
             ]
            ],
            "type": "contour"
           }
          ],
          "contourcarpet": [
           {
            "colorbar": {
             "outlinewidth": 0,
             "ticks": ""
            },
            "type": "contourcarpet"
           }
          ],
          "heatmap": [
           {
            "colorbar": {
             "outlinewidth": 0,
             "ticks": ""
            },
            "colorscale": [
             [
              0,
              "#0d0887"
             ],
             [
              0.1111111111111111,
              "#46039f"
             ],
             [
              0.2222222222222222,
              "#7201a8"
             ],
             [
              0.3333333333333333,
              "#9c179e"
             ],
             [
              0.4444444444444444,
              "#bd3786"
             ],
             [
              0.5555555555555556,
              "#d8576b"
             ],
             [
              0.6666666666666666,
              "#ed7953"
             ],
             [
              0.7777777777777778,
              "#fb9f3a"
             ],
             [
              0.8888888888888888,
              "#fdca26"
             ],
             [
              1,
              "#f0f921"
             ]
            ],
            "type": "heatmap"
           }
          ],
          "heatmapgl": [
           {
            "colorbar": {
             "outlinewidth": 0,
             "ticks": ""
            },
            "colorscale": [
             [
              0,
              "#0d0887"
             ],
             [
              0.1111111111111111,
              "#46039f"
             ],
             [
              0.2222222222222222,
              "#7201a8"
             ],
             [
              0.3333333333333333,
              "#9c179e"
             ],
             [
              0.4444444444444444,
              "#bd3786"
             ],
             [
              0.5555555555555556,
              "#d8576b"
             ],
             [
              0.6666666666666666,
              "#ed7953"
             ],
             [
              0.7777777777777778,
              "#fb9f3a"
             ],
             [
              0.8888888888888888,
              "#fdca26"
             ],
             [
              1,
              "#f0f921"
             ]
            ],
            "type": "heatmapgl"
           }
          ],
          "histogram": [
           {
            "marker": {
             "pattern": {
              "fillmode": "overlay",
              "size": 10,
              "solidity": 0.2
             }
            },
            "type": "histogram"
           }
          ],
          "histogram2d": [
           {
            "colorbar": {
             "outlinewidth": 0,
             "ticks": ""
            },
            "colorscale": [
             [
              0,
              "#0d0887"
             ],
             [
              0.1111111111111111,
              "#46039f"
             ],
             [
              0.2222222222222222,
              "#7201a8"
             ],
             [
              0.3333333333333333,
              "#9c179e"
             ],
             [
              0.4444444444444444,
              "#bd3786"
             ],
             [
              0.5555555555555556,
              "#d8576b"
             ],
             [
              0.6666666666666666,
              "#ed7953"
             ],
             [
              0.7777777777777778,
              "#fb9f3a"
             ],
             [
              0.8888888888888888,
              "#fdca26"
             ],
             [
              1,
              "#f0f921"
             ]
            ],
            "type": "histogram2d"
           }
          ],
          "histogram2dcontour": [
           {
            "colorbar": {
             "outlinewidth": 0,
             "ticks": ""
            },
            "colorscale": [
             [
              0,
              "#0d0887"
             ],
             [
              0.1111111111111111,
              "#46039f"
             ],
             [
              0.2222222222222222,
              "#7201a8"
             ],
             [
              0.3333333333333333,
              "#9c179e"
             ],
             [
              0.4444444444444444,
              "#bd3786"
             ],
             [
              0.5555555555555556,
              "#d8576b"
             ],
             [
              0.6666666666666666,
              "#ed7953"
             ],
             [
              0.7777777777777778,
              "#fb9f3a"
             ],
             [
              0.8888888888888888,
              "#fdca26"
             ],
             [
              1,
              "#f0f921"
             ]
            ],
            "type": "histogram2dcontour"
           }
          ],
          "mesh3d": [
           {
            "colorbar": {
             "outlinewidth": 0,
             "ticks": ""
            },
            "type": "mesh3d"
           }
          ],
          "parcoords": [
           {
            "line": {
             "colorbar": {
              "outlinewidth": 0,
              "ticks": ""
             }
            },
            "type": "parcoords"
           }
          ],
          "pie": [
           {
            "automargin": true,
            "type": "pie"
           }
          ],
          "scatter": [
           {
            "fillpattern": {
             "fillmode": "overlay",
             "size": 10,
             "solidity": 0.2
            },
            "type": "scatter"
           }
          ],
          "scatter3d": [
           {
            "line": {
             "colorbar": {
              "outlinewidth": 0,
              "ticks": ""
             }
            },
            "marker": {
             "colorbar": {
              "outlinewidth": 0,
              "ticks": ""
             }
            },
            "type": "scatter3d"
           }
          ],
          "scattercarpet": [
           {
            "marker": {
             "colorbar": {
              "outlinewidth": 0,
              "ticks": ""
             }
            },
            "type": "scattercarpet"
           }
          ],
          "scattergeo": [
           {
            "marker": {
             "colorbar": {
              "outlinewidth": 0,
              "ticks": ""
             }
            },
            "type": "scattergeo"
           }
          ],
          "scattergl": [
           {
            "marker": {
             "colorbar": {
              "outlinewidth": 0,
              "ticks": ""
             }
            },
            "type": "scattergl"
           }
          ],
          "scattermapbox": [
           {
            "marker": {
             "colorbar": {
              "outlinewidth": 0,
              "ticks": ""
             }
            },
            "type": "scattermapbox"
           }
          ],
          "scatterpolar": [
           {
            "marker": {
             "colorbar": {
              "outlinewidth": 0,
              "ticks": ""
             }
            },
            "type": "scatterpolar"
           }
          ],
          "scatterpolargl": [
           {
            "marker": {
             "colorbar": {
              "outlinewidth": 0,
              "ticks": ""
             }
            },
            "type": "scatterpolargl"
           }
          ],
          "scatterternary": [
           {
            "marker": {
             "colorbar": {
              "outlinewidth": 0,
              "ticks": ""
             }
            },
            "type": "scatterternary"
           }
          ],
          "surface": [
           {
            "colorbar": {
             "outlinewidth": 0,
             "ticks": ""
            },
            "colorscale": [
             [
              0,
              "#0d0887"
             ],
             [
              0.1111111111111111,
              "#46039f"
             ],
             [
              0.2222222222222222,
              "#7201a8"
             ],
             [
              0.3333333333333333,
              "#9c179e"
             ],
             [
              0.4444444444444444,
              "#bd3786"
             ],
             [
              0.5555555555555556,
              "#d8576b"
             ],
             [
              0.6666666666666666,
              "#ed7953"
             ],
             [
              0.7777777777777778,
              "#fb9f3a"
             ],
             [
              0.8888888888888888,
              "#fdca26"
             ],
             [
              1,
              "#f0f921"
             ]
            ],
            "type": "surface"
           }
          ],
          "table": [
           {
            "cells": {
             "fill": {
              "color": "#EBF0F8"
             },
             "line": {
              "color": "white"
             }
            },
            "header": {
             "fill": {
              "color": "#C8D4E3"
             },
             "line": {
              "color": "white"
             }
            },
            "type": "table"
           }
          ]
         },
         "layout": {
          "annotationdefaults": {
           "arrowcolor": "#2a3f5f",
           "arrowhead": 0,
           "arrowwidth": 1
          },
          "autotypenumbers": "strict",
          "coloraxis": {
           "colorbar": {
            "outlinewidth": 0,
            "ticks": ""
           }
          },
          "colorscale": {
           "diverging": [
            [
             0,
             "#8e0152"
            ],
            [
             0.1,
             "#c51b7d"
            ],
            [
             0.2,
             "#de77ae"
            ],
            [
             0.3,
             "#f1b6da"
            ],
            [
             0.4,
             "#fde0ef"
            ],
            [
             0.5,
             "#f7f7f7"
            ],
            [
             0.6,
             "#e6f5d0"
            ],
            [
             0.7,
             "#b8e186"
            ],
            [
             0.8,
             "#7fbc41"
            ],
            [
             0.9,
             "#4d9221"
            ],
            [
             1,
             "#276419"
            ]
           ],
           "sequential": [
            [
             0,
             "#0d0887"
            ],
            [
             0.1111111111111111,
             "#46039f"
            ],
            [
             0.2222222222222222,
             "#7201a8"
            ],
            [
             0.3333333333333333,
             "#9c179e"
            ],
            [
             0.4444444444444444,
             "#bd3786"
            ],
            [
             0.5555555555555556,
             "#d8576b"
            ],
            [
             0.6666666666666666,
             "#ed7953"
            ],
            [
             0.7777777777777778,
             "#fb9f3a"
            ],
            [
             0.8888888888888888,
             "#fdca26"
            ],
            [
             1,
             "#f0f921"
            ]
           ],
           "sequentialminus": [
            [
             0,
             "#0d0887"
            ],
            [
             0.1111111111111111,
             "#46039f"
            ],
            [
             0.2222222222222222,
             "#7201a8"
            ],
            [
             0.3333333333333333,
             "#9c179e"
            ],
            [
             0.4444444444444444,
             "#bd3786"
            ],
            [
             0.5555555555555556,
             "#d8576b"
            ],
            [
             0.6666666666666666,
             "#ed7953"
            ],
            [
             0.7777777777777778,
             "#fb9f3a"
            ],
            [
             0.8888888888888888,
             "#fdca26"
            ],
            [
             1,
             "#f0f921"
            ]
           ]
          },
          "colorway": [
           "#636efa",
           "#EF553B",
           "#00cc96",
           "#ab63fa",
           "#FFA15A",
           "#19d3f3",
           "#FF6692",
           "#B6E880",
           "#FF97FF",
           "#FECB52"
          ],
          "font": {
           "color": "#2a3f5f"
          },
          "geo": {
           "bgcolor": "white",
           "lakecolor": "white",
           "landcolor": "#E5ECF6",
           "showlakes": true,
           "showland": true,
           "subunitcolor": "white"
          },
          "hoverlabel": {
           "align": "left"
          },
          "hovermode": "closest",
          "mapbox": {
           "style": "light"
          },
          "paper_bgcolor": "white",
          "plot_bgcolor": "#E5ECF6",
          "polar": {
           "angularaxis": {
            "gridcolor": "white",
            "linecolor": "white",
            "ticks": ""
           },
           "bgcolor": "#E5ECF6",
           "radialaxis": {
            "gridcolor": "white",
            "linecolor": "white",
            "ticks": ""
           }
          },
          "scene": {
           "xaxis": {
            "backgroundcolor": "#E5ECF6",
            "gridcolor": "white",
            "gridwidth": 2,
            "linecolor": "white",
            "showbackground": true,
            "ticks": "",
            "zerolinecolor": "white"
           },
           "yaxis": {
            "backgroundcolor": "#E5ECF6",
            "gridcolor": "white",
            "gridwidth": 2,
            "linecolor": "white",
            "showbackground": true,
            "ticks": "",
            "zerolinecolor": "white"
           },
           "zaxis": {
            "backgroundcolor": "#E5ECF6",
            "gridcolor": "white",
            "gridwidth": 2,
            "linecolor": "white",
            "showbackground": true,
            "ticks": "",
            "zerolinecolor": "white"
           }
          },
          "shapedefaults": {
           "line": {
            "color": "#2a3f5f"
           }
          },
          "ternary": {
           "aaxis": {
            "gridcolor": "white",
            "linecolor": "white",
            "ticks": ""
           },
           "baxis": {
            "gridcolor": "white",
            "linecolor": "white",
            "ticks": ""
           },
           "bgcolor": "#E5ECF6",
           "caxis": {
            "gridcolor": "white",
            "linecolor": "white",
            "ticks": ""
           }
          },
          "title": {
           "x": 0.05
          },
          "xaxis": {
           "automargin": true,
           "gridcolor": "white",
           "linecolor": "white",
           "ticks": "",
           "title": {
            "standoff": 15
           },
           "zerolinecolor": "white",
           "zerolinewidth": 2
          },
          "yaxis": {
           "automargin": true,
           "gridcolor": "white",
           "linecolor": "white",
           "ticks": "",
           "title": {
            "standoff": 15
           },
           "zerolinecolor": "white",
           "zerolinewidth": 2
          }
         }
        },
        "title": {
         "text": "Probe score over layers for: Model = Cheese Mouse, abstraction = Cheese"
        },
        "xaxis": {
         "anchor": "y",
         "domain": [
          0,
          1
         ],
         "title": {
          "text": "value_label"
         }
        },
        "yaxis": {
         "anchor": "x",
         "domain": [
          0,
          1
         ],
         "title": {
          "text": "score"
         }
        }
       }
      },
      "text/html": [
       "<div>                            <div id=\"a85750ea-1585-448d-976e-33a167817fce\" class=\"plotly-graph-div\" style=\"height:525px; width:100%;\"></div>            <script type=\"text/javascript\">                require([\"plotly\"], function(Plotly) {                    window.PLOTLYENV=window.PLOTLYENV || {};                                    if (document.getElementById(\"a85750ea-1585-448d-976e-33a167817fce\")) {                    Plotly.newPlot(                        \"a85750ea-1585-448d-976e-33a167817fce\",                        [{\"hovertemplate\":\"K=100\\u003cbr\\u003evalue_label=%{x}\\u003cbr\\u003escore=%{y}\\u003cextra\\u003e\\u003c\\u002fextra\\u003e\",\"legendgroup\":\"100\",\"line\":{\"color\":\"#636efa\",\"dash\":\"solid\"},\"marker\":{\"symbol\":\"circle\"},\"mode\":\"lines\",\"name\":\"100\",\"orientation\":\"v\",\"showlegend\":true,\"x\":[\"embedder.block1.conv_in0\",\"embedder.block1.res1.relu1_out\",\"embedder.block1.res1.relu2_out\",\"embedder.block1.res1.resadd_out\",\"embedder.block1.res2.relu1_out\",\"embedder.block1.res2.relu2_out\",\"embedder.block1.res2.resadd_out\",\"embedder.block2.res1.relu1_out\",\"embedder.block2.res1.relu2_out\",\"embedder.block2.res1.resadd_out\",\"embedder.block2.res2.relu1_out\",\"embedder.block2.res2.relu2_out\",\"embedder.block2.res2.resadd_out\",\"embedder.block3.res1.relu1_out\",\"embedder.block3.res1.relu2_out\",\"embedder.block3.res1.resadd_out\",\"embedder.block3.res2.relu1_out\",\"embedder.block3.res2.relu2_out\",\"embedder.block3.res2.resadd_out\"],\"xaxis\":\"x\",\"y\":[-0.07468435982060706,-0.028883761234714145,-0.026281211780169622,-0.024366510953681697,-0.025606492092778765,-0.025649586612141784,-0.023112313775085935,-0.021287278797318177,0.004717173661751395,0.22419572530791143,0.1030531476029456,0.08742817017885629,0.29364249398567444,0.6289662145806267,0.5831144755324301,0.6596026744411208,0.7288556337674077,0.675798022236235,0.7062202205126673],\"yaxis\":\"y\",\"type\":\"scatter\"},{\"hovertemplate\":\"K=1000\\u003cbr\\u003evalue_label=%{x}\\u003cbr\\u003escore=%{y}\\u003cextra\\u003e\\u003c\\u002fextra\\u003e\",\"legendgroup\":\"1000\",\"line\":{\"color\":\"#EF553B\",\"dash\":\"solid\"},\"marker\":{\"symbol\":\"circle\"},\"mode\":\"lines\",\"name\":\"1000\",\"orientation\":\"v\",\"showlegend\":true,\"x\":[\"embedder.block1.conv_in0\",\"embedder.block1.res1.relu1_out\",\"embedder.block1.res1.relu2_out\",\"embedder.block1.res1.resadd_out\",\"embedder.block1.res2.relu1_out\",\"embedder.block1.res2.relu2_out\",\"embedder.block1.res2.resadd_out\",\"embedder.block2.res1.relu1_out\",\"embedder.block2.res1.relu2_out\",\"embedder.block2.res1.resadd_out\",\"embedder.block2.res2.relu1_out\",\"embedder.block2.res2.relu2_out\",\"embedder.block2.res2.resadd_out\",\"embedder.block3.res1.relu1_out\",\"embedder.block3.res1.relu2_out\",\"embedder.block3.res1.resadd_out\",\"embedder.block3.res2.relu1_out\",\"embedder.block3.res2.relu2_out\",\"embedder.block3.res2.resadd_out\"],\"xaxis\":\"x\",\"y\":[-0.07027475067810407,-0.043826023963234206,-0.052206869781903587,-0.037566937817474555,-0.02943416115805131,-0.026310772790903325,-0.015082215337161475,0.004912026788217672,0.09241835746030092,0.48965270135553907,0.2928063646993202,0.2862299908871825,0.5559549727753252,0.7943194608973065,0.7443262658244814,0.797272558805687,0.7935251459000034,0.7585058538740393,0.8358005868398503],\"yaxis\":\"y\",\"type\":\"scatter\"},{\"hovertemplate\":\"K=100000\\u003cbr\\u003evalue_label=%{x}\\u003cbr\\u003escore=%{y}\\u003cextra\\u003e\\u003c\\u002fextra\\u003e\",\"legendgroup\":\"100000\",\"line\":{\"color\":\"#00cc96\",\"dash\":\"solid\"},\"marker\":{\"symbol\":\"circle\"},\"mode\":\"lines\",\"name\":\"100000\",\"orientation\":\"v\",\"showlegend\":true,\"x\":[\"embedder.block1.conv_in0\",\"embedder.block1.res1.relu1_out\",\"embedder.block1.res1.relu2_out\",\"embedder.block1.res1.resadd_out\",\"embedder.block1.res2.relu1_out\",\"embedder.block1.res2.relu2_out\",\"embedder.block1.res2.resadd_out\",\"embedder.block2.res1.relu1_out\",\"embedder.block2.res1.relu2_out\",\"embedder.block2.res1.resadd_out\",\"embedder.block2.res2.relu1_out\",\"embedder.block2.res2.relu2_out\",\"embedder.block2.res2.resadd_out\",\"embedder.block3.res1.relu1_out\",\"embedder.block3.res1.relu2_out\",\"embedder.block3.res1.resadd_out\",\"embedder.block3.res2.relu1_out\",\"embedder.block3.res2.relu2_out\",\"embedder.block3.res2.resadd_out\"],\"xaxis\":\"x\",\"y\":[-0.18793429509029358,-0.12010714122296973,-0.07648187043150223,-0.16124094454800053,-0.07793691544635384,-0.040404539487176594,-0.12241900528566263,0.23011698597691455,0.30415168737034604,0.43530111761119983,0.45997640990305944,0.5219132548209212,0.6674291885930357,0.8194128750701178,0.7739065101534821,0.8077133884726498,0.7946859977563512,0.7931334467240407,0.8161955342882002],\"yaxis\":\"y\",\"type\":\"scatter\"}],                        {\"template\":{\"data\":{\"histogram2dcontour\":[{\"type\":\"histogram2dcontour\",\"colorbar\":{\"outlinewidth\":0,\"ticks\":\"\"},\"colorscale\":[[0.0,\"#0d0887\"],[0.1111111111111111,\"#46039f\"],[0.2222222222222222,\"#7201a8\"],[0.3333333333333333,\"#9c179e\"],[0.4444444444444444,\"#bd3786\"],[0.5555555555555556,\"#d8576b\"],[0.6666666666666666,\"#ed7953\"],[0.7777777777777778,\"#fb9f3a\"],[0.8888888888888888,\"#fdca26\"],[1.0,\"#f0f921\"]]}],\"choropleth\":[{\"type\":\"choropleth\",\"colorbar\":{\"outlinewidth\":0,\"ticks\":\"\"}}],\"histogram2d\":[{\"type\":\"histogram2d\",\"colorbar\":{\"outlinewidth\":0,\"ticks\":\"\"},\"colorscale\":[[0.0,\"#0d0887\"],[0.1111111111111111,\"#46039f\"],[0.2222222222222222,\"#7201a8\"],[0.3333333333333333,\"#9c179e\"],[0.4444444444444444,\"#bd3786\"],[0.5555555555555556,\"#d8576b\"],[0.6666666666666666,\"#ed7953\"],[0.7777777777777778,\"#fb9f3a\"],[0.8888888888888888,\"#fdca26\"],[1.0,\"#f0f921\"]]}],\"heatmap\":[{\"type\":\"heatmap\",\"colorbar\":{\"outlinewidth\":0,\"ticks\":\"\"},\"colorscale\":[[0.0,\"#0d0887\"],[0.1111111111111111,\"#46039f\"],[0.2222222222222222,\"#7201a8\"],[0.3333333333333333,\"#9c179e\"],[0.4444444444444444,\"#bd3786\"],[0.5555555555555556,\"#d8576b\"],[0.6666666666666666,\"#ed7953\"],[0.7777777777777778,\"#fb9f3a\"],[0.8888888888888888,\"#fdca26\"],[1.0,\"#f0f921\"]]}],\"heatmapgl\":[{\"type\":\"heatmapgl\",\"colorbar\":{\"outlinewidth\":0,\"ticks\":\"\"},\"colorscale\":[[0.0,\"#0d0887\"],[0.1111111111111111,\"#46039f\"],[0.2222222222222222,\"#7201a8\"],[0.3333333333333333,\"#9c179e\"],[0.4444444444444444,\"#bd3786\"],[0.5555555555555556,\"#d8576b\"],[0.6666666666666666,\"#ed7953\"],[0.7777777777777778,\"#fb9f3a\"],[0.8888888888888888,\"#fdca26\"],[1.0,\"#f0f921\"]]}],\"contourcarpet\":[{\"type\":\"contourcarpet\",\"colorbar\":{\"outlinewidth\":0,\"ticks\":\"\"}}],\"contour\":[{\"type\":\"contour\",\"colorbar\":{\"outlinewidth\":0,\"ticks\":\"\"},\"colorscale\":[[0.0,\"#0d0887\"],[0.1111111111111111,\"#46039f\"],[0.2222222222222222,\"#7201a8\"],[0.3333333333333333,\"#9c179e\"],[0.4444444444444444,\"#bd3786\"],[0.5555555555555556,\"#d8576b\"],[0.6666666666666666,\"#ed7953\"],[0.7777777777777778,\"#fb9f3a\"],[0.8888888888888888,\"#fdca26\"],[1.0,\"#f0f921\"]]}],\"surface\":[{\"type\":\"surface\",\"colorbar\":{\"outlinewidth\":0,\"ticks\":\"\"},\"colorscale\":[[0.0,\"#0d0887\"],[0.1111111111111111,\"#46039f\"],[0.2222222222222222,\"#7201a8\"],[0.3333333333333333,\"#9c179e\"],[0.4444444444444444,\"#bd3786\"],[0.5555555555555556,\"#d8576b\"],[0.6666666666666666,\"#ed7953\"],[0.7777777777777778,\"#fb9f3a\"],[0.8888888888888888,\"#fdca26\"],[1.0,\"#f0f921\"]]}],\"mesh3d\":[{\"type\":\"mesh3d\",\"colorbar\":{\"outlinewidth\":0,\"ticks\":\"\"}}],\"scatter\":[{\"fillpattern\":{\"fillmode\":\"overlay\",\"size\":10,\"solidity\":0.2},\"type\":\"scatter\"}],\"parcoords\":[{\"type\":\"parcoords\",\"line\":{\"colorbar\":{\"outlinewidth\":0,\"ticks\":\"\"}}}],\"scatterpolargl\":[{\"type\":\"scatterpolargl\",\"marker\":{\"colorbar\":{\"outlinewidth\":0,\"ticks\":\"\"}}}],\"bar\":[{\"error_x\":{\"color\":\"#2a3f5f\"},\"error_y\":{\"color\":\"#2a3f5f\"},\"marker\":{\"line\":{\"color\":\"#E5ECF6\",\"width\":0.5},\"pattern\":{\"fillmode\":\"overlay\",\"size\":10,\"solidity\":0.2}},\"type\":\"bar\"}],\"scattergeo\":[{\"type\":\"scattergeo\",\"marker\":{\"colorbar\":{\"outlinewidth\":0,\"ticks\":\"\"}}}],\"scatterpolar\":[{\"type\":\"scatterpolar\",\"marker\":{\"colorbar\":{\"outlinewidth\":0,\"ticks\":\"\"}}}],\"histogram\":[{\"marker\":{\"pattern\":{\"fillmode\":\"overlay\",\"size\":10,\"solidity\":0.2}},\"type\":\"histogram\"}],\"scattergl\":[{\"type\":\"scattergl\",\"marker\":{\"colorbar\":{\"outlinewidth\":0,\"ticks\":\"\"}}}],\"scatter3d\":[{\"type\":\"scatter3d\",\"line\":{\"colorbar\":{\"outlinewidth\":0,\"ticks\":\"\"}},\"marker\":{\"colorbar\":{\"outlinewidth\":0,\"ticks\":\"\"}}}],\"scattermapbox\":[{\"type\":\"scattermapbox\",\"marker\":{\"colorbar\":{\"outlinewidth\":0,\"ticks\":\"\"}}}],\"scatterternary\":[{\"type\":\"scatterternary\",\"marker\":{\"colorbar\":{\"outlinewidth\":0,\"ticks\":\"\"}}}],\"scattercarpet\":[{\"type\":\"scattercarpet\",\"marker\":{\"colorbar\":{\"outlinewidth\":0,\"ticks\":\"\"}}}],\"carpet\":[{\"aaxis\":{\"endlinecolor\":\"#2a3f5f\",\"gridcolor\":\"white\",\"linecolor\":\"white\",\"minorgridcolor\":\"white\",\"startlinecolor\":\"#2a3f5f\"},\"baxis\":{\"endlinecolor\":\"#2a3f5f\",\"gridcolor\":\"white\",\"linecolor\":\"white\",\"minorgridcolor\":\"white\",\"startlinecolor\":\"#2a3f5f\"},\"type\":\"carpet\"}],\"table\":[{\"cells\":{\"fill\":{\"color\":\"#EBF0F8\"},\"line\":{\"color\":\"white\"}},\"header\":{\"fill\":{\"color\":\"#C8D4E3\"},\"line\":{\"color\":\"white\"}},\"type\":\"table\"}],\"barpolar\":[{\"marker\":{\"line\":{\"color\":\"#E5ECF6\",\"width\":0.5},\"pattern\":{\"fillmode\":\"overlay\",\"size\":10,\"solidity\":0.2}},\"type\":\"barpolar\"}],\"pie\":[{\"automargin\":true,\"type\":\"pie\"}]},\"layout\":{\"autotypenumbers\":\"strict\",\"colorway\":[\"#636efa\",\"#EF553B\",\"#00cc96\",\"#ab63fa\",\"#FFA15A\",\"#19d3f3\",\"#FF6692\",\"#B6E880\",\"#FF97FF\",\"#FECB52\"],\"font\":{\"color\":\"#2a3f5f\"},\"hovermode\":\"closest\",\"hoverlabel\":{\"align\":\"left\"},\"paper_bgcolor\":\"white\",\"plot_bgcolor\":\"#E5ECF6\",\"polar\":{\"bgcolor\":\"#E5ECF6\",\"angularaxis\":{\"gridcolor\":\"white\",\"linecolor\":\"white\",\"ticks\":\"\"},\"radialaxis\":{\"gridcolor\":\"white\",\"linecolor\":\"white\",\"ticks\":\"\"}},\"ternary\":{\"bgcolor\":\"#E5ECF6\",\"aaxis\":{\"gridcolor\":\"white\",\"linecolor\":\"white\",\"ticks\":\"\"},\"baxis\":{\"gridcolor\":\"white\",\"linecolor\":\"white\",\"ticks\":\"\"},\"caxis\":{\"gridcolor\":\"white\",\"linecolor\":\"white\",\"ticks\":\"\"}},\"coloraxis\":{\"colorbar\":{\"outlinewidth\":0,\"ticks\":\"\"}},\"colorscale\":{\"sequential\":[[0.0,\"#0d0887\"],[0.1111111111111111,\"#46039f\"],[0.2222222222222222,\"#7201a8\"],[0.3333333333333333,\"#9c179e\"],[0.4444444444444444,\"#bd3786\"],[0.5555555555555556,\"#d8576b\"],[0.6666666666666666,\"#ed7953\"],[0.7777777777777778,\"#fb9f3a\"],[0.8888888888888888,\"#fdca26\"],[1.0,\"#f0f921\"]],\"sequentialminus\":[[0.0,\"#0d0887\"],[0.1111111111111111,\"#46039f\"],[0.2222222222222222,\"#7201a8\"],[0.3333333333333333,\"#9c179e\"],[0.4444444444444444,\"#bd3786\"],[0.5555555555555556,\"#d8576b\"],[0.6666666666666666,\"#ed7953\"],[0.7777777777777778,\"#fb9f3a\"],[0.8888888888888888,\"#fdca26\"],[1.0,\"#f0f921\"]],\"diverging\":[[0,\"#8e0152\"],[0.1,\"#c51b7d\"],[0.2,\"#de77ae\"],[0.3,\"#f1b6da\"],[0.4,\"#fde0ef\"],[0.5,\"#f7f7f7\"],[0.6,\"#e6f5d0\"],[0.7,\"#b8e186\"],[0.8,\"#7fbc41\"],[0.9,\"#4d9221\"],[1,\"#276419\"]]},\"xaxis\":{\"gridcolor\":\"white\",\"linecolor\":\"white\",\"ticks\":\"\",\"title\":{\"standoff\":15},\"zerolinecolor\":\"white\",\"automargin\":true,\"zerolinewidth\":2},\"yaxis\":{\"gridcolor\":\"white\",\"linecolor\":\"white\",\"ticks\":\"\",\"title\":{\"standoff\":15},\"zerolinecolor\":\"white\",\"automargin\":true,\"zerolinewidth\":2},\"scene\":{\"xaxis\":{\"backgroundcolor\":\"#E5ECF6\",\"gridcolor\":\"white\",\"linecolor\":\"white\",\"showbackground\":true,\"ticks\":\"\",\"zerolinecolor\":\"white\",\"gridwidth\":2},\"yaxis\":{\"backgroundcolor\":\"#E5ECF6\",\"gridcolor\":\"white\",\"linecolor\":\"white\",\"showbackground\":true,\"ticks\":\"\",\"zerolinecolor\":\"white\",\"gridwidth\":2},\"zaxis\":{\"backgroundcolor\":\"#E5ECF6\",\"gridcolor\":\"white\",\"linecolor\":\"white\",\"showbackground\":true,\"ticks\":\"\",\"zerolinecolor\":\"white\",\"gridwidth\":2}},\"shapedefaults\":{\"line\":{\"color\":\"#2a3f5f\"}},\"annotationdefaults\":{\"arrowcolor\":\"#2a3f5f\",\"arrowhead\":0,\"arrowwidth\":1},\"geo\":{\"bgcolor\":\"white\",\"landcolor\":\"#E5ECF6\",\"subunitcolor\":\"white\",\"showland\":true,\"showlakes\":true,\"lakecolor\":\"white\"},\"title\":{\"x\":0.05},\"mapbox\":{\"style\":\"light\"}}},\"xaxis\":{\"anchor\":\"y\",\"domain\":[0.0,1.0],\"title\":{\"text\":\"value_label\"}},\"yaxis\":{\"anchor\":\"x\",\"domain\":[0.0,1.0],\"title\":{\"text\":\"score\"}},\"legend\":{\"title\":{\"text\":\"K\"},\"tracegroupgap\":0},\"title\":{\"text\":\"Probe score over layers for: Model = Cheese Mouse, abstraction = Cheese\"}},                        {\"responsive\": true}                    ).then(function(){\n",
       "                            \n",
       "var gd = document.getElementById('a85750ea-1585-448d-976e-33a167817fce');\n",
       "var x = new MutationObserver(function (mutations, observer) {{\n",
       "        var display = window.getComputedStyle(gd).display;\n",
       "        if (!display || display === 'none') {{\n",
       "            console.log([gd, 'removed!']);\n",
       "            Plotly.purge(gd);\n",
       "            observer.disconnect();\n",
       "        }}\n",
       "}});\n",
       "\n",
       "// Listen for the removal of the full notebook cells\n",
       "var notebookContainer = gd.closest('#notebook-container');\n",
       "if (notebookContainer) {{\n",
       "    x.observe(notebookContainer, {childList: true});\n",
       "}}\n",
       "\n",
       "// Listen for the clearing of the current output cell\n",
       "var outputEl = gd.closest('.output');\n",
       "if (outputEl) {{\n",
       "    x.observe(outputEl, {childList: true});\n",
       "}}\n",
       "\n",
       "                        })                };                });            </script>        </div>"
      ]
     },
     "metadata": {},
     "output_type": "display_data"
    },
    {
     "data": {
      "application/vnd.jupyter.widget-view+json": {
       "model_id": "e741e906812d48dfbe46d72173ec31d2",
       "version_major": 2,
       "version_minor": 0
      },
      "text/plain": [
       "  0%|          | 0/19 [00:00<?, ?it/s]"
      ]
     },
     "metadata": {},
     "output_type": "display_data"
    },
    {
     "data": {
      "application/vnd.plotly.v1+json": {
       "config": {
        "plotlyServerURL": "https://plot.ly"
       },
       "data": [
        {
         "hovertemplate": "K=100<br>value_label=%{x}<br>score=%{y}<extra></extra>",
         "legendgroup": "100",
         "line": {
          "color": "#636efa",
          "dash": "solid"
         },
         "marker": {
          "symbol": "circle"
         },
         "mode": "lines",
         "name": "100",
         "orientation": "v",
         "showlegend": true,
         "type": "scatter",
         "x": [
          "embedder.block1.conv_in0",
          "embedder.block1.res1.relu1_out",
          "embedder.block1.res1.relu2_out",
          "embedder.block1.res1.resadd_out",
          "embedder.block1.res2.relu1_out",
          "embedder.block1.res2.relu2_out",
          "embedder.block1.res2.resadd_out",
          "embedder.block2.res1.relu1_out",
          "embedder.block2.res1.relu2_out",
          "embedder.block2.res1.resadd_out",
          "embedder.block2.res2.relu1_out",
          "embedder.block2.res2.relu2_out",
          "embedder.block2.res2.resadd_out",
          "embedder.block3.res1.relu1_out",
          "embedder.block3.res1.relu2_out",
          "embedder.block3.res1.resadd_out",
          "embedder.block3.res2.relu1_out",
          "embedder.block3.res2.relu2_out",
          "embedder.block3.res2.resadd_out"
         ],
         "xaxis": "x",
         "y": [
          -0.07468435982060706,
          -0.02877090169215779,
          -0.026549268385073654,
          -0.028777715150718253,
          -0.026474528948789988,
          -0.0261403415388739,
          -0.024215203044990696,
          -0.026171771092385443,
          -0.025670586257030337,
          -0.017685584509124608,
          -0.025126469568931054,
          -0.01856199713054818,
          -0.0016220733466385528,
          -0.042587173301199543,
          -0.046744278299100994,
          -0.22343131006070416,
          -0.04659355801868004,
          -0.08445954492996699,
          -0.2538871109954155
         ],
         "yaxis": "y"
        },
        {
         "hovertemplate": "K=1000<br>value_label=%{x}<br>score=%{y}<extra></extra>",
         "legendgroup": "1000",
         "line": {
          "color": "#EF553B",
          "dash": "solid"
         },
         "marker": {
          "symbol": "circle"
         },
         "mode": "lines",
         "name": "1000",
         "orientation": "v",
         "showlegend": true,
         "type": "scatter",
         "x": [
          "embedder.block1.conv_in0",
          "embedder.block1.res1.relu1_out",
          "embedder.block1.res1.relu2_out",
          "embedder.block1.res1.resadd_out",
          "embedder.block1.res2.relu1_out",
          "embedder.block1.res2.relu2_out",
          "embedder.block1.res2.resadd_out",
          "embedder.block2.res1.relu1_out",
          "embedder.block2.res1.relu2_out",
          "embedder.block2.res1.resadd_out",
          "embedder.block2.res2.relu1_out",
          "embedder.block2.res2.relu2_out",
          "embedder.block2.res2.resadd_out",
          "embedder.block3.res1.relu1_out",
          "embedder.block3.res1.relu2_out",
          "embedder.block3.res1.resadd_out",
          "embedder.block3.res2.relu1_out",
          "embedder.block3.res2.relu2_out",
          "embedder.block3.res2.resadd_out"
         ],
         "xaxis": "x",
         "y": [
          -0.07027475067810407,
          -0.04670343615349193,
          -0.04447637754998368,
          -0.04354227487179818,
          -0.02869396896471854,
          -0.022937562094683672,
          -0.018459148261064984,
          -0.02130446591073243,
          0.00018952286441487054,
          0.0402946916228758,
          -0.009316984778245052,
          -0.005069256229275787,
          0.05744141123314761,
          -0.05766740345145127,
          -0.07689999156324934,
          -0.13821136148883872,
          -0.18532502899296444,
          -0.21335184180251354,
          -0.2733613404008304
         ],
         "yaxis": "y"
        },
        {
         "hovertemplate": "K=100000<br>value_label=%{x}<br>score=%{y}<extra></extra>",
         "legendgroup": "100000",
         "line": {
          "color": "#00cc96",
          "dash": "solid"
         },
         "marker": {
          "symbol": "circle"
         },
         "mode": "lines",
         "name": "100000",
         "orientation": "v",
         "showlegend": true,
         "type": "scatter",
         "x": [
          "embedder.block1.conv_in0",
          "embedder.block1.res1.relu1_out",
          "embedder.block1.res1.relu2_out",
          "embedder.block1.res1.resadd_out",
          "embedder.block1.res2.relu1_out",
          "embedder.block1.res2.relu2_out",
          "embedder.block1.res2.resadd_out",
          "embedder.block2.res1.relu1_out",
          "embedder.block2.res1.relu2_out",
          "embedder.block2.res1.resadd_out",
          "embedder.block2.res2.relu1_out",
          "embedder.block2.res2.relu2_out",
          "embedder.block2.res2.resadd_out",
          "embedder.block3.res1.relu1_out",
          "embedder.block3.res1.relu2_out",
          "embedder.block3.res1.resadd_out",
          "embedder.block3.res2.relu1_out",
          "embedder.block3.res2.relu2_out",
          "embedder.block3.res2.resadd_out"
         ],
         "xaxis": "x",
         "y": [
          -0.18793429509029358,
          -0.12933737337389783,
          -0.09943073506658773,
          -0.13493309350668325,
          -0.05049341028792664,
          -0.019382411036372726,
          -0.111309053802638,
          0.03944452589436376,
          0.06263483176643914,
          -0.13465230073779422,
          0.062325221226263716,
          0.058343439729749536,
          0.019982953691519256,
          0.09319507495057078,
          0.022197275337761502,
          -0.21617817407472306,
          -0.08704302828992194,
          -0.08502421972818941,
          -0.26532467957218575
         ],
         "yaxis": "y"
        }
       ],
       "layout": {
        "legend": {
         "title": {
          "text": "K"
         },
         "tracegroupgap": 0
        },
        "template": {
         "data": {
          "bar": [
           {
            "error_x": {
             "color": "#2a3f5f"
            },
            "error_y": {
             "color": "#2a3f5f"
            },
            "marker": {
             "line": {
              "color": "#E5ECF6",
              "width": 0.5
             },
             "pattern": {
              "fillmode": "overlay",
              "size": 10,
              "solidity": 0.2
             }
            },
            "type": "bar"
           }
          ],
          "barpolar": [
           {
            "marker": {
             "line": {
              "color": "#E5ECF6",
              "width": 0.5
             },
             "pattern": {
              "fillmode": "overlay",
              "size": 10,
              "solidity": 0.2
             }
            },
            "type": "barpolar"
           }
          ],
          "carpet": [
           {
            "aaxis": {
             "endlinecolor": "#2a3f5f",
             "gridcolor": "white",
             "linecolor": "white",
             "minorgridcolor": "white",
             "startlinecolor": "#2a3f5f"
            },
            "baxis": {
             "endlinecolor": "#2a3f5f",
             "gridcolor": "white",
             "linecolor": "white",
             "minorgridcolor": "white",
             "startlinecolor": "#2a3f5f"
            },
            "type": "carpet"
           }
          ],
          "choropleth": [
           {
            "colorbar": {
             "outlinewidth": 0,
             "ticks": ""
            },
            "type": "choropleth"
           }
          ],
          "contour": [
           {
            "colorbar": {
             "outlinewidth": 0,
             "ticks": ""
            },
            "colorscale": [
             [
              0,
              "#0d0887"
             ],
             [
              0.1111111111111111,
              "#46039f"
             ],
             [
              0.2222222222222222,
              "#7201a8"
             ],
             [
              0.3333333333333333,
              "#9c179e"
             ],
             [
              0.4444444444444444,
              "#bd3786"
             ],
             [
              0.5555555555555556,
              "#d8576b"
             ],
             [
              0.6666666666666666,
              "#ed7953"
             ],
             [
              0.7777777777777778,
              "#fb9f3a"
             ],
             [
              0.8888888888888888,
              "#fdca26"
             ],
             [
              1,
              "#f0f921"
             ]
            ],
            "type": "contour"
           }
          ],
          "contourcarpet": [
           {
            "colorbar": {
             "outlinewidth": 0,
             "ticks": ""
            },
            "type": "contourcarpet"
           }
          ],
          "heatmap": [
           {
            "colorbar": {
             "outlinewidth": 0,
             "ticks": ""
            },
            "colorscale": [
             [
              0,
              "#0d0887"
             ],
             [
              0.1111111111111111,
              "#46039f"
             ],
             [
              0.2222222222222222,
              "#7201a8"
             ],
             [
              0.3333333333333333,
              "#9c179e"
             ],
             [
              0.4444444444444444,
              "#bd3786"
             ],
             [
              0.5555555555555556,
              "#d8576b"
             ],
             [
              0.6666666666666666,
              "#ed7953"
             ],
             [
              0.7777777777777778,
              "#fb9f3a"
             ],
             [
              0.8888888888888888,
              "#fdca26"
             ],
             [
              1,
              "#f0f921"
             ]
            ],
            "type": "heatmap"
           }
          ],
          "heatmapgl": [
           {
            "colorbar": {
             "outlinewidth": 0,
             "ticks": ""
            },
            "colorscale": [
             [
              0,
              "#0d0887"
             ],
             [
              0.1111111111111111,
              "#46039f"
             ],
             [
              0.2222222222222222,
              "#7201a8"
             ],
             [
              0.3333333333333333,
              "#9c179e"
             ],
             [
              0.4444444444444444,
              "#bd3786"
             ],
             [
              0.5555555555555556,
              "#d8576b"
             ],
             [
              0.6666666666666666,
              "#ed7953"
             ],
             [
              0.7777777777777778,
              "#fb9f3a"
             ],
             [
              0.8888888888888888,
              "#fdca26"
             ],
             [
              1,
              "#f0f921"
             ]
            ],
            "type": "heatmapgl"
           }
          ],
          "histogram": [
           {
            "marker": {
             "pattern": {
              "fillmode": "overlay",
              "size": 10,
              "solidity": 0.2
             }
            },
            "type": "histogram"
           }
          ],
          "histogram2d": [
           {
            "colorbar": {
             "outlinewidth": 0,
             "ticks": ""
            },
            "colorscale": [
             [
              0,
              "#0d0887"
             ],
             [
              0.1111111111111111,
              "#46039f"
             ],
             [
              0.2222222222222222,
              "#7201a8"
             ],
             [
              0.3333333333333333,
              "#9c179e"
             ],
             [
              0.4444444444444444,
              "#bd3786"
             ],
             [
              0.5555555555555556,
              "#d8576b"
             ],
             [
              0.6666666666666666,
              "#ed7953"
             ],
             [
              0.7777777777777778,
              "#fb9f3a"
             ],
             [
              0.8888888888888888,
              "#fdca26"
             ],
             [
              1,
              "#f0f921"
             ]
            ],
            "type": "histogram2d"
           }
          ],
          "histogram2dcontour": [
           {
            "colorbar": {
             "outlinewidth": 0,
             "ticks": ""
            },
            "colorscale": [
             [
              0,
              "#0d0887"
             ],
             [
              0.1111111111111111,
              "#46039f"
             ],
             [
              0.2222222222222222,
              "#7201a8"
             ],
             [
              0.3333333333333333,
              "#9c179e"
             ],
             [
              0.4444444444444444,
              "#bd3786"
             ],
             [
              0.5555555555555556,
              "#d8576b"
             ],
             [
              0.6666666666666666,
              "#ed7953"
             ],
             [
              0.7777777777777778,
              "#fb9f3a"
             ],
             [
              0.8888888888888888,
              "#fdca26"
             ],
             [
              1,
              "#f0f921"
             ]
            ],
            "type": "histogram2dcontour"
           }
          ],
          "mesh3d": [
           {
            "colorbar": {
             "outlinewidth": 0,
             "ticks": ""
            },
            "type": "mesh3d"
           }
          ],
          "parcoords": [
           {
            "line": {
             "colorbar": {
              "outlinewidth": 0,
              "ticks": ""
             }
            },
            "type": "parcoords"
           }
          ],
          "pie": [
           {
            "automargin": true,
            "type": "pie"
           }
          ],
          "scatter": [
           {
            "fillpattern": {
             "fillmode": "overlay",
             "size": 10,
             "solidity": 0.2
            },
            "type": "scatter"
           }
          ],
          "scatter3d": [
           {
            "line": {
             "colorbar": {
              "outlinewidth": 0,
              "ticks": ""
             }
            },
            "marker": {
             "colorbar": {
              "outlinewidth": 0,
              "ticks": ""
             }
            },
            "type": "scatter3d"
           }
          ],
          "scattercarpet": [
           {
            "marker": {
             "colorbar": {
              "outlinewidth": 0,
              "ticks": ""
             }
            },
            "type": "scattercarpet"
           }
          ],
          "scattergeo": [
           {
            "marker": {
             "colorbar": {
              "outlinewidth": 0,
              "ticks": ""
             }
            },
            "type": "scattergeo"
           }
          ],
          "scattergl": [
           {
            "marker": {
             "colorbar": {
              "outlinewidth": 0,
              "ticks": ""
             }
            },
            "type": "scattergl"
           }
          ],
          "scattermapbox": [
           {
            "marker": {
             "colorbar": {
              "outlinewidth": 0,
              "ticks": ""
             }
            },
            "type": "scattermapbox"
           }
          ],
          "scatterpolar": [
           {
            "marker": {
             "colorbar": {
              "outlinewidth": 0,
              "ticks": ""
             }
            },
            "type": "scatterpolar"
           }
          ],
          "scatterpolargl": [
           {
            "marker": {
             "colorbar": {
              "outlinewidth": 0,
              "ticks": ""
             }
            },
            "type": "scatterpolargl"
           }
          ],
          "scatterternary": [
           {
            "marker": {
             "colorbar": {
              "outlinewidth": 0,
              "ticks": ""
             }
            },
            "type": "scatterternary"
           }
          ],
          "surface": [
           {
            "colorbar": {
             "outlinewidth": 0,
             "ticks": ""
            },
            "colorscale": [
             [
              0,
              "#0d0887"
             ],
             [
              0.1111111111111111,
              "#46039f"
             ],
             [
              0.2222222222222222,
              "#7201a8"
             ],
             [
              0.3333333333333333,
              "#9c179e"
             ],
             [
              0.4444444444444444,
              "#bd3786"
             ],
             [
              0.5555555555555556,
              "#d8576b"
             ],
             [
              0.6666666666666666,
              "#ed7953"
             ],
             [
              0.7777777777777778,
              "#fb9f3a"
             ],
             [
              0.8888888888888888,
              "#fdca26"
             ],
             [
              1,
              "#f0f921"
             ]
            ],
            "type": "surface"
           }
          ],
          "table": [
           {
            "cells": {
             "fill": {
              "color": "#EBF0F8"
             },
             "line": {
              "color": "white"
             }
            },
            "header": {
             "fill": {
              "color": "#C8D4E3"
             },
             "line": {
              "color": "white"
             }
            },
            "type": "table"
           }
          ]
         },
         "layout": {
          "annotationdefaults": {
           "arrowcolor": "#2a3f5f",
           "arrowhead": 0,
           "arrowwidth": 1
          },
          "autotypenumbers": "strict",
          "coloraxis": {
           "colorbar": {
            "outlinewidth": 0,
            "ticks": ""
           }
          },
          "colorscale": {
           "diverging": [
            [
             0,
             "#8e0152"
            ],
            [
             0.1,
             "#c51b7d"
            ],
            [
             0.2,
             "#de77ae"
            ],
            [
             0.3,
             "#f1b6da"
            ],
            [
             0.4,
             "#fde0ef"
            ],
            [
             0.5,
             "#f7f7f7"
            ],
            [
             0.6,
             "#e6f5d0"
            ],
            [
             0.7,
             "#b8e186"
            ],
            [
             0.8,
             "#7fbc41"
            ],
            [
             0.9,
             "#4d9221"
            ],
            [
             1,
             "#276419"
            ]
           ],
           "sequential": [
            [
             0,
             "#0d0887"
            ],
            [
             0.1111111111111111,
             "#46039f"
            ],
            [
             0.2222222222222222,
             "#7201a8"
            ],
            [
             0.3333333333333333,
             "#9c179e"
            ],
            [
             0.4444444444444444,
             "#bd3786"
            ],
            [
             0.5555555555555556,
             "#d8576b"
            ],
            [
             0.6666666666666666,
             "#ed7953"
            ],
            [
             0.7777777777777778,
             "#fb9f3a"
            ],
            [
             0.8888888888888888,
             "#fdca26"
            ],
            [
             1,
             "#f0f921"
            ]
           ],
           "sequentialminus": [
            [
             0,
             "#0d0887"
            ],
            [
             0.1111111111111111,
             "#46039f"
            ],
            [
             0.2222222222222222,
             "#7201a8"
            ],
            [
             0.3333333333333333,
             "#9c179e"
            ],
            [
             0.4444444444444444,
             "#bd3786"
            ],
            [
             0.5555555555555556,
             "#d8576b"
            ],
            [
             0.6666666666666666,
             "#ed7953"
            ],
            [
             0.7777777777777778,
             "#fb9f3a"
            ],
            [
             0.8888888888888888,
             "#fdca26"
            ],
            [
             1,
             "#f0f921"
            ]
           ]
          },
          "colorway": [
           "#636efa",
           "#EF553B",
           "#00cc96",
           "#ab63fa",
           "#FFA15A",
           "#19d3f3",
           "#FF6692",
           "#B6E880",
           "#FF97FF",
           "#FECB52"
          ],
          "font": {
           "color": "#2a3f5f"
          },
          "geo": {
           "bgcolor": "white",
           "lakecolor": "white",
           "landcolor": "#E5ECF6",
           "showlakes": true,
           "showland": true,
           "subunitcolor": "white"
          },
          "hoverlabel": {
           "align": "left"
          },
          "hovermode": "closest",
          "mapbox": {
           "style": "light"
          },
          "paper_bgcolor": "white",
          "plot_bgcolor": "#E5ECF6",
          "polar": {
           "angularaxis": {
            "gridcolor": "white",
            "linecolor": "white",
            "ticks": ""
           },
           "bgcolor": "#E5ECF6",
           "radialaxis": {
            "gridcolor": "white",
            "linecolor": "white",
            "ticks": ""
           }
          },
          "scene": {
           "xaxis": {
            "backgroundcolor": "#E5ECF6",
            "gridcolor": "white",
            "gridwidth": 2,
            "linecolor": "white",
            "showbackground": true,
            "ticks": "",
            "zerolinecolor": "white"
           },
           "yaxis": {
            "backgroundcolor": "#E5ECF6",
            "gridcolor": "white",
            "gridwidth": 2,
            "linecolor": "white",
            "showbackground": true,
            "ticks": "",
            "zerolinecolor": "white"
           },
           "zaxis": {
            "backgroundcolor": "#E5ECF6",
            "gridcolor": "white",
            "gridwidth": 2,
            "linecolor": "white",
            "showbackground": true,
            "ticks": "",
            "zerolinecolor": "white"
           }
          },
          "shapedefaults": {
           "line": {
            "color": "#2a3f5f"
           }
          },
          "ternary": {
           "aaxis": {
            "gridcolor": "white",
            "linecolor": "white",
            "ticks": ""
           },
           "baxis": {
            "gridcolor": "white",
            "linecolor": "white",
            "ticks": ""
           },
           "bgcolor": "#E5ECF6",
           "caxis": {
            "gridcolor": "white",
            "linecolor": "white",
            "ticks": ""
           }
          },
          "title": {
           "x": 0.05
          },
          "xaxis": {
           "automargin": true,
           "gridcolor": "white",
           "linecolor": "white",
           "ticks": "",
           "title": {
            "standoff": 15
           },
           "zerolinecolor": "white",
           "zerolinewidth": 2
          },
          "yaxis": {
           "automargin": true,
           "gridcolor": "white",
           "linecolor": "white",
           "ticks": "",
           "title": {
            "standoff": 15
           },
           "zerolinecolor": "white",
           "zerolinewidth": 2
          }
         }
        },
        "title": {
         "text": "Probe score over layers for: Model = Top Right Mouse, abstraction = Cheese"
        },
        "xaxis": {
         "anchor": "y",
         "domain": [
          0,
          1
         ],
         "title": {
          "text": "value_label"
         }
        },
        "yaxis": {
         "anchor": "x",
         "domain": [
          0,
          1
         ],
         "title": {
          "text": "score"
         }
        }
       }
      },
      "text/html": [
       "<div>                            <div id=\"f7e6fdee-96bb-4772-a34a-1687b15ef471\" class=\"plotly-graph-div\" style=\"height:525px; width:100%;\"></div>            <script type=\"text/javascript\">                require([\"plotly\"], function(Plotly) {                    window.PLOTLYENV=window.PLOTLYENV || {};                                    if (document.getElementById(\"f7e6fdee-96bb-4772-a34a-1687b15ef471\")) {                    Plotly.newPlot(                        \"f7e6fdee-96bb-4772-a34a-1687b15ef471\",                        [{\"hovertemplate\":\"K=100\\u003cbr\\u003evalue_label=%{x}\\u003cbr\\u003escore=%{y}\\u003cextra\\u003e\\u003c\\u002fextra\\u003e\",\"legendgroup\":\"100\",\"line\":{\"color\":\"#636efa\",\"dash\":\"solid\"},\"marker\":{\"symbol\":\"circle\"},\"mode\":\"lines\",\"name\":\"100\",\"orientation\":\"v\",\"showlegend\":true,\"x\":[\"embedder.block1.conv_in0\",\"embedder.block1.res1.relu1_out\",\"embedder.block1.res1.relu2_out\",\"embedder.block1.res1.resadd_out\",\"embedder.block1.res2.relu1_out\",\"embedder.block1.res2.relu2_out\",\"embedder.block1.res2.resadd_out\",\"embedder.block2.res1.relu1_out\",\"embedder.block2.res1.relu2_out\",\"embedder.block2.res1.resadd_out\",\"embedder.block2.res2.relu1_out\",\"embedder.block2.res2.relu2_out\",\"embedder.block2.res2.resadd_out\",\"embedder.block3.res1.relu1_out\",\"embedder.block3.res1.relu2_out\",\"embedder.block3.res1.resadd_out\",\"embedder.block3.res2.relu1_out\",\"embedder.block3.res2.relu2_out\",\"embedder.block3.res2.resadd_out\"],\"xaxis\":\"x\",\"y\":[-0.07468435982060706,-0.02877090169215779,-0.026549268385073654,-0.028777715150718253,-0.026474528948789988,-0.0261403415388739,-0.024215203044990696,-0.026171771092385443,-0.025670586257030337,-0.017685584509124608,-0.025126469568931054,-0.01856199713054818,-0.0016220733466385528,-0.042587173301199543,-0.046744278299100994,-0.22343131006070416,-0.04659355801868004,-0.08445954492996699,-0.2538871109954155],\"yaxis\":\"y\",\"type\":\"scatter\"},{\"hovertemplate\":\"K=1000\\u003cbr\\u003evalue_label=%{x}\\u003cbr\\u003escore=%{y}\\u003cextra\\u003e\\u003c\\u002fextra\\u003e\",\"legendgroup\":\"1000\",\"line\":{\"color\":\"#EF553B\",\"dash\":\"solid\"},\"marker\":{\"symbol\":\"circle\"},\"mode\":\"lines\",\"name\":\"1000\",\"orientation\":\"v\",\"showlegend\":true,\"x\":[\"embedder.block1.conv_in0\",\"embedder.block1.res1.relu1_out\",\"embedder.block1.res1.relu2_out\",\"embedder.block1.res1.resadd_out\",\"embedder.block1.res2.relu1_out\",\"embedder.block1.res2.relu2_out\",\"embedder.block1.res2.resadd_out\",\"embedder.block2.res1.relu1_out\",\"embedder.block2.res1.relu2_out\",\"embedder.block2.res1.resadd_out\",\"embedder.block2.res2.relu1_out\",\"embedder.block2.res2.relu2_out\",\"embedder.block2.res2.resadd_out\",\"embedder.block3.res1.relu1_out\",\"embedder.block3.res1.relu2_out\",\"embedder.block3.res1.resadd_out\",\"embedder.block3.res2.relu1_out\",\"embedder.block3.res2.relu2_out\",\"embedder.block3.res2.resadd_out\"],\"xaxis\":\"x\",\"y\":[-0.07027475067810407,-0.04670343615349193,-0.04447637754998368,-0.04354227487179818,-0.02869396896471854,-0.022937562094683672,-0.018459148261064984,-0.02130446591073243,0.00018952286441487054,0.0402946916228758,-0.009316984778245052,-0.005069256229275787,0.05744141123314761,-0.05766740345145127,-0.07689999156324934,-0.13821136148883872,-0.18532502899296444,-0.21335184180251354,-0.2733613404008304],\"yaxis\":\"y\",\"type\":\"scatter\"},{\"hovertemplate\":\"K=100000\\u003cbr\\u003evalue_label=%{x}\\u003cbr\\u003escore=%{y}\\u003cextra\\u003e\\u003c\\u002fextra\\u003e\",\"legendgroup\":\"100000\",\"line\":{\"color\":\"#00cc96\",\"dash\":\"solid\"},\"marker\":{\"symbol\":\"circle\"},\"mode\":\"lines\",\"name\":\"100000\",\"orientation\":\"v\",\"showlegend\":true,\"x\":[\"embedder.block1.conv_in0\",\"embedder.block1.res1.relu1_out\",\"embedder.block1.res1.relu2_out\",\"embedder.block1.res1.resadd_out\",\"embedder.block1.res2.relu1_out\",\"embedder.block1.res2.relu2_out\",\"embedder.block1.res2.resadd_out\",\"embedder.block2.res1.relu1_out\",\"embedder.block2.res1.relu2_out\",\"embedder.block2.res1.resadd_out\",\"embedder.block2.res2.relu1_out\",\"embedder.block2.res2.relu2_out\",\"embedder.block2.res2.resadd_out\",\"embedder.block3.res1.relu1_out\",\"embedder.block3.res1.relu2_out\",\"embedder.block3.res1.resadd_out\",\"embedder.block3.res2.relu1_out\",\"embedder.block3.res2.relu2_out\",\"embedder.block3.res2.resadd_out\"],\"xaxis\":\"x\",\"y\":[-0.18793429509029358,-0.12933737337389783,-0.09943073506658773,-0.13493309350668325,-0.05049341028792664,-0.019382411036372726,-0.111309053802638,0.03944452589436376,0.06263483176643914,-0.13465230073779422,0.062325221226263716,0.058343439729749536,0.019982953691519256,0.09319507495057078,0.022197275337761502,-0.21617817407472306,-0.08704302828992194,-0.08502421972818941,-0.26532467957218575],\"yaxis\":\"y\",\"type\":\"scatter\"}],                        {\"template\":{\"data\":{\"histogram2dcontour\":[{\"type\":\"histogram2dcontour\",\"colorbar\":{\"outlinewidth\":0,\"ticks\":\"\"},\"colorscale\":[[0.0,\"#0d0887\"],[0.1111111111111111,\"#46039f\"],[0.2222222222222222,\"#7201a8\"],[0.3333333333333333,\"#9c179e\"],[0.4444444444444444,\"#bd3786\"],[0.5555555555555556,\"#d8576b\"],[0.6666666666666666,\"#ed7953\"],[0.7777777777777778,\"#fb9f3a\"],[0.8888888888888888,\"#fdca26\"],[1.0,\"#f0f921\"]]}],\"choropleth\":[{\"type\":\"choropleth\",\"colorbar\":{\"outlinewidth\":0,\"ticks\":\"\"}}],\"histogram2d\":[{\"type\":\"histogram2d\",\"colorbar\":{\"outlinewidth\":0,\"ticks\":\"\"},\"colorscale\":[[0.0,\"#0d0887\"],[0.1111111111111111,\"#46039f\"],[0.2222222222222222,\"#7201a8\"],[0.3333333333333333,\"#9c179e\"],[0.4444444444444444,\"#bd3786\"],[0.5555555555555556,\"#d8576b\"],[0.6666666666666666,\"#ed7953\"],[0.7777777777777778,\"#fb9f3a\"],[0.8888888888888888,\"#fdca26\"],[1.0,\"#f0f921\"]]}],\"heatmap\":[{\"type\":\"heatmap\",\"colorbar\":{\"outlinewidth\":0,\"ticks\":\"\"},\"colorscale\":[[0.0,\"#0d0887\"],[0.1111111111111111,\"#46039f\"],[0.2222222222222222,\"#7201a8\"],[0.3333333333333333,\"#9c179e\"],[0.4444444444444444,\"#bd3786\"],[0.5555555555555556,\"#d8576b\"],[0.6666666666666666,\"#ed7953\"],[0.7777777777777778,\"#fb9f3a\"],[0.8888888888888888,\"#fdca26\"],[1.0,\"#f0f921\"]]}],\"heatmapgl\":[{\"type\":\"heatmapgl\",\"colorbar\":{\"outlinewidth\":0,\"ticks\":\"\"},\"colorscale\":[[0.0,\"#0d0887\"],[0.1111111111111111,\"#46039f\"],[0.2222222222222222,\"#7201a8\"],[0.3333333333333333,\"#9c179e\"],[0.4444444444444444,\"#bd3786\"],[0.5555555555555556,\"#d8576b\"],[0.6666666666666666,\"#ed7953\"],[0.7777777777777778,\"#fb9f3a\"],[0.8888888888888888,\"#fdca26\"],[1.0,\"#f0f921\"]]}],\"contourcarpet\":[{\"type\":\"contourcarpet\",\"colorbar\":{\"outlinewidth\":0,\"ticks\":\"\"}}],\"contour\":[{\"type\":\"contour\",\"colorbar\":{\"outlinewidth\":0,\"ticks\":\"\"},\"colorscale\":[[0.0,\"#0d0887\"],[0.1111111111111111,\"#46039f\"],[0.2222222222222222,\"#7201a8\"],[0.3333333333333333,\"#9c179e\"],[0.4444444444444444,\"#bd3786\"],[0.5555555555555556,\"#d8576b\"],[0.6666666666666666,\"#ed7953\"],[0.7777777777777778,\"#fb9f3a\"],[0.8888888888888888,\"#fdca26\"],[1.0,\"#f0f921\"]]}],\"surface\":[{\"type\":\"surface\",\"colorbar\":{\"outlinewidth\":0,\"ticks\":\"\"},\"colorscale\":[[0.0,\"#0d0887\"],[0.1111111111111111,\"#46039f\"],[0.2222222222222222,\"#7201a8\"],[0.3333333333333333,\"#9c179e\"],[0.4444444444444444,\"#bd3786\"],[0.5555555555555556,\"#d8576b\"],[0.6666666666666666,\"#ed7953\"],[0.7777777777777778,\"#fb9f3a\"],[0.8888888888888888,\"#fdca26\"],[1.0,\"#f0f921\"]]}],\"mesh3d\":[{\"type\":\"mesh3d\",\"colorbar\":{\"outlinewidth\":0,\"ticks\":\"\"}}],\"scatter\":[{\"fillpattern\":{\"fillmode\":\"overlay\",\"size\":10,\"solidity\":0.2},\"type\":\"scatter\"}],\"parcoords\":[{\"type\":\"parcoords\",\"line\":{\"colorbar\":{\"outlinewidth\":0,\"ticks\":\"\"}}}],\"scatterpolargl\":[{\"type\":\"scatterpolargl\",\"marker\":{\"colorbar\":{\"outlinewidth\":0,\"ticks\":\"\"}}}],\"bar\":[{\"error_x\":{\"color\":\"#2a3f5f\"},\"error_y\":{\"color\":\"#2a3f5f\"},\"marker\":{\"line\":{\"color\":\"#E5ECF6\",\"width\":0.5},\"pattern\":{\"fillmode\":\"overlay\",\"size\":10,\"solidity\":0.2}},\"type\":\"bar\"}],\"scattergeo\":[{\"type\":\"scattergeo\",\"marker\":{\"colorbar\":{\"outlinewidth\":0,\"ticks\":\"\"}}}],\"scatterpolar\":[{\"type\":\"scatterpolar\",\"marker\":{\"colorbar\":{\"outlinewidth\":0,\"ticks\":\"\"}}}],\"histogram\":[{\"marker\":{\"pattern\":{\"fillmode\":\"overlay\",\"size\":10,\"solidity\":0.2}},\"type\":\"histogram\"}],\"scattergl\":[{\"type\":\"scattergl\",\"marker\":{\"colorbar\":{\"outlinewidth\":0,\"ticks\":\"\"}}}],\"scatter3d\":[{\"type\":\"scatter3d\",\"line\":{\"colorbar\":{\"outlinewidth\":0,\"ticks\":\"\"}},\"marker\":{\"colorbar\":{\"outlinewidth\":0,\"ticks\":\"\"}}}],\"scattermapbox\":[{\"type\":\"scattermapbox\",\"marker\":{\"colorbar\":{\"outlinewidth\":0,\"ticks\":\"\"}}}],\"scatterternary\":[{\"type\":\"scatterternary\",\"marker\":{\"colorbar\":{\"outlinewidth\":0,\"ticks\":\"\"}}}],\"scattercarpet\":[{\"type\":\"scattercarpet\",\"marker\":{\"colorbar\":{\"outlinewidth\":0,\"ticks\":\"\"}}}],\"carpet\":[{\"aaxis\":{\"endlinecolor\":\"#2a3f5f\",\"gridcolor\":\"white\",\"linecolor\":\"white\",\"minorgridcolor\":\"white\",\"startlinecolor\":\"#2a3f5f\"},\"baxis\":{\"endlinecolor\":\"#2a3f5f\",\"gridcolor\":\"white\",\"linecolor\":\"white\",\"minorgridcolor\":\"white\",\"startlinecolor\":\"#2a3f5f\"},\"type\":\"carpet\"}],\"table\":[{\"cells\":{\"fill\":{\"color\":\"#EBF0F8\"},\"line\":{\"color\":\"white\"}},\"header\":{\"fill\":{\"color\":\"#C8D4E3\"},\"line\":{\"color\":\"white\"}},\"type\":\"table\"}],\"barpolar\":[{\"marker\":{\"line\":{\"color\":\"#E5ECF6\",\"width\":0.5},\"pattern\":{\"fillmode\":\"overlay\",\"size\":10,\"solidity\":0.2}},\"type\":\"barpolar\"}],\"pie\":[{\"automargin\":true,\"type\":\"pie\"}]},\"layout\":{\"autotypenumbers\":\"strict\",\"colorway\":[\"#636efa\",\"#EF553B\",\"#00cc96\",\"#ab63fa\",\"#FFA15A\",\"#19d3f3\",\"#FF6692\",\"#B6E880\",\"#FF97FF\",\"#FECB52\"],\"font\":{\"color\":\"#2a3f5f\"},\"hovermode\":\"closest\",\"hoverlabel\":{\"align\":\"left\"},\"paper_bgcolor\":\"white\",\"plot_bgcolor\":\"#E5ECF6\",\"polar\":{\"bgcolor\":\"#E5ECF6\",\"angularaxis\":{\"gridcolor\":\"white\",\"linecolor\":\"white\",\"ticks\":\"\"},\"radialaxis\":{\"gridcolor\":\"white\",\"linecolor\":\"white\",\"ticks\":\"\"}},\"ternary\":{\"bgcolor\":\"#E5ECF6\",\"aaxis\":{\"gridcolor\":\"white\",\"linecolor\":\"white\",\"ticks\":\"\"},\"baxis\":{\"gridcolor\":\"white\",\"linecolor\":\"white\",\"ticks\":\"\"},\"caxis\":{\"gridcolor\":\"white\",\"linecolor\":\"white\",\"ticks\":\"\"}},\"coloraxis\":{\"colorbar\":{\"outlinewidth\":0,\"ticks\":\"\"}},\"colorscale\":{\"sequential\":[[0.0,\"#0d0887\"],[0.1111111111111111,\"#46039f\"],[0.2222222222222222,\"#7201a8\"],[0.3333333333333333,\"#9c179e\"],[0.4444444444444444,\"#bd3786\"],[0.5555555555555556,\"#d8576b\"],[0.6666666666666666,\"#ed7953\"],[0.7777777777777778,\"#fb9f3a\"],[0.8888888888888888,\"#fdca26\"],[1.0,\"#f0f921\"]],\"sequentialminus\":[[0.0,\"#0d0887\"],[0.1111111111111111,\"#46039f\"],[0.2222222222222222,\"#7201a8\"],[0.3333333333333333,\"#9c179e\"],[0.4444444444444444,\"#bd3786\"],[0.5555555555555556,\"#d8576b\"],[0.6666666666666666,\"#ed7953\"],[0.7777777777777778,\"#fb9f3a\"],[0.8888888888888888,\"#fdca26\"],[1.0,\"#f0f921\"]],\"diverging\":[[0,\"#8e0152\"],[0.1,\"#c51b7d\"],[0.2,\"#de77ae\"],[0.3,\"#f1b6da\"],[0.4,\"#fde0ef\"],[0.5,\"#f7f7f7\"],[0.6,\"#e6f5d0\"],[0.7,\"#b8e186\"],[0.8,\"#7fbc41\"],[0.9,\"#4d9221\"],[1,\"#276419\"]]},\"xaxis\":{\"gridcolor\":\"white\",\"linecolor\":\"white\",\"ticks\":\"\",\"title\":{\"standoff\":15},\"zerolinecolor\":\"white\",\"automargin\":true,\"zerolinewidth\":2},\"yaxis\":{\"gridcolor\":\"white\",\"linecolor\":\"white\",\"ticks\":\"\",\"title\":{\"standoff\":15},\"zerolinecolor\":\"white\",\"automargin\":true,\"zerolinewidth\":2},\"scene\":{\"xaxis\":{\"backgroundcolor\":\"#E5ECF6\",\"gridcolor\":\"white\",\"linecolor\":\"white\",\"showbackground\":true,\"ticks\":\"\",\"zerolinecolor\":\"white\",\"gridwidth\":2},\"yaxis\":{\"backgroundcolor\":\"#E5ECF6\",\"gridcolor\":\"white\",\"linecolor\":\"white\",\"showbackground\":true,\"ticks\":\"\",\"zerolinecolor\":\"white\",\"gridwidth\":2},\"zaxis\":{\"backgroundcolor\":\"#E5ECF6\",\"gridcolor\":\"white\",\"linecolor\":\"white\",\"showbackground\":true,\"ticks\":\"\",\"zerolinecolor\":\"white\",\"gridwidth\":2}},\"shapedefaults\":{\"line\":{\"color\":\"#2a3f5f\"}},\"annotationdefaults\":{\"arrowcolor\":\"#2a3f5f\",\"arrowhead\":0,\"arrowwidth\":1},\"geo\":{\"bgcolor\":\"white\",\"landcolor\":\"#E5ECF6\",\"subunitcolor\":\"white\",\"showland\":true,\"showlakes\":true,\"lakecolor\":\"white\"},\"title\":{\"x\":0.05},\"mapbox\":{\"style\":\"light\"}}},\"xaxis\":{\"anchor\":\"y\",\"domain\":[0.0,1.0],\"title\":{\"text\":\"value_label\"}},\"yaxis\":{\"anchor\":\"x\",\"domain\":[0.0,1.0],\"title\":{\"text\":\"score\"}},\"legend\":{\"title\":{\"text\":\"K\"},\"tracegroupgap\":0},\"title\":{\"text\":\"Probe score over layers for: Model = Top Right Mouse, abstraction = Cheese\"}},                        {\"responsive\": true}                    ).then(function(){\n",
       "                            \n",
       "var gd = document.getElementById('f7e6fdee-96bb-4772-a34a-1687b15ef471');\n",
       "var x = new MutationObserver(function (mutations, observer) {{\n",
       "        var display = window.getComputedStyle(gd).display;\n",
       "        if (!display || display === 'none') {{\n",
       "            console.log([gd, 'removed!']);\n",
       "            Plotly.purge(gd);\n",
       "            observer.disconnect();\n",
       "        }}\n",
       "}});\n",
       "\n",
       "// Listen for the removal of the full notebook cells\n",
       "var notebookContainer = gd.closest('#notebook-container');\n",
       "if (notebookContainer) {{\n",
       "    x.observe(notebookContainer, {childList: true});\n",
       "}}\n",
       "\n",
       "// Listen for the clearing of the current output cell\n",
       "var outputEl = gd.closest('.output');\n",
       "if (outputEl) {{\n",
       "    x.observe(outputEl, {childList: true});\n",
       "}}\n",
       "\n",
       "                        })                };                });            </script>        </div>"
      ]
     },
     "metadata": {},
     "output_type": "display_data"
    }
   ],
   "source": [
    "# Calculate linear probe scores\n",
    "\n",
    "index_nums = np.array([100,1000,100000])\n",
    "\n",
    "#TO DO: add normal scores, not sparse\n",
    "\n",
    "plot_linear_probe_score(hook1, values_to_store, goal_pos_x, index_nums, 'Cheese Mouse', 'Cheese')\n",
    "plot_linear_probe_score(hook2, values_to_store, goal_pos_x, index_nums, 'Top Right Mouse', 'Cheese')\n",
    "\n",
    "\n",
    "\n"
   ]
  },
  {
   "cell_type": "code",
   "execution_count": 40,
   "metadata": {},
   "outputs": [],
   "source": [
    "%%capture\n",
    "#Make pixel data\n",
    "\n",
    "pixel_data = {}\n",
    "f_test_dfs = {}\n",
    "obj_model_scores = {}\n",
    "\n",
    "pixel_data[('goal', model1_name)], f_test_dfs['cheese, hook1'] = make_pixel_data(values_to_store, goal_pos, hook1)\n",
    "pixel_data[('goal', model2_name)], f_test_dfs['cheese, hook2'] = make_pixel_data(values_to_store, goal_pos, hook2)\n",
    "# pixel_data[('goal variant', model1_name)], f_test_dfs['noobj, hook1'] = make_pixel_data(values_to_store, goal_variant_pos, hook1)\n",
    "# pixel_data[('goal variant', model2_name)], f_test_dfs['noobj, hook2'] = make_pixel_data(values_to_store, goal_variant_pos, hook2)\n",
    "\n"
   ]
  },
  {
   "cell_type": "code",
   "execution_count": 46,
   "metadata": {},
   "outputs": [
    {
     "name": "stderr",
     "output_type": "stream",
     "text": [
      "  0%|          | 0/19 [00:00<?, ?it/s]"
     ]
    },
    {
     "name": "stderr",
     "output_type": "stream",
     "text": [
      "100%|██████████| 19/19 [00:04<00:00,  4.19it/s]\n",
      "/tmp/ipykernel_113706/301907806.py:17: SettingWithCopyWarning:\n",
      "\n",
      "\n",
      "A value is trying to be set on a copy of a slice from a DataFrame.\n",
      "Try using .loc[row_indexer,col_indexer] = value instead\n",
      "\n",
      "See the caveats in the documentation: https://pandas.pydata.org/pandas-docs/stable/user_guide/indexing.html#returning-a-view-versus-a-copy\n",
      "\n"
     ]
    },
    {
     "data": {
      "application/vnd.plotly.v1+json": {
       "config": {
        "plotlyServerURL": "https://plot.ly"
       },
       "data": [
        {
         "hovertemplate": "K=1<br>layer=%{x}<br>score=%{y}<extra></extra>",
         "legendgroup": "1",
         "line": {
          "color": "#636efa",
          "dash": "solid"
         },
         "marker": {
          "symbol": "circle"
         },
         "mode": "lines",
         "name": "1",
         "orientation": "v",
         "showlegend": true,
         "type": "scatter",
         "x": [
          "embedder.block1.conv_in0",
          "embedder.block1.res1.relu1_out",
          "embedder.block1.res1.relu2_out",
          "embedder.block1.res1.resadd_out",
          "embedder.block1.res2.relu1_out",
          "embedder.block1.res2.relu2_out",
          "embedder.block1.res2.resadd_out",
          "embedder.block2.res1.relu1_out",
          "embedder.block2.res1.relu2_out",
          "embedder.block2.res1.resadd_out",
          "embedder.block2.res2.relu1_out",
          "embedder.block2.res2.relu2_out",
          "embedder.block2.res2.resadd_out",
          "embedder.block3.res1.relu1_out",
          "embedder.block3.res1.relu2_out",
          "embedder.block3.res1.resadd_out",
          "embedder.block3.res2.relu1_out",
          "embedder.block3.res2.relu2_out",
          "embedder.block3.res2.resadd_out"
         ],
         "xaxis": "x",
         "y": [
          0.95,
          0.9875,
          0.875,
          0.95,
          0.95,
          0.9625,
          0.975,
          1,
          0.9,
          1,
          0.9875,
          0.875,
          0.975,
          0.8625,
          0.825,
          0.8,
          0.7875,
          0.725,
          0.8
         ],
         "yaxis": "y"
        },
        {
         "hovertemplate": "K=2<br>layer=%{x}<br>score=%{y}<extra></extra>",
         "legendgroup": "2",
         "line": {
          "color": "#EF553B",
          "dash": "solid"
         },
         "marker": {
          "symbol": "circle"
         },
         "mode": "lines",
         "name": "2",
         "orientation": "v",
         "showlegend": true,
         "type": "scatter",
         "x": [
          "embedder.block1.conv_in0",
          "embedder.block1.res1.relu1_out",
          "embedder.block1.res1.relu2_out",
          "embedder.block1.res1.resadd_out",
          "embedder.block1.res2.relu1_out",
          "embedder.block1.res2.relu2_out",
          "embedder.block1.res2.resadd_out",
          "embedder.block2.res1.relu1_out",
          "embedder.block2.res1.relu2_out",
          "embedder.block2.res1.resadd_out",
          "embedder.block2.res2.relu1_out",
          "embedder.block2.res2.relu2_out",
          "embedder.block2.res2.resadd_out",
          "embedder.block3.res1.relu1_out",
          "embedder.block3.res1.relu2_out",
          "embedder.block3.res1.resadd_out",
          "embedder.block3.res2.relu1_out",
          "embedder.block3.res2.relu2_out",
          "embedder.block3.res2.resadd_out"
         ],
         "xaxis": "x",
         "y": [
          0.95,
          0.9875,
          0.8875,
          0.9875,
          0.9875,
          0.9875,
          1,
          1,
          0.95,
          1,
          0.9875,
          0.9375,
          0.9875,
          0.85,
          0.825,
          0.825,
          0.7875,
          0.725,
          0.825
         ],
         "yaxis": "y"
        },
        {
         "hovertemplate": "K=3<br>layer=%{x}<br>score=%{y}<extra></extra>",
         "legendgroup": "3",
         "line": {
          "color": "#00cc96",
          "dash": "solid"
         },
         "marker": {
          "symbol": "circle"
         },
         "mode": "lines",
         "name": "3",
         "orientation": "v",
         "showlegend": true,
         "type": "scatter",
         "x": [
          "embedder.block1.conv_in0",
          "embedder.block1.res1.relu1_out",
          "embedder.block1.res1.relu2_out",
          "embedder.block1.res1.resadd_out",
          "embedder.block1.res2.relu1_out",
          "embedder.block1.res2.relu2_out",
          "embedder.block1.res2.resadd_out",
          "embedder.block2.res1.relu1_out",
          "embedder.block2.res1.relu2_out",
          "embedder.block2.res1.resadd_out",
          "embedder.block2.res2.relu1_out",
          "embedder.block2.res2.relu2_out",
          "embedder.block2.res2.resadd_out",
          "embedder.block3.res1.relu1_out",
          "embedder.block3.res1.relu2_out",
          "embedder.block3.res1.resadd_out",
          "embedder.block3.res2.relu1_out",
          "embedder.block3.res2.relu2_out",
          "embedder.block3.res2.resadd_out"
         ],
         "xaxis": "x",
         "y": [
          0.95,
          0.9875,
          0.9125,
          0.9875,
          0.975,
          1,
          1,
          1,
          0.95,
          1,
          0.9875,
          0.9375,
          0.9875,
          0.85,
          0.8375,
          0.825,
          0.8125,
          0.725,
          0.8375
         ],
         "yaxis": "y"
        },
        {
         "hovertemplate": "K=4<br>layer=%{x}<br>score=%{y}<extra></extra>",
         "legendgroup": "4",
         "line": {
          "color": "#ab63fa",
          "dash": "solid"
         },
         "marker": {
          "symbol": "circle"
         },
         "mode": "lines",
         "name": "4",
         "orientation": "v",
         "showlegend": true,
         "type": "scatter",
         "x": [
          "embedder.block1.conv_in0",
          "embedder.block1.res1.relu1_out",
          "embedder.block1.res1.relu2_out",
          "embedder.block1.res1.resadd_out",
          "embedder.block1.res2.relu1_out",
          "embedder.block1.res2.relu2_out",
          "embedder.block1.res2.resadd_out",
          "embedder.block2.res1.relu1_out",
          "embedder.block2.res1.relu2_out",
          "embedder.block2.res1.resadd_out",
          "embedder.block2.res2.relu1_out",
          "embedder.block2.res2.relu2_out",
          "embedder.block2.res2.resadd_out",
          "embedder.block3.res1.relu1_out",
          "embedder.block3.res1.relu2_out",
          "embedder.block3.res1.resadd_out",
          "embedder.block3.res2.relu1_out",
          "embedder.block3.res2.relu2_out",
          "embedder.block3.res2.resadd_out"
         ],
         "xaxis": "x",
         "y": [
          0.95,
          0.9875,
          0.9125,
          0.9875,
          0.975,
          1,
          0.9875,
          1,
          0.9625,
          1,
          0.9875,
          0.9375,
          0.9875,
          0.875,
          0.825,
          0.825,
          0.8,
          0.75,
          0.8125
         ],
         "yaxis": "y"
        },
        {
         "hovertemplate": "K=5<br>layer=%{x}<br>score=%{y}<extra></extra>",
         "legendgroup": "5",
         "line": {
          "color": "#FFA15A",
          "dash": "solid"
         },
         "marker": {
          "symbol": "circle"
         },
         "mode": "lines",
         "name": "5",
         "orientation": "v",
         "showlegend": true,
         "type": "scatter",
         "x": [
          "embedder.block1.conv_in0",
          "embedder.block1.res1.relu1_out",
          "embedder.block1.res1.relu2_out",
          "embedder.block1.res1.resadd_out",
          "embedder.block1.res2.relu1_out",
          "embedder.block1.res2.relu2_out",
          "embedder.block1.res2.resadd_out",
          "embedder.block2.res1.relu1_out",
          "embedder.block2.res1.relu2_out",
          "embedder.block2.res1.resadd_out",
          "embedder.block2.res2.relu1_out",
          "embedder.block2.res2.relu2_out",
          "embedder.block2.res2.resadd_out",
          "embedder.block3.res1.relu1_out",
          "embedder.block3.res1.relu2_out",
          "embedder.block3.res1.resadd_out",
          "embedder.block3.res2.relu1_out",
          "embedder.block3.res2.relu2_out",
          "embedder.block3.res2.resadd_out"
         ],
         "xaxis": "x",
         "y": [
          0.95,
          0.9875,
          0.9375,
          0.9875,
          0.9875,
          1,
          0.9875,
          1,
          0.9625,
          1,
          1,
          0.95,
          0.9875,
          0.875,
          0.825,
          0.8375,
          0.8,
          0.825,
          0.825
         ],
         "yaxis": "y"
        },
        {
         "hovertemplate": "K=6<br>layer=%{x}<br>score=%{y}<extra></extra>",
         "legendgroup": "6",
         "line": {
          "color": "#19d3f3",
          "dash": "solid"
         },
         "marker": {
          "symbol": "circle"
         },
         "mode": "lines",
         "name": "6",
         "orientation": "v",
         "showlegend": true,
         "type": "scatter",
         "x": [
          "embedder.block1.conv_in0",
          "embedder.block1.res1.relu1_out",
          "embedder.block1.res1.relu2_out",
          "embedder.block1.res1.resadd_out",
          "embedder.block1.res2.relu1_out",
          "embedder.block1.res2.relu2_out",
          "embedder.block1.res2.resadd_out",
          "embedder.block2.res1.relu1_out",
          "embedder.block2.res1.relu2_out",
          "embedder.block2.res1.resadd_out",
          "embedder.block2.res2.relu1_out",
          "embedder.block2.res2.relu2_out",
          "embedder.block2.res2.resadd_out",
          "embedder.block3.res1.relu1_out",
          "embedder.block3.res1.relu2_out",
          "embedder.block3.res1.resadd_out",
          "embedder.block3.res2.relu1_out",
          "embedder.block3.res2.relu2_out",
          "embedder.block3.res2.resadd_out"
         ],
         "xaxis": "x",
         "y": [
          0.95,
          0.9875,
          0.95,
          0.9875,
          0.9875,
          1,
          0.9875,
          1,
          0.9875,
          1,
          0.9875,
          0.95,
          0.9875,
          0.875,
          0.825,
          0.8375,
          0.8125,
          0.8375,
          0.825
         ],
         "yaxis": "y"
        },
        {
         "hovertemplate": "K=7<br>layer=%{x}<br>score=%{y}<extra></extra>",
         "legendgroup": "7",
         "line": {
          "color": "#FF6692",
          "dash": "solid"
         },
         "marker": {
          "symbol": "circle"
         },
         "mode": "lines",
         "name": "7",
         "orientation": "v",
         "showlegend": true,
         "type": "scatter",
         "x": [
          "embedder.block1.conv_in0",
          "embedder.block1.res1.relu1_out",
          "embedder.block1.res1.relu2_out",
          "embedder.block1.res1.resadd_out",
          "embedder.block1.res2.relu1_out",
          "embedder.block1.res2.relu2_out",
          "embedder.block1.res2.resadd_out",
          "embedder.block2.res1.relu1_out",
          "embedder.block2.res1.relu2_out",
          "embedder.block2.res1.resadd_out",
          "embedder.block2.res2.relu1_out",
          "embedder.block2.res2.relu2_out",
          "embedder.block2.res2.resadd_out",
          "embedder.block3.res1.relu1_out",
          "embedder.block3.res1.relu2_out",
          "embedder.block3.res1.resadd_out",
          "embedder.block3.res2.relu1_out",
          "embedder.block3.res2.relu2_out",
          "embedder.block3.res2.resadd_out"
         ],
         "xaxis": "x",
         "y": [
          0.95,
          0.9875,
          0.95,
          0.9875,
          0.9875,
          1,
          0.9875,
          1,
          0.9875,
          1,
          1,
          0.95,
          0.9875,
          0.8625,
          0.8375,
          0.875,
          0.825,
          0.8375,
          0.85
         ],
         "yaxis": "y"
        },
        {
         "hovertemplate": "K=8<br>layer=%{x}<br>score=%{y}<extra></extra>",
         "legendgroup": "8",
         "line": {
          "color": "#B6E880",
          "dash": "solid"
         },
         "marker": {
          "symbol": "circle"
         },
         "mode": "lines",
         "name": "8",
         "orientation": "v",
         "showlegend": true,
         "type": "scatter",
         "x": [
          "embedder.block1.conv_in0",
          "embedder.block1.res1.relu1_out",
          "embedder.block1.res1.relu2_out",
          "embedder.block1.res1.resadd_out",
          "embedder.block1.res2.relu1_out",
          "embedder.block1.res2.relu2_out",
          "embedder.block1.res2.resadd_out",
          "embedder.block2.res1.relu1_out",
          "embedder.block2.res1.relu2_out",
          "embedder.block2.res1.resadd_out",
          "embedder.block2.res2.relu1_out",
          "embedder.block2.res2.relu2_out",
          "embedder.block2.res2.resadd_out",
          "embedder.block3.res1.relu1_out",
          "embedder.block3.res1.relu2_out",
          "embedder.block3.res1.resadd_out",
          "embedder.block3.res2.relu1_out",
          "embedder.block3.res2.relu2_out",
          "embedder.block3.res2.resadd_out"
         ],
         "xaxis": "x",
         "y": [
          0.95,
          0.9875,
          0.95,
          0.9875,
          0.9875,
          1,
          0.9875,
          1,
          0.9875,
          1,
          1,
          0.95,
          0.9875,
          0.875,
          0.825,
          0.875,
          0.825,
          0.8375,
          0.8375
         ],
         "yaxis": "y"
        },
        {
         "hovertemplate": "K=9<br>layer=%{x}<br>score=%{y}<extra></extra>",
         "legendgroup": "9",
         "line": {
          "color": "#FF97FF",
          "dash": "solid"
         },
         "marker": {
          "symbol": "circle"
         },
         "mode": "lines",
         "name": "9",
         "orientation": "v",
         "showlegend": true,
         "type": "scatter",
         "x": [
          "embedder.block1.conv_in0",
          "embedder.block1.res1.relu1_out",
          "embedder.block1.res1.relu2_out",
          "embedder.block1.res1.resadd_out",
          "embedder.block1.res2.relu1_out",
          "embedder.block1.res2.relu2_out",
          "embedder.block1.res2.resadd_out",
          "embedder.block2.res1.relu1_out",
          "embedder.block2.res1.relu2_out",
          "embedder.block2.res1.resadd_out",
          "embedder.block2.res2.relu1_out",
          "embedder.block2.res2.relu2_out",
          "embedder.block2.res2.resadd_out",
          "embedder.block3.res1.relu1_out",
          "embedder.block3.res1.relu2_out",
          "embedder.block3.res1.resadd_out",
          "embedder.block3.res2.relu1_out",
          "embedder.block3.res2.relu2_out",
          "embedder.block3.res2.resadd_out"
         ],
         "xaxis": "x",
         "y": [
          0.95,
          0.9875,
          0.95,
          0.9875,
          0.9875,
          1,
          0.9875,
          1,
          0.9875,
          1,
          1,
          0.9625,
          0.9875,
          0.875,
          0.8375,
          0.875,
          0.8125,
          0.8375,
          0.8375
         ],
         "yaxis": "y"
        },
        {
         "hovertemplate": "K=10<br>layer=%{x}<br>score=%{y}<extra></extra>",
         "legendgroup": "10",
         "line": {
          "color": "#FECB52",
          "dash": "solid"
         },
         "marker": {
          "symbol": "circle"
         },
         "mode": "lines",
         "name": "10",
         "orientation": "v",
         "showlegend": true,
         "type": "scatter",
         "x": [
          "embedder.block1.conv_in0",
          "embedder.block1.res1.relu1_out",
          "embedder.block1.res1.relu2_out",
          "embedder.block1.res1.resadd_out",
          "embedder.block1.res2.relu1_out",
          "embedder.block1.res2.relu2_out",
          "embedder.block1.res2.resadd_out",
          "embedder.block2.res1.relu1_out",
          "embedder.block2.res1.relu2_out",
          "embedder.block2.res1.resadd_out",
          "embedder.block2.res2.relu1_out",
          "embedder.block2.res2.relu2_out",
          "embedder.block2.res2.resadd_out",
          "embedder.block3.res1.relu1_out",
          "embedder.block3.res1.relu2_out",
          "embedder.block3.res1.resadd_out",
          "embedder.block3.res2.relu1_out",
          "embedder.block3.res2.relu2_out",
          "embedder.block3.res2.resadd_out"
         ],
         "xaxis": "x",
         "y": [
          0.95,
          0.9875,
          0.95,
          0.9875,
          0.9875,
          1,
          0.9875,
          1,
          0.9875,
          1,
          1,
          0.9625,
          0.9875,
          0.875,
          0.8375,
          0.8625,
          0.8375,
          0.8375,
          0.85
         ],
         "yaxis": "y"
        },
        {
         "hovertemplate": "K=11<br>layer=%{x}<br>score=%{y}<extra></extra>",
         "legendgroup": "11",
         "line": {
          "color": "#636efa",
          "dash": "solid"
         },
         "marker": {
          "symbol": "circle"
         },
         "mode": "lines",
         "name": "11",
         "orientation": "v",
         "showlegend": true,
         "type": "scatter",
         "x": [
          "embedder.block1.conv_in0",
          "embedder.block1.res1.relu1_out",
          "embedder.block1.res1.relu2_out",
          "embedder.block1.res1.resadd_out",
          "embedder.block1.res2.relu1_out",
          "embedder.block1.res2.relu2_out",
          "embedder.block1.res2.resadd_out",
          "embedder.block2.res1.relu1_out",
          "embedder.block2.res1.relu2_out",
          "embedder.block2.res1.resadd_out",
          "embedder.block2.res2.relu1_out",
          "embedder.block2.res2.relu2_out",
          "embedder.block2.res2.resadd_out",
          "embedder.block3.res1.relu1_out",
          "embedder.block3.res1.relu2_out",
          "embedder.block3.res1.resadd_out",
          "embedder.block3.res2.relu1_out",
          "embedder.block3.res2.relu2_out",
          "embedder.block3.res2.resadd_out"
         ],
         "xaxis": "x",
         "y": [
          0.95,
          0.9875,
          0.95,
          0.9875,
          0.975,
          1,
          0.9875,
          1,
          0.9875,
          1,
          1,
          0.9625,
          0.9875,
          0.875,
          0.8375,
          0.8625,
          0.8125,
          0.8375,
          0.8625
         ],
         "yaxis": "y"
        },
        {
         "hovertemplate": "K=12<br>layer=%{x}<br>score=%{y}<extra></extra>",
         "legendgroup": "12",
         "line": {
          "color": "#EF553B",
          "dash": "solid"
         },
         "marker": {
          "symbol": "circle"
         },
         "mode": "lines",
         "name": "12",
         "orientation": "v",
         "showlegend": true,
         "type": "scatter",
         "x": [
          "embedder.block1.conv_in0",
          "embedder.block1.res1.relu1_out",
          "embedder.block1.res1.relu2_out",
          "embedder.block1.res1.resadd_out",
          "embedder.block1.res2.relu1_out",
          "embedder.block1.res2.relu2_out",
          "embedder.block1.res2.resadd_out",
          "embedder.block2.res1.relu1_out",
          "embedder.block2.res1.relu2_out",
          "embedder.block2.res1.resadd_out",
          "embedder.block2.res2.relu1_out",
          "embedder.block2.res2.relu2_out",
          "embedder.block2.res2.resadd_out",
          "embedder.block3.res1.relu1_out",
          "embedder.block3.res1.relu2_out",
          "embedder.block3.res1.resadd_out",
          "embedder.block3.res2.relu1_out",
          "embedder.block3.res2.relu2_out",
          "embedder.block3.res2.resadd_out"
         ],
         "xaxis": "x",
         "y": [
          0.95,
          0.9875,
          0.95,
          0.9875,
          0.975,
          1,
          0.9875,
          1,
          0.9875,
          1,
          1,
          0.9625,
          0.9875,
          0.8875,
          0.8375,
          0.85,
          0.8125,
          0.8375,
          0.85
         ],
         "yaxis": "y"
        },
        {
         "hovertemplate": "K=13<br>layer=%{x}<br>score=%{y}<extra></extra>",
         "legendgroup": "13",
         "line": {
          "color": "#00cc96",
          "dash": "solid"
         },
         "marker": {
          "symbol": "circle"
         },
         "mode": "lines",
         "name": "13",
         "orientation": "v",
         "showlegend": true,
         "type": "scatter",
         "x": [
          "embedder.block1.conv_in0",
          "embedder.block1.res1.relu1_out",
          "embedder.block1.res1.relu2_out",
          "embedder.block1.res1.resadd_out",
          "embedder.block1.res2.relu1_out",
          "embedder.block1.res2.relu2_out",
          "embedder.block1.res2.resadd_out",
          "embedder.block2.res1.relu1_out",
          "embedder.block2.res1.relu2_out",
          "embedder.block2.res1.resadd_out",
          "embedder.block2.res2.relu1_out",
          "embedder.block2.res2.relu2_out",
          "embedder.block2.res2.resadd_out",
          "embedder.block3.res1.relu1_out",
          "embedder.block3.res1.relu2_out",
          "embedder.block3.res1.resadd_out",
          "embedder.block3.res2.relu1_out",
          "embedder.block3.res2.relu2_out",
          "embedder.block3.res2.resadd_out"
         ],
         "xaxis": "x",
         "y": [
          0.95,
          0.9875,
          0.95,
          0.9875,
          0.975,
          1,
          0.9875,
          1,
          0.9875,
          1,
          1,
          0.95,
          0.9875,
          0.875,
          0.825,
          0.85,
          0.8125,
          0.85,
          0.8375
         ],
         "yaxis": "y"
        },
        {
         "hovertemplate": "K=14<br>layer=%{x}<br>score=%{y}<extra></extra>",
         "legendgroup": "14",
         "line": {
          "color": "#ab63fa",
          "dash": "solid"
         },
         "marker": {
          "symbol": "circle"
         },
         "mode": "lines",
         "name": "14",
         "orientation": "v",
         "showlegend": true,
         "type": "scatter",
         "x": [
          "embedder.block1.conv_in0",
          "embedder.block1.res1.relu1_out",
          "embedder.block1.res1.relu2_out",
          "embedder.block1.res1.resadd_out",
          "embedder.block1.res2.relu1_out",
          "embedder.block1.res2.relu2_out",
          "embedder.block1.res2.resadd_out",
          "embedder.block2.res1.relu1_out",
          "embedder.block2.res1.relu2_out",
          "embedder.block2.res1.resadd_out",
          "embedder.block2.res2.relu1_out",
          "embedder.block2.res2.relu2_out",
          "embedder.block2.res2.resadd_out",
          "embedder.block3.res1.relu1_out",
          "embedder.block3.res1.relu2_out",
          "embedder.block3.res1.resadd_out",
          "embedder.block3.res2.relu1_out",
          "embedder.block3.res2.relu2_out",
          "embedder.block3.res2.resadd_out"
         ],
         "xaxis": "x",
         "y": [
          0.95,
          0.9875,
          0.95,
          0.9875,
          0.975,
          1,
          0.9875,
          1,
          0.9875,
          1,
          1,
          0.9625,
          0.9875,
          0.9,
          0.8375,
          0.8625,
          0.8,
          0.85,
          0.8625
         ],
         "yaxis": "y"
        },
        {
         "hovertemplate": "K=15<br>layer=%{x}<br>score=%{y}<extra></extra>",
         "legendgroup": "15",
         "line": {
          "color": "#FFA15A",
          "dash": "solid"
         },
         "marker": {
          "symbol": "circle"
         },
         "mode": "lines",
         "name": "15",
         "orientation": "v",
         "showlegend": true,
         "type": "scatter",
         "x": [
          "embedder.block1.conv_in0",
          "embedder.block1.res1.relu1_out",
          "embedder.block1.res1.relu2_out",
          "embedder.block1.res1.resadd_out",
          "embedder.block1.res2.relu1_out",
          "embedder.block1.res2.relu2_out",
          "embedder.block1.res2.resadd_out",
          "embedder.block2.res1.relu1_out",
          "embedder.block2.res1.relu2_out",
          "embedder.block2.res1.resadd_out",
          "embedder.block2.res2.relu1_out",
          "embedder.block2.res2.relu2_out",
          "embedder.block2.res2.resadd_out",
          "embedder.block3.res1.relu1_out",
          "embedder.block3.res1.relu2_out",
          "embedder.block3.res1.resadd_out",
          "embedder.block3.res2.relu1_out",
          "embedder.block3.res2.relu2_out",
          "embedder.block3.res2.resadd_out"
         ],
         "xaxis": "x",
         "y": [
          0.95,
          0.9875,
          0.95,
          0.9875,
          0.975,
          1,
          0.9875,
          1,
          0.9875,
          1,
          1,
          0.9625,
          0.9875,
          0.9,
          0.8375,
          0.8625,
          0.8,
          0.85,
          0.8625
         ],
         "yaxis": "y"
        },
        {
         "hovertemplate": "K=16<br>layer=%{x}<br>score=%{y}<extra></extra>",
         "legendgroup": "16",
         "line": {
          "color": "#19d3f3",
          "dash": "solid"
         },
         "marker": {
          "symbol": "circle"
         },
         "mode": "lines",
         "name": "16",
         "orientation": "v",
         "showlegend": true,
         "type": "scatter",
         "x": [
          "embedder.block1.conv_in0",
          "embedder.block1.res1.relu1_out",
          "embedder.block1.res1.relu2_out",
          "embedder.block1.res1.resadd_out",
          "embedder.block1.res2.relu1_out",
          "embedder.block1.res2.relu2_out",
          "embedder.block1.res2.resadd_out",
          "embedder.block2.res1.relu1_out",
          "embedder.block2.res1.relu2_out",
          "embedder.block2.res1.resadd_out",
          "embedder.block2.res2.relu1_out",
          "embedder.block2.res2.relu2_out",
          "embedder.block2.res2.resadd_out",
          "embedder.block3.res1.relu1_out",
          "embedder.block3.res1.relu2_out",
          "embedder.block3.res1.resadd_out",
          "embedder.block3.res2.relu1_out",
          "embedder.block3.res2.relu2_out",
          "embedder.block3.res2.resadd_out"
         ],
         "xaxis": "x",
         "y": [
          0.95,
          0.9875,
          0.95,
          0.9875,
          0.975,
          1,
          0.9875,
          1,
          0.9875,
          1,
          1,
          0.9625,
          0.9875,
          0.875,
          0.8375,
          0.9125,
          0.8125,
          0.85,
          0.8625
         ],
         "yaxis": "y"
        }
       ],
       "layout": {
        "annotations": [
         {
          "showarrow": false,
          "text": "perfect",
          "x": 1,
          "xanchor": "right",
          "xref": "x domain",
          "y": 1,
          "yanchor": "top",
          "yref": "y"
         },
         {
          "showarrow": false,
          "text": "baseline",
          "x": 1,
          "xanchor": "right",
          "xref": "x domain",
          "y": 0.5,
          "yanchor": "top",
          "yref": "y"
         }
        ],
        "legend": {
         "title": {
          "text": "K"
         },
         "tracegroupgap": 0
        },
        "shapes": [
         {
          "line": {
           "dash": "dot"
          },
          "type": "line",
          "x0": 0,
          "x1": 1,
          "xref": "x domain",
          "y0": 1,
          "y1": 1,
          "yref": "y"
         },
         {
          "line": {
           "dash": "dot"
          },
          "type": "line",
          "x0": 0,
          "x1": 1,
          "xref": "x domain",
          "y0": 0.5,
          "y1": 0.5,
          "yref": "y"
         }
        ],
        "template": {
         "data": {
          "bar": [
           {
            "error_x": {
             "color": "#2a3f5f"
            },
            "error_y": {
             "color": "#2a3f5f"
            },
            "marker": {
             "line": {
              "color": "#E5ECF6",
              "width": 0.5
             },
             "pattern": {
              "fillmode": "overlay",
              "size": 10,
              "solidity": 0.2
             }
            },
            "type": "bar"
           }
          ],
          "barpolar": [
           {
            "marker": {
             "line": {
              "color": "#E5ECF6",
              "width": 0.5
             },
             "pattern": {
              "fillmode": "overlay",
              "size": 10,
              "solidity": 0.2
             }
            },
            "type": "barpolar"
           }
          ],
          "carpet": [
           {
            "aaxis": {
             "endlinecolor": "#2a3f5f",
             "gridcolor": "white",
             "linecolor": "white",
             "minorgridcolor": "white",
             "startlinecolor": "#2a3f5f"
            },
            "baxis": {
             "endlinecolor": "#2a3f5f",
             "gridcolor": "white",
             "linecolor": "white",
             "minorgridcolor": "white",
             "startlinecolor": "#2a3f5f"
            },
            "type": "carpet"
           }
          ],
          "choropleth": [
           {
            "colorbar": {
             "outlinewidth": 0,
             "ticks": ""
            },
            "type": "choropleth"
           }
          ],
          "contour": [
           {
            "colorbar": {
             "outlinewidth": 0,
             "ticks": ""
            },
            "colorscale": [
             [
              0,
              "#0d0887"
             ],
             [
              0.1111111111111111,
              "#46039f"
             ],
             [
              0.2222222222222222,
              "#7201a8"
             ],
             [
              0.3333333333333333,
              "#9c179e"
             ],
             [
              0.4444444444444444,
              "#bd3786"
             ],
             [
              0.5555555555555556,
              "#d8576b"
             ],
             [
              0.6666666666666666,
              "#ed7953"
             ],
             [
              0.7777777777777778,
              "#fb9f3a"
             ],
             [
              0.8888888888888888,
              "#fdca26"
             ],
             [
              1,
              "#f0f921"
             ]
            ],
            "type": "contour"
           }
          ],
          "contourcarpet": [
           {
            "colorbar": {
             "outlinewidth": 0,
             "ticks": ""
            },
            "type": "contourcarpet"
           }
          ],
          "heatmap": [
           {
            "colorbar": {
             "outlinewidth": 0,
             "ticks": ""
            },
            "colorscale": [
             [
              0,
              "#0d0887"
             ],
             [
              0.1111111111111111,
              "#46039f"
             ],
             [
              0.2222222222222222,
              "#7201a8"
             ],
             [
              0.3333333333333333,
              "#9c179e"
             ],
             [
              0.4444444444444444,
              "#bd3786"
             ],
             [
              0.5555555555555556,
              "#d8576b"
             ],
             [
              0.6666666666666666,
              "#ed7953"
             ],
             [
              0.7777777777777778,
              "#fb9f3a"
             ],
             [
              0.8888888888888888,
              "#fdca26"
             ],
             [
              1,
              "#f0f921"
             ]
            ],
            "type": "heatmap"
           }
          ],
          "heatmapgl": [
           {
            "colorbar": {
             "outlinewidth": 0,
             "ticks": ""
            },
            "colorscale": [
             [
              0,
              "#0d0887"
             ],
             [
              0.1111111111111111,
              "#46039f"
             ],
             [
              0.2222222222222222,
              "#7201a8"
             ],
             [
              0.3333333333333333,
              "#9c179e"
             ],
             [
              0.4444444444444444,
              "#bd3786"
             ],
             [
              0.5555555555555556,
              "#d8576b"
             ],
             [
              0.6666666666666666,
              "#ed7953"
             ],
             [
              0.7777777777777778,
              "#fb9f3a"
             ],
             [
              0.8888888888888888,
              "#fdca26"
             ],
             [
              1,
              "#f0f921"
             ]
            ],
            "type": "heatmapgl"
           }
          ],
          "histogram": [
           {
            "marker": {
             "pattern": {
              "fillmode": "overlay",
              "size": 10,
              "solidity": 0.2
             }
            },
            "type": "histogram"
           }
          ],
          "histogram2d": [
           {
            "colorbar": {
             "outlinewidth": 0,
             "ticks": ""
            },
            "colorscale": [
             [
              0,
              "#0d0887"
             ],
             [
              0.1111111111111111,
              "#46039f"
             ],
             [
              0.2222222222222222,
              "#7201a8"
             ],
             [
              0.3333333333333333,
              "#9c179e"
             ],
             [
              0.4444444444444444,
              "#bd3786"
             ],
             [
              0.5555555555555556,
              "#d8576b"
             ],
             [
              0.6666666666666666,
              "#ed7953"
             ],
             [
              0.7777777777777778,
              "#fb9f3a"
             ],
             [
              0.8888888888888888,
              "#fdca26"
             ],
             [
              1,
              "#f0f921"
             ]
            ],
            "type": "histogram2d"
           }
          ],
          "histogram2dcontour": [
           {
            "colorbar": {
             "outlinewidth": 0,
             "ticks": ""
            },
            "colorscale": [
             [
              0,
              "#0d0887"
             ],
             [
              0.1111111111111111,
              "#46039f"
             ],
             [
              0.2222222222222222,
              "#7201a8"
             ],
             [
              0.3333333333333333,
              "#9c179e"
             ],
             [
              0.4444444444444444,
              "#bd3786"
             ],
             [
              0.5555555555555556,
              "#d8576b"
             ],
             [
              0.6666666666666666,
              "#ed7953"
             ],
             [
              0.7777777777777778,
              "#fb9f3a"
             ],
             [
              0.8888888888888888,
              "#fdca26"
             ],
             [
              1,
              "#f0f921"
             ]
            ],
            "type": "histogram2dcontour"
           }
          ],
          "mesh3d": [
           {
            "colorbar": {
             "outlinewidth": 0,
             "ticks": ""
            },
            "type": "mesh3d"
           }
          ],
          "parcoords": [
           {
            "line": {
             "colorbar": {
              "outlinewidth": 0,
              "ticks": ""
             }
            },
            "type": "parcoords"
           }
          ],
          "pie": [
           {
            "automargin": true,
            "type": "pie"
           }
          ],
          "scatter": [
           {
            "fillpattern": {
             "fillmode": "overlay",
             "size": 10,
             "solidity": 0.2
            },
            "type": "scatter"
           }
          ],
          "scatter3d": [
           {
            "line": {
             "colorbar": {
              "outlinewidth": 0,
              "ticks": ""
             }
            },
            "marker": {
             "colorbar": {
              "outlinewidth": 0,
              "ticks": ""
             }
            },
            "type": "scatter3d"
           }
          ],
          "scattercarpet": [
           {
            "marker": {
             "colorbar": {
              "outlinewidth": 0,
              "ticks": ""
             }
            },
            "type": "scattercarpet"
           }
          ],
          "scattergeo": [
           {
            "marker": {
             "colorbar": {
              "outlinewidth": 0,
              "ticks": ""
             }
            },
            "type": "scattergeo"
           }
          ],
          "scattergl": [
           {
            "marker": {
             "colorbar": {
              "outlinewidth": 0,
              "ticks": ""
             }
            },
            "type": "scattergl"
           }
          ],
          "scattermapbox": [
           {
            "marker": {
             "colorbar": {
              "outlinewidth": 0,
              "ticks": ""
             }
            },
            "type": "scattermapbox"
           }
          ],
          "scatterpolar": [
           {
            "marker": {
             "colorbar": {
              "outlinewidth": 0,
              "ticks": ""
             }
            },
            "type": "scatterpolar"
           }
          ],
          "scatterpolargl": [
           {
            "marker": {
             "colorbar": {
              "outlinewidth": 0,
              "ticks": ""
             }
            },
            "type": "scatterpolargl"
           }
          ],
          "scatterternary": [
           {
            "marker": {
             "colorbar": {
              "outlinewidth": 0,
              "ticks": ""
             }
            },
            "type": "scatterternary"
           }
          ],
          "surface": [
           {
            "colorbar": {
             "outlinewidth": 0,
             "ticks": ""
            },
            "colorscale": [
             [
              0,
              "#0d0887"
             ],
             [
              0.1111111111111111,
              "#46039f"
             ],
             [
              0.2222222222222222,
              "#7201a8"
             ],
             [
              0.3333333333333333,
              "#9c179e"
             ],
             [
              0.4444444444444444,
              "#bd3786"
             ],
             [
              0.5555555555555556,
              "#d8576b"
             ],
             [
              0.6666666666666666,
              "#ed7953"
             ],
             [
              0.7777777777777778,
              "#fb9f3a"
             ],
             [
              0.8888888888888888,
              "#fdca26"
             ],
             [
              1,
              "#f0f921"
             ]
            ],
            "type": "surface"
           }
          ],
          "table": [
           {
            "cells": {
             "fill": {
              "color": "#EBF0F8"
             },
             "line": {
              "color": "white"
             }
            },
            "header": {
             "fill": {
              "color": "#C8D4E3"
             },
             "line": {
              "color": "white"
             }
            },
            "type": "table"
           }
          ]
         },
         "layout": {
          "annotationdefaults": {
           "arrowcolor": "#2a3f5f",
           "arrowhead": 0,
           "arrowwidth": 1
          },
          "autotypenumbers": "strict",
          "coloraxis": {
           "colorbar": {
            "outlinewidth": 0,
            "ticks": ""
           }
          },
          "colorscale": {
           "diverging": [
            [
             0,
             "#8e0152"
            ],
            [
             0.1,
             "#c51b7d"
            ],
            [
             0.2,
             "#de77ae"
            ],
            [
             0.3,
             "#f1b6da"
            ],
            [
             0.4,
             "#fde0ef"
            ],
            [
             0.5,
             "#f7f7f7"
            ],
            [
             0.6,
             "#e6f5d0"
            ],
            [
             0.7,
             "#b8e186"
            ],
            [
             0.8,
             "#7fbc41"
            ],
            [
             0.9,
             "#4d9221"
            ],
            [
             1,
             "#276419"
            ]
           ],
           "sequential": [
            [
             0,
             "#0d0887"
            ],
            [
             0.1111111111111111,
             "#46039f"
            ],
            [
             0.2222222222222222,
             "#7201a8"
            ],
            [
             0.3333333333333333,
             "#9c179e"
            ],
            [
             0.4444444444444444,
             "#bd3786"
            ],
            [
             0.5555555555555556,
             "#d8576b"
            ],
            [
             0.6666666666666666,
             "#ed7953"
            ],
            [
             0.7777777777777778,
             "#fb9f3a"
            ],
            [
             0.8888888888888888,
             "#fdca26"
            ],
            [
             1,
             "#f0f921"
            ]
           ],
           "sequentialminus": [
            [
             0,
             "#0d0887"
            ],
            [
             0.1111111111111111,
             "#46039f"
            ],
            [
             0.2222222222222222,
             "#7201a8"
            ],
            [
             0.3333333333333333,
             "#9c179e"
            ],
            [
             0.4444444444444444,
             "#bd3786"
            ],
            [
             0.5555555555555556,
             "#d8576b"
            ],
            [
             0.6666666666666666,
             "#ed7953"
            ],
            [
             0.7777777777777778,
             "#fb9f3a"
            ],
            [
             0.8888888888888888,
             "#fdca26"
            ],
            [
             1,
             "#f0f921"
            ]
           ]
          },
          "colorway": [
           "#636efa",
           "#EF553B",
           "#00cc96",
           "#ab63fa",
           "#FFA15A",
           "#19d3f3",
           "#FF6692",
           "#B6E880",
           "#FF97FF",
           "#FECB52"
          ],
          "font": {
           "color": "#2a3f5f"
          },
          "geo": {
           "bgcolor": "white",
           "lakecolor": "white",
           "landcolor": "#E5ECF6",
           "showlakes": true,
           "showland": true,
           "subunitcolor": "white"
          },
          "hoverlabel": {
           "align": "left"
          },
          "hovermode": "closest",
          "mapbox": {
           "style": "light"
          },
          "paper_bgcolor": "white",
          "plot_bgcolor": "#E5ECF6",
          "polar": {
           "angularaxis": {
            "gridcolor": "white",
            "linecolor": "white",
            "ticks": ""
           },
           "bgcolor": "#E5ECF6",
           "radialaxis": {
            "gridcolor": "white",
            "linecolor": "white",
            "ticks": ""
           }
          },
          "scene": {
           "xaxis": {
            "backgroundcolor": "#E5ECF6",
            "gridcolor": "white",
            "gridwidth": 2,
            "linecolor": "white",
            "showbackground": true,
            "ticks": "",
            "zerolinecolor": "white"
           },
           "yaxis": {
            "backgroundcolor": "#E5ECF6",
            "gridcolor": "white",
            "gridwidth": 2,
            "linecolor": "white",
            "showbackground": true,
            "ticks": "",
            "zerolinecolor": "white"
           },
           "zaxis": {
            "backgroundcolor": "#E5ECF6",
            "gridcolor": "white",
            "gridwidth": 2,
            "linecolor": "white",
            "showbackground": true,
            "ticks": "",
            "zerolinecolor": "white"
           }
          },
          "shapedefaults": {
           "line": {
            "color": "#2a3f5f"
           }
          },
          "ternary": {
           "aaxis": {
            "gridcolor": "white",
            "linecolor": "white",
            "ticks": ""
           },
           "baxis": {
            "gridcolor": "white",
            "linecolor": "white",
            "ticks": ""
           },
           "bgcolor": "#E5ECF6",
           "caxis": {
            "gridcolor": "white",
            "linecolor": "white",
            "ticks": ""
           }
          },
          "title": {
           "x": 0.05
          },
          "xaxis": {
           "automargin": true,
           "gridcolor": "white",
           "linecolor": "white",
           "ticks": "",
           "title": {
            "standoff": 15
           },
           "zerolinecolor": "white",
           "zerolinewidth": 2
          },
          "yaxis": {
           "automargin": true,
           "gridcolor": "white",
           "linecolor": "white",
           "ticks": "",
           "title": {
            "standoff": 15
           },
           "zerolinecolor": "white",
           "zerolinewidth": 2
          }
         }
        },
        "title": {
         "text": "Sparse probe scores for \"conv pixel contains c\" over layers and K values for h. Score = 0.9194736842105262."
        },
        "xaxis": {
         "anchor": "y",
         "domain": [
          0,
          1
         ],
         "title": {
          "text": "layer"
         }
        },
        "yaxis": {
         "anchor": "x",
         "domain": [
          0,
          1
         ],
         "title": {
          "text": "score"
         }
        }
       }
      },
      "text/html": [
       "<div>                            <div id=\"12f3ec7b-35f4-4f7f-94bf-e2878d0dbf18\" class=\"plotly-graph-div\" style=\"height:525px; width:100%;\"></div>            <script type=\"text/javascript\">                require([\"plotly\"], function(Plotly) {                    window.PLOTLYENV=window.PLOTLYENV || {};                                    if (document.getElementById(\"12f3ec7b-35f4-4f7f-94bf-e2878d0dbf18\")) {                    Plotly.newPlot(                        \"12f3ec7b-35f4-4f7f-94bf-e2878d0dbf18\",                        [{\"hovertemplate\":\"K=1\\u003cbr\\u003elayer=%{x}\\u003cbr\\u003escore=%{y}\\u003cextra\\u003e\\u003c\\u002fextra\\u003e\",\"legendgroup\":\"1\",\"line\":{\"color\":\"#636efa\",\"dash\":\"solid\"},\"marker\":{\"symbol\":\"circle\"},\"mode\":\"lines\",\"name\":\"1\",\"orientation\":\"v\",\"showlegend\":true,\"x\":[\"embedder.block1.conv_in0\",\"embedder.block1.res1.relu1_out\",\"embedder.block1.res1.relu2_out\",\"embedder.block1.res1.resadd_out\",\"embedder.block1.res2.relu1_out\",\"embedder.block1.res2.relu2_out\",\"embedder.block1.res2.resadd_out\",\"embedder.block2.res1.relu1_out\",\"embedder.block2.res1.relu2_out\",\"embedder.block2.res1.resadd_out\",\"embedder.block2.res2.relu1_out\",\"embedder.block2.res2.relu2_out\",\"embedder.block2.res2.resadd_out\",\"embedder.block3.res1.relu1_out\",\"embedder.block3.res1.relu2_out\",\"embedder.block3.res1.resadd_out\",\"embedder.block3.res2.relu1_out\",\"embedder.block3.res2.relu2_out\",\"embedder.block3.res2.resadd_out\"],\"xaxis\":\"x\",\"y\":[0.95,0.9875,0.875,0.95,0.95,0.9625,0.975,1.0,0.9,1.0,0.9875,0.875,0.975,0.8625,0.825,0.8,0.7875,0.725,0.8],\"yaxis\":\"y\",\"type\":\"scatter\"},{\"hovertemplate\":\"K=2\\u003cbr\\u003elayer=%{x}\\u003cbr\\u003escore=%{y}\\u003cextra\\u003e\\u003c\\u002fextra\\u003e\",\"legendgroup\":\"2\",\"line\":{\"color\":\"#EF553B\",\"dash\":\"solid\"},\"marker\":{\"symbol\":\"circle\"},\"mode\":\"lines\",\"name\":\"2\",\"orientation\":\"v\",\"showlegend\":true,\"x\":[\"embedder.block1.conv_in0\",\"embedder.block1.res1.relu1_out\",\"embedder.block1.res1.relu2_out\",\"embedder.block1.res1.resadd_out\",\"embedder.block1.res2.relu1_out\",\"embedder.block1.res2.relu2_out\",\"embedder.block1.res2.resadd_out\",\"embedder.block2.res1.relu1_out\",\"embedder.block2.res1.relu2_out\",\"embedder.block2.res1.resadd_out\",\"embedder.block2.res2.relu1_out\",\"embedder.block2.res2.relu2_out\",\"embedder.block2.res2.resadd_out\",\"embedder.block3.res1.relu1_out\",\"embedder.block3.res1.relu2_out\",\"embedder.block3.res1.resadd_out\",\"embedder.block3.res2.relu1_out\",\"embedder.block3.res2.relu2_out\",\"embedder.block3.res2.resadd_out\"],\"xaxis\":\"x\",\"y\":[0.95,0.9875,0.8875,0.9875,0.9875,0.9875,1.0,1.0,0.95,1.0,0.9875,0.9375,0.9875,0.85,0.825,0.825,0.7875,0.725,0.825],\"yaxis\":\"y\",\"type\":\"scatter\"},{\"hovertemplate\":\"K=3\\u003cbr\\u003elayer=%{x}\\u003cbr\\u003escore=%{y}\\u003cextra\\u003e\\u003c\\u002fextra\\u003e\",\"legendgroup\":\"3\",\"line\":{\"color\":\"#00cc96\",\"dash\":\"solid\"},\"marker\":{\"symbol\":\"circle\"},\"mode\":\"lines\",\"name\":\"3\",\"orientation\":\"v\",\"showlegend\":true,\"x\":[\"embedder.block1.conv_in0\",\"embedder.block1.res1.relu1_out\",\"embedder.block1.res1.relu2_out\",\"embedder.block1.res1.resadd_out\",\"embedder.block1.res2.relu1_out\",\"embedder.block1.res2.relu2_out\",\"embedder.block1.res2.resadd_out\",\"embedder.block2.res1.relu1_out\",\"embedder.block2.res1.relu2_out\",\"embedder.block2.res1.resadd_out\",\"embedder.block2.res2.relu1_out\",\"embedder.block2.res2.relu2_out\",\"embedder.block2.res2.resadd_out\",\"embedder.block3.res1.relu1_out\",\"embedder.block3.res1.relu2_out\",\"embedder.block3.res1.resadd_out\",\"embedder.block3.res2.relu1_out\",\"embedder.block3.res2.relu2_out\",\"embedder.block3.res2.resadd_out\"],\"xaxis\":\"x\",\"y\":[0.95,0.9875,0.9125,0.9875,0.975,1.0,1.0,1.0,0.95,1.0,0.9875,0.9375,0.9875,0.85,0.8375,0.825,0.8125,0.725,0.8375],\"yaxis\":\"y\",\"type\":\"scatter\"},{\"hovertemplate\":\"K=4\\u003cbr\\u003elayer=%{x}\\u003cbr\\u003escore=%{y}\\u003cextra\\u003e\\u003c\\u002fextra\\u003e\",\"legendgroup\":\"4\",\"line\":{\"color\":\"#ab63fa\",\"dash\":\"solid\"},\"marker\":{\"symbol\":\"circle\"},\"mode\":\"lines\",\"name\":\"4\",\"orientation\":\"v\",\"showlegend\":true,\"x\":[\"embedder.block1.conv_in0\",\"embedder.block1.res1.relu1_out\",\"embedder.block1.res1.relu2_out\",\"embedder.block1.res1.resadd_out\",\"embedder.block1.res2.relu1_out\",\"embedder.block1.res2.relu2_out\",\"embedder.block1.res2.resadd_out\",\"embedder.block2.res1.relu1_out\",\"embedder.block2.res1.relu2_out\",\"embedder.block2.res1.resadd_out\",\"embedder.block2.res2.relu1_out\",\"embedder.block2.res2.relu2_out\",\"embedder.block2.res2.resadd_out\",\"embedder.block3.res1.relu1_out\",\"embedder.block3.res1.relu2_out\",\"embedder.block3.res1.resadd_out\",\"embedder.block3.res2.relu1_out\",\"embedder.block3.res2.relu2_out\",\"embedder.block3.res2.resadd_out\"],\"xaxis\":\"x\",\"y\":[0.95,0.9875,0.9125,0.9875,0.975,1.0,0.9875,1.0,0.9625,1.0,0.9875,0.9375,0.9875,0.875,0.825,0.825,0.8,0.75,0.8125],\"yaxis\":\"y\",\"type\":\"scatter\"},{\"hovertemplate\":\"K=5\\u003cbr\\u003elayer=%{x}\\u003cbr\\u003escore=%{y}\\u003cextra\\u003e\\u003c\\u002fextra\\u003e\",\"legendgroup\":\"5\",\"line\":{\"color\":\"#FFA15A\",\"dash\":\"solid\"},\"marker\":{\"symbol\":\"circle\"},\"mode\":\"lines\",\"name\":\"5\",\"orientation\":\"v\",\"showlegend\":true,\"x\":[\"embedder.block1.conv_in0\",\"embedder.block1.res1.relu1_out\",\"embedder.block1.res1.relu2_out\",\"embedder.block1.res1.resadd_out\",\"embedder.block1.res2.relu1_out\",\"embedder.block1.res2.relu2_out\",\"embedder.block1.res2.resadd_out\",\"embedder.block2.res1.relu1_out\",\"embedder.block2.res1.relu2_out\",\"embedder.block2.res1.resadd_out\",\"embedder.block2.res2.relu1_out\",\"embedder.block2.res2.relu2_out\",\"embedder.block2.res2.resadd_out\",\"embedder.block3.res1.relu1_out\",\"embedder.block3.res1.relu2_out\",\"embedder.block3.res1.resadd_out\",\"embedder.block3.res2.relu1_out\",\"embedder.block3.res2.relu2_out\",\"embedder.block3.res2.resadd_out\"],\"xaxis\":\"x\",\"y\":[0.95,0.9875,0.9375,0.9875,0.9875,1.0,0.9875,1.0,0.9625,1.0,1.0,0.95,0.9875,0.875,0.825,0.8375,0.8,0.825,0.825],\"yaxis\":\"y\",\"type\":\"scatter\"},{\"hovertemplate\":\"K=6\\u003cbr\\u003elayer=%{x}\\u003cbr\\u003escore=%{y}\\u003cextra\\u003e\\u003c\\u002fextra\\u003e\",\"legendgroup\":\"6\",\"line\":{\"color\":\"#19d3f3\",\"dash\":\"solid\"},\"marker\":{\"symbol\":\"circle\"},\"mode\":\"lines\",\"name\":\"6\",\"orientation\":\"v\",\"showlegend\":true,\"x\":[\"embedder.block1.conv_in0\",\"embedder.block1.res1.relu1_out\",\"embedder.block1.res1.relu2_out\",\"embedder.block1.res1.resadd_out\",\"embedder.block1.res2.relu1_out\",\"embedder.block1.res2.relu2_out\",\"embedder.block1.res2.resadd_out\",\"embedder.block2.res1.relu1_out\",\"embedder.block2.res1.relu2_out\",\"embedder.block2.res1.resadd_out\",\"embedder.block2.res2.relu1_out\",\"embedder.block2.res2.relu2_out\",\"embedder.block2.res2.resadd_out\",\"embedder.block3.res1.relu1_out\",\"embedder.block3.res1.relu2_out\",\"embedder.block3.res1.resadd_out\",\"embedder.block3.res2.relu1_out\",\"embedder.block3.res2.relu2_out\",\"embedder.block3.res2.resadd_out\"],\"xaxis\":\"x\",\"y\":[0.95,0.9875,0.95,0.9875,0.9875,1.0,0.9875,1.0,0.9875,1.0,0.9875,0.95,0.9875,0.875,0.825,0.8375,0.8125,0.8375,0.825],\"yaxis\":\"y\",\"type\":\"scatter\"},{\"hovertemplate\":\"K=7\\u003cbr\\u003elayer=%{x}\\u003cbr\\u003escore=%{y}\\u003cextra\\u003e\\u003c\\u002fextra\\u003e\",\"legendgroup\":\"7\",\"line\":{\"color\":\"#FF6692\",\"dash\":\"solid\"},\"marker\":{\"symbol\":\"circle\"},\"mode\":\"lines\",\"name\":\"7\",\"orientation\":\"v\",\"showlegend\":true,\"x\":[\"embedder.block1.conv_in0\",\"embedder.block1.res1.relu1_out\",\"embedder.block1.res1.relu2_out\",\"embedder.block1.res1.resadd_out\",\"embedder.block1.res2.relu1_out\",\"embedder.block1.res2.relu2_out\",\"embedder.block1.res2.resadd_out\",\"embedder.block2.res1.relu1_out\",\"embedder.block2.res1.relu2_out\",\"embedder.block2.res1.resadd_out\",\"embedder.block2.res2.relu1_out\",\"embedder.block2.res2.relu2_out\",\"embedder.block2.res2.resadd_out\",\"embedder.block3.res1.relu1_out\",\"embedder.block3.res1.relu2_out\",\"embedder.block3.res1.resadd_out\",\"embedder.block3.res2.relu1_out\",\"embedder.block3.res2.relu2_out\",\"embedder.block3.res2.resadd_out\"],\"xaxis\":\"x\",\"y\":[0.95,0.9875,0.95,0.9875,0.9875,1.0,0.9875,1.0,0.9875,1.0,1.0,0.95,0.9875,0.8625,0.8375,0.875,0.825,0.8375,0.85],\"yaxis\":\"y\",\"type\":\"scatter\"},{\"hovertemplate\":\"K=8\\u003cbr\\u003elayer=%{x}\\u003cbr\\u003escore=%{y}\\u003cextra\\u003e\\u003c\\u002fextra\\u003e\",\"legendgroup\":\"8\",\"line\":{\"color\":\"#B6E880\",\"dash\":\"solid\"},\"marker\":{\"symbol\":\"circle\"},\"mode\":\"lines\",\"name\":\"8\",\"orientation\":\"v\",\"showlegend\":true,\"x\":[\"embedder.block1.conv_in0\",\"embedder.block1.res1.relu1_out\",\"embedder.block1.res1.relu2_out\",\"embedder.block1.res1.resadd_out\",\"embedder.block1.res2.relu1_out\",\"embedder.block1.res2.relu2_out\",\"embedder.block1.res2.resadd_out\",\"embedder.block2.res1.relu1_out\",\"embedder.block2.res1.relu2_out\",\"embedder.block2.res1.resadd_out\",\"embedder.block2.res2.relu1_out\",\"embedder.block2.res2.relu2_out\",\"embedder.block2.res2.resadd_out\",\"embedder.block3.res1.relu1_out\",\"embedder.block3.res1.relu2_out\",\"embedder.block3.res1.resadd_out\",\"embedder.block3.res2.relu1_out\",\"embedder.block3.res2.relu2_out\",\"embedder.block3.res2.resadd_out\"],\"xaxis\":\"x\",\"y\":[0.95,0.9875,0.95,0.9875,0.9875,1.0,0.9875,1.0,0.9875,1.0,1.0,0.95,0.9875,0.875,0.825,0.875,0.825,0.8375,0.8375],\"yaxis\":\"y\",\"type\":\"scatter\"},{\"hovertemplate\":\"K=9\\u003cbr\\u003elayer=%{x}\\u003cbr\\u003escore=%{y}\\u003cextra\\u003e\\u003c\\u002fextra\\u003e\",\"legendgroup\":\"9\",\"line\":{\"color\":\"#FF97FF\",\"dash\":\"solid\"},\"marker\":{\"symbol\":\"circle\"},\"mode\":\"lines\",\"name\":\"9\",\"orientation\":\"v\",\"showlegend\":true,\"x\":[\"embedder.block1.conv_in0\",\"embedder.block1.res1.relu1_out\",\"embedder.block1.res1.relu2_out\",\"embedder.block1.res1.resadd_out\",\"embedder.block1.res2.relu1_out\",\"embedder.block1.res2.relu2_out\",\"embedder.block1.res2.resadd_out\",\"embedder.block2.res1.relu1_out\",\"embedder.block2.res1.relu2_out\",\"embedder.block2.res1.resadd_out\",\"embedder.block2.res2.relu1_out\",\"embedder.block2.res2.relu2_out\",\"embedder.block2.res2.resadd_out\",\"embedder.block3.res1.relu1_out\",\"embedder.block3.res1.relu2_out\",\"embedder.block3.res1.resadd_out\",\"embedder.block3.res2.relu1_out\",\"embedder.block3.res2.relu2_out\",\"embedder.block3.res2.resadd_out\"],\"xaxis\":\"x\",\"y\":[0.95,0.9875,0.95,0.9875,0.9875,1.0,0.9875,1.0,0.9875,1.0,1.0,0.9625,0.9875,0.875,0.8375,0.875,0.8125,0.8375,0.8375],\"yaxis\":\"y\",\"type\":\"scatter\"},{\"hovertemplate\":\"K=10\\u003cbr\\u003elayer=%{x}\\u003cbr\\u003escore=%{y}\\u003cextra\\u003e\\u003c\\u002fextra\\u003e\",\"legendgroup\":\"10\",\"line\":{\"color\":\"#FECB52\",\"dash\":\"solid\"},\"marker\":{\"symbol\":\"circle\"},\"mode\":\"lines\",\"name\":\"10\",\"orientation\":\"v\",\"showlegend\":true,\"x\":[\"embedder.block1.conv_in0\",\"embedder.block1.res1.relu1_out\",\"embedder.block1.res1.relu2_out\",\"embedder.block1.res1.resadd_out\",\"embedder.block1.res2.relu1_out\",\"embedder.block1.res2.relu2_out\",\"embedder.block1.res2.resadd_out\",\"embedder.block2.res1.relu1_out\",\"embedder.block2.res1.relu2_out\",\"embedder.block2.res1.resadd_out\",\"embedder.block2.res2.relu1_out\",\"embedder.block2.res2.relu2_out\",\"embedder.block2.res2.resadd_out\",\"embedder.block3.res1.relu1_out\",\"embedder.block3.res1.relu2_out\",\"embedder.block3.res1.resadd_out\",\"embedder.block3.res2.relu1_out\",\"embedder.block3.res2.relu2_out\",\"embedder.block3.res2.resadd_out\"],\"xaxis\":\"x\",\"y\":[0.95,0.9875,0.95,0.9875,0.9875,1.0,0.9875,1.0,0.9875,1.0,1.0,0.9625,0.9875,0.875,0.8375,0.8625,0.8375,0.8375,0.85],\"yaxis\":\"y\",\"type\":\"scatter\"},{\"hovertemplate\":\"K=11\\u003cbr\\u003elayer=%{x}\\u003cbr\\u003escore=%{y}\\u003cextra\\u003e\\u003c\\u002fextra\\u003e\",\"legendgroup\":\"11\",\"line\":{\"color\":\"#636efa\",\"dash\":\"solid\"},\"marker\":{\"symbol\":\"circle\"},\"mode\":\"lines\",\"name\":\"11\",\"orientation\":\"v\",\"showlegend\":true,\"x\":[\"embedder.block1.conv_in0\",\"embedder.block1.res1.relu1_out\",\"embedder.block1.res1.relu2_out\",\"embedder.block1.res1.resadd_out\",\"embedder.block1.res2.relu1_out\",\"embedder.block1.res2.relu2_out\",\"embedder.block1.res2.resadd_out\",\"embedder.block2.res1.relu1_out\",\"embedder.block2.res1.relu2_out\",\"embedder.block2.res1.resadd_out\",\"embedder.block2.res2.relu1_out\",\"embedder.block2.res2.relu2_out\",\"embedder.block2.res2.resadd_out\",\"embedder.block3.res1.relu1_out\",\"embedder.block3.res1.relu2_out\",\"embedder.block3.res1.resadd_out\",\"embedder.block3.res2.relu1_out\",\"embedder.block3.res2.relu2_out\",\"embedder.block3.res2.resadd_out\"],\"xaxis\":\"x\",\"y\":[0.95,0.9875,0.95,0.9875,0.975,1.0,0.9875,1.0,0.9875,1.0,1.0,0.9625,0.9875,0.875,0.8375,0.8625,0.8125,0.8375,0.8625],\"yaxis\":\"y\",\"type\":\"scatter\"},{\"hovertemplate\":\"K=12\\u003cbr\\u003elayer=%{x}\\u003cbr\\u003escore=%{y}\\u003cextra\\u003e\\u003c\\u002fextra\\u003e\",\"legendgroup\":\"12\",\"line\":{\"color\":\"#EF553B\",\"dash\":\"solid\"},\"marker\":{\"symbol\":\"circle\"},\"mode\":\"lines\",\"name\":\"12\",\"orientation\":\"v\",\"showlegend\":true,\"x\":[\"embedder.block1.conv_in0\",\"embedder.block1.res1.relu1_out\",\"embedder.block1.res1.relu2_out\",\"embedder.block1.res1.resadd_out\",\"embedder.block1.res2.relu1_out\",\"embedder.block1.res2.relu2_out\",\"embedder.block1.res2.resadd_out\",\"embedder.block2.res1.relu1_out\",\"embedder.block2.res1.relu2_out\",\"embedder.block2.res1.resadd_out\",\"embedder.block2.res2.relu1_out\",\"embedder.block2.res2.relu2_out\",\"embedder.block2.res2.resadd_out\",\"embedder.block3.res1.relu1_out\",\"embedder.block3.res1.relu2_out\",\"embedder.block3.res1.resadd_out\",\"embedder.block3.res2.relu1_out\",\"embedder.block3.res2.relu2_out\",\"embedder.block3.res2.resadd_out\"],\"xaxis\":\"x\",\"y\":[0.95,0.9875,0.95,0.9875,0.975,1.0,0.9875,1.0,0.9875,1.0,1.0,0.9625,0.9875,0.8875,0.8375,0.85,0.8125,0.8375,0.85],\"yaxis\":\"y\",\"type\":\"scatter\"},{\"hovertemplate\":\"K=13\\u003cbr\\u003elayer=%{x}\\u003cbr\\u003escore=%{y}\\u003cextra\\u003e\\u003c\\u002fextra\\u003e\",\"legendgroup\":\"13\",\"line\":{\"color\":\"#00cc96\",\"dash\":\"solid\"},\"marker\":{\"symbol\":\"circle\"},\"mode\":\"lines\",\"name\":\"13\",\"orientation\":\"v\",\"showlegend\":true,\"x\":[\"embedder.block1.conv_in0\",\"embedder.block1.res1.relu1_out\",\"embedder.block1.res1.relu2_out\",\"embedder.block1.res1.resadd_out\",\"embedder.block1.res2.relu1_out\",\"embedder.block1.res2.relu2_out\",\"embedder.block1.res2.resadd_out\",\"embedder.block2.res1.relu1_out\",\"embedder.block2.res1.relu2_out\",\"embedder.block2.res1.resadd_out\",\"embedder.block2.res2.relu1_out\",\"embedder.block2.res2.relu2_out\",\"embedder.block2.res2.resadd_out\",\"embedder.block3.res1.relu1_out\",\"embedder.block3.res1.relu2_out\",\"embedder.block3.res1.resadd_out\",\"embedder.block3.res2.relu1_out\",\"embedder.block3.res2.relu2_out\",\"embedder.block3.res2.resadd_out\"],\"xaxis\":\"x\",\"y\":[0.95,0.9875,0.95,0.9875,0.975,1.0,0.9875,1.0,0.9875,1.0,1.0,0.95,0.9875,0.875,0.825,0.85,0.8125,0.85,0.8375],\"yaxis\":\"y\",\"type\":\"scatter\"},{\"hovertemplate\":\"K=14\\u003cbr\\u003elayer=%{x}\\u003cbr\\u003escore=%{y}\\u003cextra\\u003e\\u003c\\u002fextra\\u003e\",\"legendgroup\":\"14\",\"line\":{\"color\":\"#ab63fa\",\"dash\":\"solid\"},\"marker\":{\"symbol\":\"circle\"},\"mode\":\"lines\",\"name\":\"14\",\"orientation\":\"v\",\"showlegend\":true,\"x\":[\"embedder.block1.conv_in0\",\"embedder.block1.res1.relu1_out\",\"embedder.block1.res1.relu2_out\",\"embedder.block1.res1.resadd_out\",\"embedder.block1.res2.relu1_out\",\"embedder.block1.res2.relu2_out\",\"embedder.block1.res2.resadd_out\",\"embedder.block2.res1.relu1_out\",\"embedder.block2.res1.relu2_out\",\"embedder.block2.res1.resadd_out\",\"embedder.block2.res2.relu1_out\",\"embedder.block2.res2.relu2_out\",\"embedder.block2.res2.resadd_out\",\"embedder.block3.res1.relu1_out\",\"embedder.block3.res1.relu2_out\",\"embedder.block3.res1.resadd_out\",\"embedder.block3.res2.relu1_out\",\"embedder.block3.res2.relu2_out\",\"embedder.block3.res2.resadd_out\"],\"xaxis\":\"x\",\"y\":[0.95,0.9875,0.95,0.9875,0.975,1.0,0.9875,1.0,0.9875,1.0,1.0,0.9625,0.9875,0.9,0.8375,0.8625,0.8,0.85,0.8625],\"yaxis\":\"y\",\"type\":\"scatter\"},{\"hovertemplate\":\"K=15\\u003cbr\\u003elayer=%{x}\\u003cbr\\u003escore=%{y}\\u003cextra\\u003e\\u003c\\u002fextra\\u003e\",\"legendgroup\":\"15\",\"line\":{\"color\":\"#FFA15A\",\"dash\":\"solid\"},\"marker\":{\"symbol\":\"circle\"},\"mode\":\"lines\",\"name\":\"15\",\"orientation\":\"v\",\"showlegend\":true,\"x\":[\"embedder.block1.conv_in0\",\"embedder.block1.res1.relu1_out\",\"embedder.block1.res1.relu2_out\",\"embedder.block1.res1.resadd_out\",\"embedder.block1.res2.relu1_out\",\"embedder.block1.res2.relu2_out\",\"embedder.block1.res2.resadd_out\",\"embedder.block2.res1.relu1_out\",\"embedder.block2.res1.relu2_out\",\"embedder.block2.res1.resadd_out\",\"embedder.block2.res2.relu1_out\",\"embedder.block2.res2.relu2_out\",\"embedder.block2.res2.resadd_out\",\"embedder.block3.res1.relu1_out\",\"embedder.block3.res1.relu2_out\",\"embedder.block3.res1.resadd_out\",\"embedder.block3.res2.relu1_out\",\"embedder.block3.res2.relu2_out\",\"embedder.block3.res2.resadd_out\"],\"xaxis\":\"x\",\"y\":[0.95,0.9875,0.95,0.9875,0.975,1.0,0.9875,1.0,0.9875,1.0,1.0,0.9625,0.9875,0.9,0.8375,0.8625,0.8,0.85,0.8625],\"yaxis\":\"y\",\"type\":\"scatter\"},{\"hovertemplate\":\"K=16\\u003cbr\\u003elayer=%{x}\\u003cbr\\u003escore=%{y}\\u003cextra\\u003e\\u003c\\u002fextra\\u003e\",\"legendgroup\":\"16\",\"line\":{\"color\":\"#19d3f3\",\"dash\":\"solid\"},\"marker\":{\"symbol\":\"circle\"},\"mode\":\"lines\",\"name\":\"16\",\"orientation\":\"v\",\"showlegend\":true,\"x\":[\"embedder.block1.conv_in0\",\"embedder.block1.res1.relu1_out\",\"embedder.block1.res1.relu2_out\",\"embedder.block1.res1.resadd_out\",\"embedder.block1.res2.relu1_out\",\"embedder.block1.res2.relu2_out\",\"embedder.block1.res2.resadd_out\",\"embedder.block2.res1.relu1_out\",\"embedder.block2.res1.relu2_out\",\"embedder.block2.res1.resadd_out\",\"embedder.block2.res2.relu1_out\",\"embedder.block2.res2.relu2_out\",\"embedder.block2.res2.resadd_out\",\"embedder.block3.res1.relu1_out\",\"embedder.block3.res1.relu2_out\",\"embedder.block3.res1.resadd_out\",\"embedder.block3.res2.relu1_out\",\"embedder.block3.res2.relu2_out\",\"embedder.block3.res2.resadd_out\"],\"xaxis\":\"x\",\"y\":[0.95,0.9875,0.95,0.9875,0.975,1.0,0.9875,1.0,0.9875,1.0,1.0,0.9625,0.9875,0.875,0.8375,0.9125,0.8125,0.85,0.8625],\"yaxis\":\"y\",\"type\":\"scatter\"}],                        {\"template\":{\"data\":{\"histogram2dcontour\":[{\"type\":\"histogram2dcontour\",\"colorbar\":{\"outlinewidth\":0,\"ticks\":\"\"},\"colorscale\":[[0.0,\"#0d0887\"],[0.1111111111111111,\"#46039f\"],[0.2222222222222222,\"#7201a8\"],[0.3333333333333333,\"#9c179e\"],[0.4444444444444444,\"#bd3786\"],[0.5555555555555556,\"#d8576b\"],[0.6666666666666666,\"#ed7953\"],[0.7777777777777778,\"#fb9f3a\"],[0.8888888888888888,\"#fdca26\"],[1.0,\"#f0f921\"]]}],\"choropleth\":[{\"type\":\"choropleth\",\"colorbar\":{\"outlinewidth\":0,\"ticks\":\"\"}}],\"histogram2d\":[{\"type\":\"histogram2d\",\"colorbar\":{\"outlinewidth\":0,\"ticks\":\"\"},\"colorscale\":[[0.0,\"#0d0887\"],[0.1111111111111111,\"#46039f\"],[0.2222222222222222,\"#7201a8\"],[0.3333333333333333,\"#9c179e\"],[0.4444444444444444,\"#bd3786\"],[0.5555555555555556,\"#d8576b\"],[0.6666666666666666,\"#ed7953\"],[0.7777777777777778,\"#fb9f3a\"],[0.8888888888888888,\"#fdca26\"],[1.0,\"#f0f921\"]]}],\"heatmap\":[{\"type\":\"heatmap\",\"colorbar\":{\"outlinewidth\":0,\"ticks\":\"\"},\"colorscale\":[[0.0,\"#0d0887\"],[0.1111111111111111,\"#46039f\"],[0.2222222222222222,\"#7201a8\"],[0.3333333333333333,\"#9c179e\"],[0.4444444444444444,\"#bd3786\"],[0.5555555555555556,\"#d8576b\"],[0.6666666666666666,\"#ed7953\"],[0.7777777777777778,\"#fb9f3a\"],[0.8888888888888888,\"#fdca26\"],[1.0,\"#f0f921\"]]}],\"heatmapgl\":[{\"type\":\"heatmapgl\",\"colorbar\":{\"outlinewidth\":0,\"ticks\":\"\"},\"colorscale\":[[0.0,\"#0d0887\"],[0.1111111111111111,\"#46039f\"],[0.2222222222222222,\"#7201a8\"],[0.3333333333333333,\"#9c179e\"],[0.4444444444444444,\"#bd3786\"],[0.5555555555555556,\"#d8576b\"],[0.6666666666666666,\"#ed7953\"],[0.7777777777777778,\"#fb9f3a\"],[0.8888888888888888,\"#fdca26\"],[1.0,\"#f0f921\"]]}],\"contourcarpet\":[{\"type\":\"contourcarpet\",\"colorbar\":{\"outlinewidth\":0,\"ticks\":\"\"}}],\"contour\":[{\"type\":\"contour\",\"colorbar\":{\"outlinewidth\":0,\"ticks\":\"\"},\"colorscale\":[[0.0,\"#0d0887\"],[0.1111111111111111,\"#46039f\"],[0.2222222222222222,\"#7201a8\"],[0.3333333333333333,\"#9c179e\"],[0.4444444444444444,\"#bd3786\"],[0.5555555555555556,\"#d8576b\"],[0.6666666666666666,\"#ed7953\"],[0.7777777777777778,\"#fb9f3a\"],[0.8888888888888888,\"#fdca26\"],[1.0,\"#f0f921\"]]}],\"surface\":[{\"type\":\"surface\",\"colorbar\":{\"outlinewidth\":0,\"ticks\":\"\"},\"colorscale\":[[0.0,\"#0d0887\"],[0.1111111111111111,\"#46039f\"],[0.2222222222222222,\"#7201a8\"],[0.3333333333333333,\"#9c179e\"],[0.4444444444444444,\"#bd3786\"],[0.5555555555555556,\"#d8576b\"],[0.6666666666666666,\"#ed7953\"],[0.7777777777777778,\"#fb9f3a\"],[0.8888888888888888,\"#fdca26\"],[1.0,\"#f0f921\"]]}],\"mesh3d\":[{\"type\":\"mesh3d\",\"colorbar\":{\"outlinewidth\":0,\"ticks\":\"\"}}],\"scatter\":[{\"fillpattern\":{\"fillmode\":\"overlay\",\"size\":10,\"solidity\":0.2},\"type\":\"scatter\"}],\"parcoords\":[{\"type\":\"parcoords\",\"line\":{\"colorbar\":{\"outlinewidth\":0,\"ticks\":\"\"}}}],\"scatterpolargl\":[{\"type\":\"scatterpolargl\",\"marker\":{\"colorbar\":{\"outlinewidth\":0,\"ticks\":\"\"}}}],\"bar\":[{\"error_x\":{\"color\":\"#2a3f5f\"},\"error_y\":{\"color\":\"#2a3f5f\"},\"marker\":{\"line\":{\"color\":\"#E5ECF6\",\"width\":0.5},\"pattern\":{\"fillmode\":\"overlay\",\"size\":10,\"solidity\":0.2}},\"type\":\"bar\"}],\"scattergeo\":[{\"type\":\"scattergeo\",\"marker\":{\"colorbar\":{\"outlinewidth\":0,\"ticks\":\"\"}}}],\"scatterpolar\":[{\"type\":\"scatterpolar\",\"marker\":{\"colorbar\":{\"outlinewidth\":0,\"ticks\":\"\"}}}],\"histogram\":[{\"marker\":{\"pattern\":{\"fillmode\":\"overlay\",\"size\":10,\"solidity\":0.2}},\"type\":\"histogram\"}],\"scattergl\":[{\"type\":\"scattergl\",\"marker\":{\"colorbar\":{\"outlinewidth\":0,\"ticks\":\"\"}}}],\"scatter3d\":[{\"type\":\"scatter3d\",\"line\":{\"colorbar\":{\"outlinewidth\":0,\"ticks\":\"\"}},\"marker\":{\"colorbar\":{\"outlinewidth\":0,\"ticks\":\"\"}}}],\"scattermapbox\":[{\"type\":\"scattermapbox\",\"marker\":{\"colorbar\":{\"outlinewidth\":0,\"ticks\":\"\"}}}],\"scatterternary\":[{\"type\":\"scatterternary\",\"marker\":{\"colorbar\":{\"outlinewidth\":0,\"ticks\":\"\"}}}],\"scattercarpet\":[{\"type\":\"scattercarpet\",\"marker\":{\"colorbar\":{\"outlinewidth\":0,\"ticks\":\"\"}}}],\"carpet\":[{\"aaxis\":{\"endlinecolor\":\"#2a3f5f\",\"gridcolor\":\"white\",\"linecolor\":\"white\",\"minorgridcolor\":\"white\",\"startlinecolor\":\"#2a3f5f\"},\"baxis\":{\"endlinecolor\":\"#2a3f5f\",\"gridcolor\":\"white\",\"linecolor\":\"white\",\"minorgridcolor\":\"white\",\"startlinecolor\":\"#2a3f5f\"},\"type\":\"carpet\"}],\"table\":[{\"cells\":{\"fill\":{\"color\":\"#EBF0F8\"},\"line\":{\"color\":\"white\"}},\"header\":{\"fill\":{\"color\":\"#C8D4E3\"},\"line\":{\"color\":\"white\"}},\"type\":\"table\"}],\"barpolar\":[{\"marker\":{\"line\":{\"color\":\"#E5ECF6\",\"width\":0.5},\"pattern\":{\"fillmode\":\"overlay\",\"size\":10,\"solidity\":0.2}},\"type\":\"barpolar\"}],\"pie\":[{\"automargin\":true,\"type\":\"pie\"}]},\"layout\":{\"autotypenumbers\":\"strict\",\"colorway\":[\"#636efa\",\"#EF553B\",\"#00cc96\",\"#ab63fa\",\"#FFA15A\",\"#19d3f3\",\"#FF6692\",\"#B6E880\",\"#FF97FF\",\"#FECB52\"],\"font\":{\"color\":\"#2a3f5f\"},\"hovermode\":\"closest\",\"hoverlabel\":{\"align\":\"left\"},\"paper_bgcolor\":\"white\",\"plot_bgcolor\":\"#E5ECF6\",\"polar\":{\"bgcolor\":\"#E5ECF6\",\"angularaxis\":{\"gridcolor\":\"white\",\"linecolor\":\"white\",\"ticks\":\"\"},\"radialaxis\":{\"gridcolor\":\"white\",\"linecolor\":\"white\",\"ticks\":\"\"}},\"ternary\":{\"bgcolor\":\"#E5ECF6\",\"aaxis\":{\"gridcolor\":\"white\",\"linecolor\":\"white\",\"ticks\":\"\"},\"baxis\":{\"gridcolor\":\"white\",\"linecolor\":\"white\",\"ticks\":\"\"},\"caxis\":{\"gridcolor\":\"white\",\"linecolor\":\"white\",\"ticks\":\"\"}},\"coloraxis\":{\"colorbar\":{\"outlinewidth\":0,\"ticks\":\"\"}},\"colorscale\":{\"sequential\":[[0.0,\"#0d0887\"],[0.1111111111111111,\"#46039f\"],[0.2222222222222222,\"#7201a8\"],[0.3333333333333333,\"#9c179e\"],[0.4444444444444444,\"#bd3786\"],[0.5555555555555556,\"#d8576b\"],[0.6666666666666666,\"#ed7953\"],[0.7777777777777778,\"#fb9f3a\"],[0.8888888888888888,\"#fdca26\"],[1.0,\"#f0f921\"]],\"sequentialminus\":[[0.0,\"#0d0887\"],[0.1111111111111111,\"#46039f\"],[0.2222222222222222,\"#7201a8\"],[0.3333333333333333,\"#9c179e\"],[0.4444444444444444,\"#bd3786\"],[0.5555555555555556,\"#d8576b\"],[0.6666666666666666,\"#ed7953\"],[0.7777777777777778,\"#fb9f3a\"],[0.8888888888888888,\"#fdca26\"],[1.0,\"#f0f921\"]],\"diverging\":[[0,\"#8e0152\"],[0.1,\"#c51b7d\"],[0.2,\"#de77ae\"],[0.3,\"#f1b6da\"],[0.4,\"#fde0ef\"],[0.5,\"#f7f7f7\"],[0.6,\"#e6f5d0\"],[0.7,\"#b8e186\"],[0.8,\"#7fbc41\"],[0.9,\"#4d9221\"],[1,\"#276419\"]]},\"xaxis\":{\"gridcolor\":\"white\",\"linecolor\":\"white\",\"ticks\":\"\",\"title\":{\"standoff\":15},\"zerolinecolor\":\"white\",\"automargin\":true,\"zerolinewidth\":2},\"yaxis\":{\"gridcolor\":\"white\",\"linecolor\":\"white\",\"ticks\":\"\",\"title\":{\"standoff\":15},\"zerolinecolor\":\"white\",\"automargin\":true,\"zerolinewidth\":2},\"scene\":{\"xaxis\":{\"backgroundcolor\":\"#E5ECF6\",\"gridcolor\":\"white\",\"linecolor\":\"white\",\"showbackground\":true,\"ticks\":\"\",\"zerolinecolor\":\"white\",\"gridwidth\":2},\"yaxis\":{\"backgroundcolor\":\"#E5ECF6\",\"gridcolor\":\"white\",\"linecolor\":\"white\",\"showbackground\":true,\"ticks\":\"\",\"zerolinecolor\":\"white\",\"gridwidth\":2},\"zaxis\":{\"backgroundcolor\":\"#E5ECF6\",\"gridcolor\":\"white\",\"linecolor\":\"white\",\"showbackground\":true,\"ticks\":\"\",\"zerolinecolor\":\"white\",\"gridwidth\":2}},\"shapedefaults\":{\"line\":{\"color\":\"#2a3f5f\"}},\"annotationdefaults\":{\"arrowcolor\":\"#2a3f5f\",\"arrowhead\":0,\"arrowwidth\":1},\"geo\":{\"bgcolor\":\"white\",\"landcolor\":\"#E5ECF6\",\"subunitcolor\":\"white\",\"showland\":true,\"showlakes\":true,\"lakecolor\":\"white\"},\"title\":{\"x\":0.05},\"mapbox\":{\"style\":\"light\"}}},\"xaxis\":{\"anchor\":\"y\",\"domain\":[0.0,1.0],\"title\":{\"text\":\"layer\"}},\"yaxis\":{\"anchor\":\"x\",\"domain\":[0.0,1.0],\"title\":{\"text\":\"score\"}},\"legend\":{\"title\":{\"text\":\"K\"},\"tracegroupgap\":0},\"title\":{\"text\":\"Sparse probe scores for \\\"conv pixel contains c\\\" over layers and K values for h. Score = 0.9194736842105262.\"},\"shapes\":[{\"line\":{\"dash\":\"dot\"},\"type\":\"line\",\"x0\":0,\"x1\":1,\"xref\":\"x domain\",\"y0\":1.0,\"y1\":1.0,\"yref\":\"y\"},{\"line\":{\"dash\":\"dot\"},\"type\":\"line\",\"x0\":0,\"x1\":1,\"xref\":\"x domain\",\"y0\":0.5,\"y1\":0.5,\"yref\":\"y\"}],\"annotations\":[{\"showarrow\":false,\"text\":\"perfect\",\"x\":1,\"xanchor\":\"right\",\"xref\":\"x domain\",\"y\":1.0,\"yanchor\":\"top\",\"yref\":\"y\"},{\"showarrow\":false,\"text\":\"baseline\",\"x\":1,\"xanchor\":\"right\",\"xref\":\"x domain\",\"y\":0.5,\"yanchor\":\"top\",\"yref\":\"y\"}]},                        {\"responsive\": true}                    ).then(function(){\n",
       "                            \n",
       "var gd = document.getElementById('12f3ec7b-35f4-4f7f-94bf-e2878d0dbf18');\n",
       "var x = new MutationObserver(function (mutations, observer) {{\n",
       "        var display = window.getComputedStyle(gd).display;\n",
       "        if (!display || display === 'none') {{\n",
       "            console.log([gd, 'removed!']);\n",
       "            Plotly.purge(gd);\n",
       "            observer.disconnect();\n",
       "        }}\n",
       "}});\n",
       "\n",
       "// Listen for the removal of the full notebook cells\n",
       "var notebookContainer = gd.closest('#notebook-container');\n",
       "if (notebookContainer) {{\n",
       "    x.observe(notebookContainer, {childList: true});\n",
       "}}\n",
       "\n",
       "// Listen for the clearing of the current output cell\n",
       "var outputEl = gd.closest('.output');\n",
       "if (outputEl) {{\n",
       "    x.observe(outputEl, {childList: true});\n",
       "}}\n",
       "\n",
       "                        })                };                });            </script>        </div>"
      ]
     },
     "metadata": {},
     "output_type": "display_data"
    },
    {
     "name": "stderr",
     "output_type": "stream",
     "text": [
      "100%|██████████| 19/19 [00:04<00:00,  4.45it/s]\n",
      "/tmp/ipykernel_113706/301907806.py:17: SettingWithCopyWarning:\n",
      "\n",
      "\n",
      "A value is trying to be set on a copy of a slice from a DataFrame.\n",
      "Try using .loc[row_indexer,col_indexer] = value instead\n",
      "\n",
      "See the caveats in the documentation: https://pandas.pydata.org/pandas-docs/stable/user_guide/indexing.html#returning-a-view-versus-a-copy\n",
      "\n"
     ]
    },
    {
     "data": {
      "application/vnd.plotly.v1+json": {
       "config": {
        "plotlyServerURL": "https://plot.ly"
       },
       "data": [
        {
         "hovertemplate": "K=1<br>layer=%{x}<br>score=%{y}<extra></extra>",
         "legendgroup": "1",
         "line": {
          "color": "#636efa",
          "dash": "solid"
         },
         "marker": {
          "symbol": "circle"
         },
         "mode": "lines",
         "name": "1",
         "orientation": "v",
         "showlegend": true,
         "type": "scatter",
         "x": [
          "embedder.block1.conv_in0",
          "embedder.block1.res1.relu1_out",
          "embedder.block1.res1.relu2_out",
          "embedder.block1.res1.resadd_out",
          "embedder.block1.res2.relu1_out",
          "embedder.block1.res2.relu2_out",
          "embedder.block1.res2.resadd_out",
          "embedder.block2.res1.relu1_out",
          "embedder.block2.res1.relu2_out",
          "embedder.block2.res1.resadd_out",
          "embedder.block2.res2.relu1_out",
          "embedder.block2.res2.relu2_out",
          "embedder.block2.res2.resadd_out",
          "embedder.block3.res1.relu1_out",
          "embedder.block3.res1.relu2_out",
          "embedder.block3.res1.resadd_out",
          "embedder.block3.res2.relu1_out",
          "embedder.block3.res2.relu2_out",
          "embedder.block3.res2.resadd_out"
         ],
         "xaxis": "x",
         "y": [
          0.95,
          0.9375,
          0.7125,
          0.875,
          0.8375,
          0.7125,
          0.85,
          0.6875,
          0.75,
          0.65,
          0.675,
          0.45,
          0.625,
          0.575,
          0.55,
          0.6875,
          0.7375,
          0.6125,
          0.7375
         ],
         "yaxis": "y"
        },
        {
         "hovertemplate": "K=2<br>layer=%{x}<br>score=%{y}<extra></extra>",
         "legendgroup": "2",
         "line": {
          "color": "#EF553B",
          "dash": "solid"
         },
         "marker": {
          "symbol": "circle"
         },
         "mode": "lines",
         "name": "2",
         "orientation": "v",
         "showlegend": true,
         "type": "scatter",
         "x": [
          "embedder.block1.conv_in0",
          "embedder.block1.res1.relu1_out",
          "embedder.block1.res1.relu2_out",
          "embedder.block1.res1.resadd_out",
          "embedder.block1.res2.relu1_out",
          "embedder.block1.res2.relu2_out",
          "embedder.block1.res2.resadd_out",
          "embedder.block2.res1.relu1_out",
          "embedder.block2.res1.relu2_out",
          "embedder.block2.res1.resadd_out",
          "embedder.block2.res2.relu1_out",
          "embedder.block2.res2.relu2_out",
          "embedder.block2.res2.resadd_out",
          "embedder.block3.res1.relu1_out",
          "embedder.block3.res1.relu2_out",
          "embedder.block3.res1.resadd_out",
          "embedder.block3.res2.relu1_out",
          "embedder.block3.res2.relu2_out",
          "embedder.block3.res2.resadd_out"
         ],
         "xaxis": "x",
         "y": [
          0.95,
          0.9375,
          0.725,
          0.85,
          0.85,
          0.725,
          0.8,
          0.7125,
          0.7875,
          0.6375,
          0.775,
          0.5,
          0.675,
          0.55,
          0.5625,
          0.6625,
          0.6875,
          0.6125,
          0.7625
         ],
         "yaxis": "y"
        },
        {
         "hovertemplate": "K=3<br>layer=%{x}<br>score=%{y}<extra></extra>",
         "legendgroup": "3",
         "line": {
          "color": "#00cc96",
          "dash": "solid"
         },
         "marker": {
          "symbol": "circle"
         },
         "mode": "lines",
         "name": "3",
         "orientation": "v",
         "showlegend": true,
         "type": "scatter",
         "x": [
          "embedder.block1.conv_in0",
          "embedder.block1.res1.relu1_out",
          "embedder.block1.res1.relu2_out",
          "embedder.block1.res1.resadd_out",
          "embedder.block1.res2.relu1_out",
          "embedder.block1.res2.relu2_out",
          "embedder.block1.res2.resadd_out",
          "embedder.block2.res1.relu1_out",
          "embedder.block2.res1.relu2_out",
          "embedder.block2.res1.resadd_out",
          "embedder.block2.res2.relu1_out",
          "embedder.block2.res2.relu2_out",
          "embedder.block2.res2.resadd_out",
          "embedder.block3.res1.relu1_out",
          "embedder.block3.res1.relu2_out",
          "embedder.block3.res1.resadd_out",
          "embedder.block3.res2.relu1_out",
          "embedder.block3.res2.relu2_out",
          "embedder.block3.res2.resadd_out"
         ],
         "xaxis": "x",
         "y": [
          0.95,
          0.925,
          0.7125,
          0.8625,
          0.85,
          0.7625,
          0.8125,
          0.8125,
          0.775,
          0.7125,
          0.575,
          0.5375,
          0.675,
          0.5375,
          0.5875,
          0.65,
          0.675,
          0.625,
          0.725
         ],
         "yaxis": "y"
        },
        {
         "hovertemplate": "K=4<br>layer=%{x}<br>score=%{y}<extra></extra>",
         "legendgroup": "4",
         "line": {
          "color": "#ab63fa",
          "dash": "solid"
         },
         "marker": {
          "symbol": "circle"
         },
         "mode": "lines",
         "name": "4",
         "orientation": "v",
         "showlegend": true,
         "type": "scatter",
         "x": [
          "embedder.block1.conv_in0",
          "embedder.block1.res1.relu1_out",
          "embedder.block1.res1.relu2_out",
          "embedder.block1.res1.resadd_out",
          "embedder.block1.res2.relu1_out",
          "embedder.block1.res2.relu2_out",
          "embedder.block1.res2.resadd_out",
          "embedder.block2.res1.relu1_out",
          "embedder.block2.res1.relu2_out",
          "embedder.block2.res1.resadd_out",
          "embedder.block2.res2.relu1_out",
          "embedder.block2.res2.relu2_out",
          "embedder.block2.res2.resadd_out",
          "embedder.block3.res1.relu1_out",
          "embedder.block3.res1.relu2_out",
          "embedder.block3.res1.resadd_out",
          "embedder.block3.res2.relu1_out",
          "embedder.block3.res2.relu2_out",
          "embedder.block3.res2.resadd_out"
         ],
         "xaxis": "x",
         "y": [
          0.95,
          0.9375,
          0.725,
          0.8875,
          0.9125,
          0.7875,
          0.825,
          0.8375,
          0.775,
          0.7375,
          0.575,
          0.5375,
          0.725,
          0.65,
          0.5875,
          0.675,
          0.7125,
          0.625,
          0.725
         ],
         "yaxis": "y"
        },
        {
         "hovertemplate": "K=5<br>layer=%{x}<br>score=%{y}<extra></extra>",
         "legendgroup": "5",
         "line": {
          "color": "#FFA15A",
          "dash": "solid"
         },
         "marker": {
          "symbol": "circle"
         },
         "mode": "lines",
         "name": "5",
         "orientation": "v",
         "showlegend": true,
         "type": "scatter",
         "x": [
          "embedder.block1.conv_in0",
          "embedder.block1.res1.relu1_out",
          "embedder.block1.res1.relu2_out",
          "embedder.block1.res1.resadd_out",
          "embedder.block1.res2.relu1_out",
          "embedder.block1.res2.relu2_out",
          "embedder.block1.res2.resadd_out",
          "embedder.block2.res1.relu1_out",
          "embedder.block2.res1.relu2_out",
          "embedder.block2.res1.resadd_out",
          "embedder.block2.res2.relu1_out",
          "embedder.block2.res2.relu2_out",
          "embedder.block2.res2.resadd_out",
          "embedder.block3.res1.relu1_out",
          "embedder.block3.res1.relu2_out",
          "embedder.block3.res1.resadd_out",
          "embedder.block3.res2.relu1_out",
          "embedder.block3.res2.relu2_out",
          "embedder.block3.res2.resadd_out"
         ],
         "xaxis": "x",
         "y": [
          0.95,
          0.9625,
          0.725,
          0.9125,
          0.9,
          0.775,
          0.875,
          0.85,
          0.775,
          0.7625,
          0.55,
          0.55,
          0.7125,
          0.575,
          0.6,
          0.65,
          0.7,
          0.6375,
          0.725
         ],
         "yaxis": "y"
        },
        {
         "hovertemplate": "K=6<br>layer=%{x}<br>score=%{y}<extra></extra>",
         "legendgroup": "6",
         "line": {
          "color": "#19d3f3",
          "dash": "solid"
         },
         "marker": {
          "symbol": "circle"
         },
         "mode": "lines",
         "name": "6",
         "orientation": "v",
         "showlegend": true,
         "type": "scatter",
         "x": [
          "embedder.block1.conv_in0",
          "embedder.block1.res1.relu1_out",
          "embedder.block1.res1.relu2_out",
          "embedder.block1.res1.resadd_out",
          "embedder.block1.res2.relu1_out",
          "embedder.block1.res2.relu2_out",
          "embedder.block1.res2.resadd_out",
          "embedder.block2.res1.relu1_out",
          "embedder.block2.res1.relu2_out",
          "embedder.block2.res1.resadd_out",
          "embedder.block2.res2.relu1_out",
          "embedder.block2.res2.relu2_out",
          "embedder.block2.res2.resadd_out",
          "embedder.block3.res1.relu1_out",
          "embedder.block3.res1.relu2_out",
          "embedder.block3.res1.resadd_out",
          "embedder.block3.res2.relu1_out",
          "embedder.block3.res2.relu2_out",
          "embedder.block3.res2.resadd_out"
         ],
         "xaxis": "x",
         "y": [
          0.95,
          0.975,
          0.7375,
          0.9,
          0.9,
          0.7875,
          0.9375,
          0.85,
          0.75,
          0.7625,
          0.5625,
          0.55,
          0.6875,
          0.5875,
          0.6,
          0.6875,
          0.7,
          0.625,
          0.725
         ],
         "yaxis": "y"
        },
        {
         "hovertemplate": "K=7<br>layer=%{x}<br>score=%{y}<extra></extra>",
         "legendgroup": "7",
         "line": {
          "color": "#FF6692",
          "dash": "solid"
         },
         "marker": {
          "symbol": "circle"
         },
         "mode": "lines",
         "name": "7",
         "orientation": "v",
         "showlegend": true,
         "type": "scatter",
         "x": [
          "embedder.block1.conv_in0",
          "embedder.block1.res1.relu1_out",
          "embedder.block1.res1.relu2_out",
          "embedder.block1.res1.resadd_out",
          "embedder.block1.res2.relu1_out",
          "embedder.block1.res2.relu2_out",
          "embedder.block1.res2.resadd_out",
          "embedder.block2.res1.relu1_out",
          "embedder.block2.res1.relu2_out",
          "embedder.block2.res1.resadd_out",
          "embedder.block2.res2.relu1_out",
          "embedder.block2.res2.relu2_out",
          "embedder.block2.res2.resadd_out",
          "embedder.block3.res1.relu1_out",
          "embedder.block3.res1.relu2_out",
          "embedder.block3.res1.resadd_out",
          "embedder.block3.res2.relu1_out",
          "embedder.block3.res2.relu2_out",
          "embedder.block3.res2.resadd_out"
         ],
         "xaxis": "x",
         "y": [
          0.95,
          0.975,
          0.75,
          0.9125,
          0.9,
          0.8375,
          0.9625,
          0.8625,
          0.75,
          0.8,
          0.6,
          0.55,
          0.725,
          0.575,
          0.6,
          0.7,
          0.6875,
          0.6375,
          0.7125
         ],
         "yaxis": "y"
        },
        {
         "hovertemplate": "K=8<br>layer=%{x}<br>score=%{y}<extra></extra>",
         "legendgroup": "8",
         "line": {
          "color": "#B6E880",
          "dash": "solid"
         },
         "marker": {
          "symbol": "circle"
         },
         "mode": "lines",
         "name": "8",
         "orientation": "v",
         "showlegend": true,
         "type": "scatter",
         "x": [
          "embedder.block1.conv_in0",
          "embedder.block1.res1.relu1_out",
          "embedder.block1.res1.relu2_out",
          "embedder.block1.res1.resadd_out",
          "embedder.block1.res2.relu1_out",
          "embedder.block1.res2.relu2_out",
          "embedder.block1.res2.resadd_out",
          "embedder.block2.res1.relu1_out",
          "embedder.block2.res1.relu2_out",
          "embedder.block2.res1.resadd_out",
          "embedder.block2.res2.relu1_out",
          "embedder.block2.res2.relu2_out",
          "embedder.block2.res2.resadd_out",
          "embedder.block3.res1.relu1_out",
          "embedder.block3.res1.relu2_out",
          "embedder.block3.res1.resadd_out",
          "embedder.block3.res2.relu1_out",
          "embedder.block3.res2.relu2_out",
          "embedder.block3.res2.resadd_out"
         ],
         "xaxis": "x",
         "y": [
          0.95,
          0.975,
          0.7375,
          0.9125,
          0.9125,
          0.8625,
          0.9375,
          0.85,
          0.4625,
          0.8125,
          0.5625,
          0.625,
          0.7875,
          0.575,
          0.6375,
          0.7,
          0.6875,
          0.6625,
          0.725
         ],
         "yaxis": "y"
        },
        {
         "hovertemplate": "K=9<br>layer=%{x}<br>score=%{y}<extra></extra>",
         "legendgroup": "9",
         "line": {
          "color": "#FF97FF",
          "dash": "solid"
         },
         "marker": {
          "symbol": "circle"
         },
         "mode": "lines",
         "name": "9",
         "orientation": "v",
         "showlegend": true,
         "type": "scatter",
         "x": [
          "embedder.block1.conv_in0",
          "embedder.block1.res1.relu1_out",
          "embedder.block1.res1.relu2_out",
          "embedder.block1.res1.resadd_out",
          "embedder.block1.res2.relu1_out",
          "embedder.block1.res2.relu2_out",
          "embedder.block1.res2.resadd_out",
          "embedder.block2.res1.relu1_out",
          "embedder.block2.res1.relu2_out",
          "embedder.block2.res1.resadd_out",
          "embedder.block2.res2.relu1_out",
          "embedder.block2.res2.relu2_out",
          "embedder.block2.res2.resadd_out",
          "embedder.block3.res1.relu1_out",
          "embedder.block3.res1.relu2_out",
          "embedder.block3.res1.resadd_out",
          "embedder.block3.res2.relu1_out",
          "embedder.block3.res2.relu2_out",
          "embedder.block3.res2.resadd_out"
         ],
         "xaxis": "x",
         "y": [
          0.95,
          0.975,
          0.75,
          0.9375,
          0.9125,
          0.85,
          0.925,
          0.8375,
          0.4625,
          0.8375,
          0.6125,
          0.65,
          0.8,
          0.575,
          0.6625,
          0.7,
          0.6875,
          0.6625,
          0.725
         ],
         "yaxis": "y"
        },
        {
         "hovertemplate": "K=10<br>layer=%{x}<br>score=%{y}<extra></extra>",
         "legendgroup": "10",
         "line": {
          "color": "#FECB52",
          "dash": "solid"
         },
         "marker": {
          "symbol": "circle"
         },
         "mode": "lines",
         "name": "10",
         "orientation": "v",
         "showlegend": true,
         "type": "scatter",
         "x": [
          "embedder.block1.conv_in0",
          "embedder.block1.res1.relu1_out",
          "embedder.block1.res1.relu2_out",
          "embedder.block1.res1.resadd_out",
          "embedder.block1.res2.relu1_out",
          "embedder.block1.res2.relu2_out",
          "embedder.block1.res2.resadd_out",
          "embedder.block2.res1.relu1_out",
          "embedder.block2.res1.relu2_out",
          "embedder.block2.res1.resadd_out",
          "embedder.block2.res2.relu1_out",
          "embedder.block2.res2.relu2_out",
          "embedder.block2.res2.resadd_out",
          "embedder.block3.res1.relu1_out",
          "embedder.block3.res1.relu2_out",
          "embedder.block3.res1.resadd_out",
          "embedder.block3.res2.relu1_out",
          "embedder.block3.res2.relu2_out",
          "embedder.block3.res2.resadd_out"
         ],
         "xaxis": "x",
         "y": [
          0.95,
          0.975,
          0.75,
          0.9375,
          0.95,
          0.85,
          0.9625,
          0.8375,
          0.5375,
          0.825,
          0.575,
          0.675,
          0.775,
          0.6,
          0.65,
          0.675,
          0.6875,
          0.65,
          0.725
         ],
         "yaxis": "y"
        },
        {
         "hovertemplate": "K=11<br>layer=%{x}<br>score=%{y}<extra></extra>",
         "legendgroup": "11",
         "line": {
          "color": "#636efa",
          "dash": "solid"
         },
         "marker": {
          "symbol": "circle"
         },
         "mode": "lines",
         "name": "11",
         "orientation": "v",
         "showlegend": true,
         "type": "scatter",
         "x": [
          "embedder.block1.conv_in0",
          "embedder.block1.res1.relu1_out",
          "embedder.block1.res1.relu2_out",
          "embedder.block1.res1.resadd_out",
          "embedder.block1.res2.relu1_out",
          "embedder.block1.res2.relu2_out",
          "embedder.block1.res2.resadd_out",
          "embedder.block2.res1.relu1_out",
          "embedder.block2.res1.relu2_out",
          "embedder.block2.res1.resadd_out",
          "embedder.block2.res2.relu1_out",
          "embedder.block2.res2.relu2_out",
          "embedder.block2.res2.resadd_out",
          "embedder.block3.res1.relu1_out",
          "embedder.block3.res1.relu2_out",
          "embedder.block3.res1.resadd_out",
          "embedder.block3.res2.relu1_out",
          "embedder.block3.res2.relu2_out",
          "embedder.block3.res2.resadd_out"
         ],
         "xaxis": "x",
         "y": [
          0.95,
          0.975,
          0.75,
          0.95,
          0.9375,
          0.85,
          0.95,
          0.825,
          0.55,
          0.775,
          0.5875,
          0.6875,
          0.7875,
          0.6,
          0.65,
          0.675,
          0.6875,
          0.6625,
          0.725
         ],
         "yaxis": "y"
        },
        {
         "hovertemplate": "K=12<br>layer=%{x}<br>score=%{y}<extra></extra>",
         "legendgroup": "12",
         "line": {
          "color": "#EF553B",
          "dash": "solid"
         },
         "marker": {
          "symbol": "circle"
         },
         "mode": "lines",
         "name": "12",
         "orientation": "v",
         "showlegend": true,
         "type": "scatter",
         "x": [
          "embedder.block1.conv_in0",
          "embedder.block1.res1.relu1_out",
          "embedder.block1.res1.relu2_out",
          "embedder.block1.res1.resadd_out",
          "embedder.block1.res2.relu1_out",
          "embedder.block1.res2.relu2_out",
          "embedder.block1.res2.resadd_out",
          "embedder.block2.res1.relu1_out",
          "embedder.block2.res1.relu2_out",
          "embedder.block2.res1.resadd_out",
          "embedder.block2.res2.relu1_out",
          "embedder.block2.res2.relu2_out",
          "embedder.block2.res2.resadd_out",
          "embedder.block3.res1.relu1_out",
          "embedder.block3.res1.relu2_out",
          "embedder.block3.res1.resadd_out",
          "embedder.block3.res2.relu1_out",
          "embedder.block3.res2.relu2_out",
          "embedder.block3.res2.resadd_out"
         ],
         "xaxis": "x",
         "y": [
          0.95,
          0.975,
          0.775,
          0.925,
          0.9375,
          0.85,
          0.9375,
          0.825,
          0.55,
          0.7875,
          0.5875,
          0.7,
          0.8,
          0.6,
          0.6875,
          0.7125,
          0.6875,
          0.6625,
          0.725
         ],
         "yaxis": "y"
        },
        {
         "hovertemplate": "K=13<br>layer=%{x}<br>score=%{y}<extra></extra>",
         "legendgroup": "13",
         "line": {
          "color": "#00cc96",
          "dash": "solid"
         },
         "marker": {
          "symbol": "circle"
         },
         "mode": "lines",
         "name": "13",
         "orientation": "v",
         "showlegend": true,
         "type": "scatter",
         "x": [
          "embedder.block1.conv_in0",
          "embedder.block1.res1.relu1_out",
          "embedder.block1.res1.relu2_out",
          "embedder.block1.res1.resadd_out",
          "embedder.block1.res2.relu1_out",
          "embedder.block1.res2.relu2_out",
          "embedder.block1.res2.resadd_out",
          "embedder.block2.res1.relu1_out",
          "embedder.block2.res1.relu2_out",
          "embedder.block2.res1.resadd_out",
          "embedder.block2.res2.relu1_out",
          "embedder.block2.res2.relu2_out",
          "embedder.block2.res2.resadd_out",
          "embedder.block3.res1.relu1_out",
          "embedder.block3.res1.relu2_out",
          "embedder.block3.res1.resadd_out",
          "embedder.block3.res2.relu1_out",
          "embedder.block3.res2.relu2_out",
          "embedder.block3.res2.resadd_out"
         ],
         "xaxis": "x",
         "y": [
          0.95,
          0.975,
          0.8,
          0.9625,
          0.9375,
          0.85,
          0.925,
          0.825,
          0.55,
          0.7875,
          0.5875,
          0.6625,
          0.7875,
          0.6125,
          0.6875,
          0.725,
          0.7,
          0.675,
          0.6625
         ],
         "yaxis": "y"
        },
        {
         "hovertemplate": "K=14<br>layer=%{x}<br>score=%{y}<extra></extra>",
         "legendgroup": "14",
         "line": {
          "color": "#ab63fa",
          "dash": "solid"
         },
         "marker": {
          "symbol": "circle"
         },
         "mode": "lines",
         "name": "14",
         "orientation": "v",
         "showlegend": true,
         "type": "scatter",
         "x": [
          "embedder.block1.conv_in0",
          "embedder.block1.res1.relu1_out",
          "embedder.block1.res1.relu2_out",
          "embedder.block1.res1.resadd_out",
          "embedder.block1.res2.relu1_out",
          "embedder.block1.res2.relu2_out",
          "embedder.block1.res2.resadd_out",
          "embedder.block2.res1.relu1_out",
          "embedder.block2.res1.relu2_out",
          "embedder.block2.res1.resadd_out",
          "embedder.block2.res2.relu1_out",
          "embedder.block2.res2.relu2_out",
          "embedder.block2.res2.resadd_out",
          "embedder.block3.res1.relu1_out",
          "embedder.block3.res1.relu2_out",
          "embedder.block3.res1.resadd_out",
          "embedder.block3.res2.relu1_out",
          "embedder.block3.res2.relu2_out",
          "embedder.block3.res2.resadd_out"
         ],
         "xaxis": "x",
         "y": [
          0.95,
          0.975,
          0.825,
          0.9625,
          0.9375,
          0.85,
          0.9375,
          0.8125,
          0.6,
          0.85,
          0.5875,
          0.6625,
          0.8125,
          0.6,
          0.7,
          0.6875,
          0.6875,
          0.6875,
          0.65
         ],
         "yaxis": "y"
        },
        {
         "hovertemplate": "K=15<br>layer=%{x}<br>score=%{y}<extra></extra>",
         "legendgroup": "15",
         "line": {
          "color": "#FFA15A",
          "dash": "solid"
         },
         "marker": {
          "symbol": "circle"
         },
         "mode": "lines",
         "name": "15",
         "orientation": "v",
         "showlegend": true,
         "type": "scatter",
         "x": [
          "embedder.block1.conv_in0",
          "embedder.block1.res1.relu1_out",
          "embedder.block1.res1.relu2_out",
          "embedder.block1.res1.resadd_out",
          "embedder.block1.res2.relu1_out",
          "embedder.block1.res2.relu2_out",
          "embedder.block1.res2.resadd_out",
          "embedder.block2.res1.relu1_out",
          "embedder.block2.res1.relu2_out",
          "embedder.block2.res1.resadd_out",
          "embedder.block2.res2.relu1_out",
          "embedder.block2.res2.relu2_out",
          "embedder.block2.res2.resadd_out",
          "embedder.block3.res1.relu1_out",
          "embedder.block3.res1.relu2_out",
          "embedder.block3.res1.resadd_out",
          "embedder.block3.res2.relu1_out",
          "embedder.block3.res2.relu2_out",
          "embedder.block3.res2.resadd_out"
         ],
         "xaxis": "x",
         "y": [
          0.95,
          0.975,
          0.825,
          0.9625,
          0.9375,
          0.85,
          0.9375,
          0.8,
          0.6,
          0.85,
          0.6625,
          0.6625,
          0.8,
          0.5875,
          0.7,
          0.7125,
          0.6875,
          0.7,
          0.6625
         ],
         "yaxis": "y"
        },
        {
         "hovertemplate": "K=16<br>layer=%{x}<br>score=%{y}<extra></extra>",
         "legendgroup": "16",
         "line": {
          "color": "#19d3f3",
          "dash": "solid"
         },
         "marker": {
          "symbol": "circle"
         },
         "mode": "lines",
         "name": "16",
         "orientation": "v",
         "showlegend": true,
         "type": "scatter",
         "x": [
          "embedder.block1.conv_in0",
          "embedder.block1.res1.relu1_out",
          "embedder.block1.res1.relu2_out",
          "embedder.block1.res1.resadd_out",
          "embedder.block1.res2.relu1_out",
          "embedder.block1.res2.relu2_out",
          "embedder.block1.res2.resadd_out",
          "embedder.block2.res1.relu1_out",
          "embedder.block2.res1.relu2_out",
          "embedder.block2.res1.resadd_out",
          "embedder.block2.res2.relu1_out",
          "embedder.block2.res2.relu2_out",
          "embedder.block2.res2.resadd_out",
          "embedder.block3.res1.relu1_out",
          "embedder.block3.res1.relu2_out",
          "embedder.block3.res1.resadd_out",
          "embedder.block3.res2.relu1_out",
          "embedder.block3.res2.relu2_out",
          "embedder.block3.res2.resadd_out"
         ],
         "xaxis": "x",
         "y": [
          0.95,
          0.9625,
          0.825,
          0.9625,
          0.9375,
          0.8375,
          0.95,
          0.8,
          0.6,
          0.8375,
          0.6625,
          0.6875,
          0.8375,
          0.5875,
          0.7125,
          0.6875,
          0.7,
          0.6875,
          0.65
         ],
         "yaxis": "y"
        }
       ],
       "layout": {
        "annotations": [
         {
          "showarrow": false,
          "text": "perfect",
          "x": 1,
          "xanchor": "right",
          "xref": "x domain",
          "y": 1,
          "yanchor": "top",
          "yref": "y"
         },
         {
          "showarrow": false,
          "text": "baseline",
          "x": 1,
          "xanchor": "right",
          "xref": "x domain",
          "y": 0.5,
          "yanchor": "top",
          "yref": "y"
         }
        ],
        "legend": {
         "title": {
          "text": "K"
         },
         "tracegroupgap": 0
        },
        "shapes": [
         {
          "line": {
           "dash": "dot"
          },
          "type": "line",
          "x0": 0,
          "x1": 1,
          "xref": "x domain",
          "y0": 1,
          "y1": 1,
          "yref": "y"
         },
         {
          "line": {
           "dash": "dot"
          },
          "type": "line",
          "x0": 0,
          "x1": 1,
          "xref": "x domain",
          "y0": 0.5,
          "y1": 0.5,
          "yref": "y"
         }
        ],
        "template": {
         "data": {
          "bar": [
           {
            "error_x": {
             "color": "#2a3f5f"
            },
            "error_y": {
             "color": "#2a3f5f"
            },
            "marker": {
             "line": {
              "color": "#E5ECF6",
              "width": 0.5
             },
             "pattern": {
              "fillmode": "overlay",
              "size": 10,
              "solidity": 0.2
             }
            },
            "type": "bar"
           }
          ],
          "barpolar": [
           {
            "marker": {
             "line": {
              "color": "#E5ECF6",
              "width": 0.5
             },
             "pattern": {
              "fillmode": "overlay",
              "size": 10,
              "solidity": 0.2
             }
            },
            "type": "barpolar"
           }
          ],
          "carpet": [
           {
            "aaxis": {
             "endlinecolor": "#2a3f5f",
             "gridcolor": "white",
             "linecolor": "white",
             "minorgridcolor": "white",
             "startlinecolor": "#2a3f5f"
            },
            "baxis": {
             "endlinecolor": "#2a3f5f",
             "gridcolor": "white",
             "linecolor": "white",
             "minorgridcolor": "white",
             "startlinecolor": "#2a3f5f"
            },
            "type": "carpet"
           }
          ],
          "choropleth": [
           {
            "colorbar": {
             "outlinewidth": 0,
             "ticks": ""
            },
            "type": "choropleth"
           }
          ],
          "contour": [
           {
            "colorbar": {
             "outlinewidth": 0,
             "ticks": ""
            },
            "colorscale": [
             [
              0,
              "#0d0887"
             ],
             [
              0.1111111111111111,
              "#46039f"
             ],
             [
              0.2222222222222222,
              "#7201a8"
             ],
             [
              0.3333333333333333,
              "#9c179e"
             ],
             [
              0.4444444444444444,
              "#bd3786"
             ],
             [
              0.5555555555555556,
              "#d8576b"
             ],
             [
              0.6666666666666666,
              "#ed7953"
             ],
             [
              0.7777777777777778,
              "#fb9f3a"
             ],
             [
              0.8888888888888888,
              "#fdca26"
             ],
             [
              1,
              "#f0f921"
             ]
            ],
            "type": "contour"
           }
          ],
          "contourcarpet": [
           {
            "colorbar": {
             "outlinewidth": 0,
             "ticks": ""
            },
            "type": "contourcarpet"
           }
          ],
          "heatmap": [
           {
            "colorbar": {
             "outlinewidth": 0,
             "ticks": ""
            },
            "colorscale": [
             [
              0,
              "#0d0887"
             ],
             [
              0.1111111111111111,
              "#46039f"
             ],
             [
              0.2222222222222222,
              "#7201a8"
             ],
             [
              0.3333333333333333,
              "#9c179e"
             ],
             [
              0.4444444444444444,
              "#bd3786"
             ],
             [
              0.5555555555555556,
              "#d8576b"
             ],
             [
              0.6666666666666666,
              "#ed7953"
             ],
             [
              0.7777777777777778,
              "#fb9f3a"
             ],
             [
              0.8888888888888888,
              "#fdca26"
             ],
             [
              1,
              "#f0f921"
             ]
            ],
            "type": "heatmap"
           }
          ],
          "heatmapgl": [
           {
            "colorbar": {
             "outlinewidth": 0,
             "ticks": ""
            },
            "colorscale": [
             [
              0,
              "#0d0887"
             ],
             [
              0.1111111111111111,
              "#46039f"
             ],
             [
              0.2222222222222222,
              "#7201a8"
             ],
             [
              0.3333333333333333,
              "#9c179e"
             ],
             [
              0.4444444444444444,
              "#bd3786"
             ],
             [
              0.5555555555555556,
              "#d8576b"
             ],
             [
              0.6666666666666666,
              "#ed7953"
             ],
             [
              0.7777777777777778,
              "#fb9f3a"
             ],
             [
              0.8888888888888888,
              "#fdca26"
             ],
             [
              1,
              "#f0f921"
             ]
            ],
            "type": "heatmapgl"
           }
          ],
          "histogram": [
           {
            "marker": {
             "pattern": {
              "fillmode": "overlay",
              "size": 10,
              "solidity": 0.2
             }
            },
            "type": "histogram"
           }
          ],
          "histogram2d": [
           {
            "colorbar": {
             "outlinewidth": 0,
             "ticks": ""
            },
            "colorscale": [
             [
              0,
              "#0d0887"
             ],
             [
              0.1111111111111111,
              "#46039f"
             ],
             [
              0.2222222222222222,
              "#7201a8"
             ],
             [
              0.3333333333333333,
              "#9c179e"
             ],
             [
              0.4444444444444444,
              "#bd3786"
             ],
             [
              0.5555555555555556,
              "#d8576b"
             ],
             [
              0.6666666666666666,
              "#ed7953"
             ],
             [
              0.7777777777777778,
              "#fb9f3a"
             ],
             [
              0.8888888888888888,
              "#fdca26"
             ],
             [
              1,
              "#f0f921"
             ]
            ],
            "type": "histogram2d"
           }
          ],
          "histogram2dcontour": [
           {
            "colorbar": {
             "outlinewidth": 0,
             "ticks": ""
            },
            "colorscale": [
             [
              0,
              "#0d0887"
             ],
             [
              0.1111111111111111,
              "#46039f"
             ],
             [
              0.2222222222222222,
              "#7201a8"
             ],
             [
              0.3333333333333333,
              "#9c179e"
             ],
             [
              0.4444444444444444,
              "#bd3786"
             ],
             [
              0.5555555555555556,
              "#d8576b"
             ],
             [
              0.6666666666666666,
              "#ed7953"
             ],
             [
              0.7777777777777778,
              "#fb9f3a"
             ],
             [
              0.8888888888888888,
              "#fdca26"
             ],
             [
              1,
              "#f0f921"
             ]
            ],
            "type": "histogram2dcontour"
           }
          ],
          "mesh3d": [
           {
            "colorbar": {
             "outlinewidth": 0,
             "ticks": ""
            },
            "type": "mesh3d"
           }
          ],
          "parcoords": [
           {
            "line": {
             "colorbar": {
              "outlinewidth": 0,
              "ticks": ""
             }
            },
            "type": "parcoords"
           }
          ],
          "pie": [
           {
            "automargin": true,
            "type": "pie"
           }
          ],
          "scatter": [
           {
            "fillpattern": {
             "fillmode": "overlay",
             "size": 10,
             "solidity": 0.2
            },
            "type": "scatter"
           }
          ],
          "scatter3d": [
           {
            "line": {
             "colorbar": {
              "outlinewidth": 0,
              "ticks": ""
             }
            },
            "marker": {
             "colorbar": {
              "outlinewidth": 0,
              "ticks": ""
             }
            },
            "type": "scatter3d"
           }
          ],
          "scattercarpet": [
           {
            "marker": {
             "colorbar": {
              "outlinewidth": 0,
              "ticks": ""
             }
            },
            "type": "scattercarpet"
           }
          ],
          "scattergeo": [
           {
            "marker": {
             "colorbar": {
              "outlinewidth": 0,
              "ticks": ""
             }
            },
            "type": "scattergeo"
           }
          ],
          "scattergl": [
           {
            "marker": {
             "colorbar": {
              "outlinewidth": 0,
              "ticks": ""
             }
            },
            "type": "scattergl"
           }
          ],
          "scattermapbox": [
           {
            "marker": {
             "colorbar": {
              "outlinewidth": 0,
              "ticks": ""
             }
            },
            "type": "scattermapbox"
           }
          ],
          "scatterpolar": [
           {
            "marker": {
             "colorbar": {
              "outlinewidth": 0,
              "ticks": ""
             }
            },
            "type": "scatterpolar"
           }
          ],
          "scatterpolargl": [
           {
            "marker": {
             "colorbar": {
              "outlinewidth": 0,
              "ticks": ""
             }
            },
            "type": "scatterpolargl"
           }
          ],
          "scatterternary": [
           {
            "marker": {
             "colorbar": {
              "outlinewidth": 0,
              "ticks": ""
             }
            },
            "type": "scatterternary"
           }
          ],
          "surface": [
           {
            "colorbar": {
             "outlinewidth": 0,
             "ticks": ""
            },
            "colorscale": [
             [
              0,
              "#0d0887"
             ],
             [
              0.1111111111111111,
              "#46039f"
             ],
             [
              0.2222222222222222,
              "#7201a8"
             ],
             [
              0.3333333333333333,
              "#9c179e"
             ],
             [
              0.4444444444444444,
              "#bd3786"
             ],
             [
              0.5555555555555556,
              "#d8576b"
             ],
             [
              0.6666666666666666,
              "#ed7953"
             ],
             [
              0.7777777777777778,
              "#fb9f3a"
             ],
             [
              0.8888888888888888,
              "#fdca26"
             ],
             [
              1,
              "#f0f921"
             ]
            ],
            "type": "surface"
           }
          ],
          "table": [
           {
            "cells": {
             "fill": {
              "color": "#EBF0F8"
             },
             "line": {
              "color": "white"
             }
            },
            "header": {
             "fill": {
              "color": "#C8D4E3"
             },
             "line": {
              "color": "white"
             }
            },
            "type": "table"
           }
          ]
         },
         "layout": {
          "annotationdefaults": {
           "arrowcolor": "#2a3f5f",
           "arrowhead": 0,
           "arrowwidth": 1
          },
          "autotypenumbers": "strict",
          "coloraxis": {
           "colorbar": {
            "outlinewidth": 0,
            "ticks": ""
           }
          },
          "colorscale": {
           "diverging": [
            [
             0,
             "#8e0152"
            ],
            [
             0.1,
             "#c51b7d"
            ],
            [
             0.2,
             "#de77ae"
            ],
            [
             0.3,
             "#f1b6da"
            ],
            [
             0.4,
             "#fde0ef"
            ],
            [
             0.5,
             "#f7f7f7"
            ],
            [
             0.6,
             "#e6f5d0"
            ],
            [
             0.7,
             "#b8e186"
            ],
            [
             0.8,
             "#7fbc41"
            ],
            [
             0.9,
             "#4d9221"
            ],
            [
             1,
             "#276419"
            ]
           ],
           "sequential": [
            [
             0,
             "#0d0887"
            ],
            [
             0.1111111111111111,
             "#46039f"
            ],
            [
             0.2222222222222222,
             "#7201a8"
            ],
            [
             0.3333333333333333,
             "#9c179e"
            ],
            [
             0.4444444444444444,
             "#bd3786"
            ],
            [
             0.5555555555555556,
             "#d8576b"
            ],
            [
             0.6666666666666666,
             "#ed7953"
            ],
            [
             0.7777777777777778,
             "#fb9f3a"
            ],
            [
             0.8888888888888888,
             "#fdca26"
            ],
            [
             1,
             "#f0f921"
            ]
           ],
           "sequentialminus": [
            [
             0,
             "#0d0887"
            ],
            [
             0.1111111111111111,
             "#46039f"
            ],
            [
             0.2222222222222222,
             "#7201a8"
            ],
            [
             0.3333333333333333,
             "#9c179e"
            ],
            [
             0.4444444444444444,
             "#bd3786"
            ],
            [
             0.5555555555555556,
             "#d8576b"
            ],
            [
             0.6666666666666666,
             "#ed7953"
            ],
            [
             0.7777777777777778,
             "#fb9f3a"
            ],
            [
             0.8888888888888888,
             "#fdca26"
            ],
            [
             1,
             "#f0f921"
            ]
           ]
          },
          "colorway": [
           "#636efa",
           "#EF553B",
           "#00cc96",
           "#ab63fa",
           "#FFA15A",
           "#19d3f3",
           "#FF6692",
           "#B6E880",
           "#FF97FF",
           "#FECB52"
          ],
          "font": {
           "color": "#2a3f5f"
          },
          "geo": {
           "bgcolor": "white",
           "lakecolor": "white",
           "landcolor": "#E5ECF6",
           "showlakes": true,
           "showland": true,
           "subunitcolor": "white"
          },
          "hoverlabel": {
           "align": "left"
          },
          "hovermode": "closest",
          "mapbox": {
           "style": "light"
          },
          "paper_bgcolor": "white",
          "plot_bgcolor": "#E5ECF6",
          "polar": {
           "angularaxis": {
            "gridcolor": "white",
            "linecolor": "white",
            "ticks": ""
           },
           "bgcolor": "#E5ECF6",
           "radialaxis": {
            "gridcolor": "white",
            "linecolor": "white",
            "ticks": ""
           }
          },
          "scene": {
           "xaxis": {
            "backgroundcolor": "#E5ECF6",
            "gridcolor": "white",
            "gridwidth": 2,
            "linecolor": "white",
            "showbackground": true,
            "ticks": "",
            "zerolinecolor": "white"
           },
           "yaxis": {
            "backgroundcolor": "#E5ECF6",
            "gridcolor": "white",
            "gridwidth": 2,
            "linecolor": "white",
            "showbackground": true,
            "ticks": "",
            "zerolinecolor": "white"
           },
           "zaxis": {
            "backgroundcolor": "#E5ECF6",
            "gridcolor": "white",
            "gridwidth": 2,
            "linecolor": "white",
            "showbackground": true,
            "ticks": "",
            "zerolinecolor": "white"
           }
          },
          "shapedefaults": {
           "line": {
            "color": "#2a3f5f"
           }
          },
          "ternary": {
           "aaxis": {
            "gridcolor": "white",
            "linecolor": "white",
            "ticks": ""
           },
           "baxis": {
            "gridcolor": "white",
            "linecolor": "white",
            "ticks": ""
           },
           "bgcolor": "#E5ECF6",
           "caxis": {
            "gridcolor": "white",
            "linecolor": "white",
            "ticks": ""
           }
          },
          "title": {
           "x": 0.05
          },
          "xaxis": {
           "automargin": true,
           "gridcolor": "white",
           "linecolor": "white",
           "ticks": "",
           "title": {
            "standoff": 15
           },
           "zerolinecolor": "white",
           "zerolinewidth": 2
          },
          "yaxis": {
           "automargin": true,
           "gridcolor": "white",
           "linecolor": "white",
           "ticks": "",
           "title": {
            "standoff": 15
           },
           "zerolinecolor": "white",
           "zerolinewidth": 2
          }
         }
        },
        "title": {
         "text": "Sparse probe scores for \"conv pixel contains c\" over layers and K values for h. Score = 0.7300000000000001."
        },
        "xaxis": {
         "anchor": "y",
         "domain": [
          0,
          1
         ],
         "title": {
          "text": "layer"
         }
        },
        "yaxis": {
         "anchor": "x",
         "domain": [
          0,
          1
         ],
         "title": {
          "text": "score"
         }
        }
       }
      },
      "text/html": [
       "<div>                            <div id=\"9cba6f4c-2eeb-4f42-968b-f8b0e8fc8b5a\" class=\"plotly-graph-div\" style=\"height:525px; width:100%;\"></div>            <script type=\"text/javascript\">                require([\"plotly\"], function(Plotly) {                    window.PLOTLYENV=window.PLOTLYENV || {};                                    if (document.getElementById(\"9cba6f4c-2eeb-4f42-968b-f8b0e8fc8b5a\")) {                    Plotly.newPlot(                        \"9cba6f4c-2eeb-4f42-968b-f8b0e8fc8b5a\",                        [{\"hovertemplate\":\"K=1\\u003cbr\\u003elayer=%{x}\\u003cbr\\u003escore=%{y}\\u003cextra\\u003e\\u003c\\u002fextra\\u003e\",\"legendgroup\":\"1\",\"line\":{\"color\":\"#636efa\",\"dash\":\"solid\"},\"marker\":{\"symbol\":\"circle\"},\"mode\":\"lines\",\"name\":\"1\",\"orientation\":\"v\",\"showlegend\":true,\"x\":[\"embedder.block1.conv_in0\",\"embedder.block1.res1.relu1_out\",\"embedder.block1.res1.relu2_out\",\"embedder.block1.res1.resadd_out\",\"embedder.block1.res2.relu1_out\",\"embedder.block1.res2.relu2_out\",\"embedder.block1.res2.resadd_out\",\"embedder.block2.res1.relu1_out\",\"embedder.block2.res1.relu2_out\",\"embedder.block2.res1.resadd_out\",\"embedder.block2.res2.relu1_out\",\"embedder.block2.res2.relu2_out\",\"embedder.block2.res2.resadd_out\",\"embedder.block3.res1.relu1_out\",\"embedder.block3.res1.relu2_out\",\"embedder.block3.res1.resadd_out\",\"embedder.block3.res2.relu1_out\",\"embedder.block3.res2.relu2_out\",\"embedder.block3.res2.resadd_out\"],\"xaxis\":\"x\",\"y\":[0.95,0.9375,0.7125,0.875,0.8375,0.7125,0.85,0.6875,0.75,0.65,0.675,0.45,0.625,0.575,0.55,0.6875,0.7375,0.6125,0.7375],\"yaxis\":\"y\",\"type\":\"scatter\"},{\"hovertemplate\":\"K=2\\u003cbr\\u003elayer=%{x}\\u003cbr\\u003escore=%{y}\\u003cextra\\u003e\\u003c\\u002fextra\\u003e\",\"legendgroup\":\"2\",\"line\":{\"color\":\"#EF553B\",\"dash\":\"solid\"},\"marker\":{\"symbol\":\"circle\"},\"mode\":\"lines\",\"name\":\"2\",\"orientation\":\"v\",\"showlegend\":true,\"x\":[\"embedder.block1.conv_in0\",\"embedder.block1.res1.relu1_out\",\"embedder.block1.res1.relu2_out\",\"embedder.block1.res1.resadd_out\",\"embedder.block1.res2.relu1_out\",\"embedder.block1.res2.relu2_out\",\"embedder.block1.res2.resadd_out\",\"embedder.block2.res1.relu1_out\",\"embedder.block2.res1.relu2_out\",\"embedder.block2.res1.resadd_out\",\"embedder.block2.res2.relu1_out\",\"embedder.block2.res2.relu2_out\",\"embedder.block2.res2.resadd_out\",\"embedder.block3.res1.relu1_out\",\"embedder.block3.res1.relu2_out\",\"embedder.block3.res1.resadd_out\",\"embedder.block3.res2.relu1_out\",\"embedder.block3.res2.relu2_out\",\"embedder.block3.res2.resadd_out\"],\"xaxis\":\"x\",\"y\":[0.95,0.9375,0.725,0.85,0.85,0.725,0.8,0.7125,0.7875,0.6375,0.775,0.5,0.675,0.55,0.5625,0.6625,0.6875,0.6125,0.7625],\"yaxis\":\"y\",\"type\":\"scatter\"},{\"hovertemplate\":\"K=3\\u003cbr\\u003elayer=%{x}\\u003cbr\\u003escore=%{y}\\u003cextra\\u003e\\u003c\\u002fextra\\u003e\",\"legendgroup\":\"3\",\"line\":{\"color\":\"#00cc96\",\"dash\":\"solid\"},\"marker\":{\"symbol\":\"circle\"},\"mode\":\"lines\",\"name\":\"3\",\"orientation\":\"v\",\"showlegend\":true,\"x\":[\"embedder.block1.conv_in0\",\"embedder.block1.res1.relu1_out\",\"embedder.block1.res1.relu2_out\",\"embedder.block1.res1.resadd_out\",\"embedder.block1.res2.relu1_out\",\"embedder.block1.res2.relu2_out\",\"embedder.block1.res2.resadd_out\",\"embedder.block2.res1.relu1_out\",\"embedder.block2.res1.relu2_out\",\"embedder.block2.res1.resadd_out\",\"embedder.block2.res2.relu1_out\",\"embedder.block2.res2.relu2_out\",\"embedder.block2.res2.resadd_out\",\"embedder.block3.res1.relu1_out\",\"embedder.block3.res1.relu2_out\",\"embedder.block3.res1.resadd_out\",\"embedder.block3.res2.relu1_out\",\"embedder.block3.res2.relu2_out\",\"embedder.block3.res2.resadd_out\"],\"xaxis\":\"x\",\"y\":[0.95,0.925,0.7125,0.8625,0.85,0.7625,0.8125,0.8125,0.775,0.7125,0.575,0.5375,0.675,0.5375,0.5875,0.65,0.675,0.625,0.725],\"yaxis\":\"y\",\"type\":\"scatter\"},{\"hovertemplate\":\"K=4\\u003cbr\\u003elayer=%{x}\\u003cbr\\u003escore=%{y}\\u003cextra\\u003e\\u003c\\u002fextra\\u003e\",\"legendgroup\":\"4\",\"line\":{\"color\":\"#ab63fa\",\"dash\":\"solid\"},\"marker\":{\"symbol\":\"circle\"},\"mode\":\"lines\",\"name\":\"4\",\"orientation\":\"v\",\"showlegend\":true,\"x\":[\"embedder.block1.conv_in0\",\"embedder.block1.res1.relu1_out\",\"embedder.block1.res1.relu2_out\",\"embedder.block1.res1.resadd_out\",\"embedder.block1.res2.relu1_out\",\"embedder.block1.res2.relu2_out\",\"embedder.block1.res2.resadd_out\",\"embedder.block2.res1.relu1_out\",\"embedder.block2.res1.relu2_out\",\"embedder.block2.res1.resadd_out\",\"embedder.block2.res2.relu1_out\",\"embedder.block2.res2.relu2_out\",\"embedder.block2.res2.resadd_out\",\"embedder.block3.res1.relu1_out\",\"embedder.block3.res1.relu2_out\",\"embedder.block3.res1.resadd_out\",\"embedder.block3.res2.relu1_out\",\"embedder.block3.res2.relu2_out\",\"embedder.block3.res2.resadd_out\"],\"xaxis\":\"x\",\"y\":[0.95,0.9375,0.725,0.8875,0.9125,0.7875,0.825,0.8375,0.775,0.7375,0.575,0.5375,0.725,0.65,0.5875,0.675,0.7125,0.625,0.725],\"yaxis\":\"y\",\"type\":\"scatter\"},{\"hovertemplate\":\"K=5\\u003cbr\\u003elayer=%{x}\\u003cbr\\u003escore=%{y}\\u003cextra\\u003e\\u003c\\u002fextra\\u003e\",\"legendgroup\":\"5\",\"line\":{\"color\":\"#FFA15A\",\"dash\":\"solid\"},\"marker\":{\"symbol\":\"circle\"},\"mode\":\"lines\",\"name\":\"5\",\"orientation\":\"v\",\"showlegend\":true,\"x\":[\"embedder.block1.conv_in0\",\"embedder.block1.res1.relu1_out\",\"embedder.block1.res1.relu2_out\",\"embedder.block1.res1.resadd_out\",\"embedder.block1.res2.relu1_out\",\"embedder.block1.res2.relu2_out\",\"embedder.block1.res2.resadd_out\",\"embedder.block2.res1.relu1_out\",\"embedder.block2.res1.relu2_out\",\"embedder.block2.res1.resadd_out\",\"embedder.block2.res2.relu1_out\",\"embedder.block2.res2.relu2_out\",\"embedder.block2.res2.resadd_out\",\"embedder.block3.res1.relu1_out\",\"embedder.block3.res1.relu2_out\",\"embedder.block3.res1.resadd_out\",\"embedder.block3.res2.relu1_out\",\"embedder.block3.res2.relu2_out\",\"embedder.block3.res2.resadd_out\"],\"xaxis\":\"x\",\"y\":[0.95,0.9625,0.725,0.9125,0.9,0.775,0.875,0.85,0.775,0.7625,0.55,0.55,0.7125,0.575,0.6,0.65,0.7,0.6375,0.725],\"yaxis\":\"y\",\"type\":\"scatter\"},{\"hovertemplate\":\"K=6\\u003cbr\\u003elayer=%{x}\\u003cbr\\u003escore=%{y}\\u003cextra\\u003e\\u003c\\u002fextra\\u003e\",\"legendgroup\":\"6\",\"line\":{\"color\":\"#19d3f3\",\"dash\":\"solid\"},\"marker\":{\"symbol\":\"circle\"},\"mode\":\"lines\",\"name\":\"6\",\"orientation\":\"v\",\"showlegend\":true,\"x\":[\"embedder.block1.conv_in0\",\"embedder.block1.res1.relu1_out\",\"embedder.block1.res1.relu2_out\",\"embedder.block1.res1.resadd_out\",\"embedder.block1.res2.relu1_out\",\"embedder.block1.res2.relu2_out\",\"embedder.block1.res2.resadd_out\",\"embedder.block2.res1.relu1_out\",\"embedder.block2.res1.relu2_out\",\"embedder.block2.res1.resadd_out\",\"embedder.block2.res2.relu1_out\",\"embedder.block2.res2.relu2_out\",\"embedder.block2.res2.resadd_out\",\"embedder.block3.res1.relu1_out\",\"embedder.block3.res1.relu2_out\",\"embedder.block3.res1.resadd_out\",\"embedder.block3.res2.relu1_out\",\"embedder.block3.res2.relu2_out\",\"embedder.block3.res2.resadd_out\"],\"xaxis\":\"x\",\"y\":[0.95,0.975,0.7375,0.9,0.9,0.7875,0.9375,0.85,0.75,0.7625,0.5625,0.55,0.6875,0.5875,0.6,0.6875,0.7,0.625,0.725],\"yaxis\":\"y\",\"type\":\"scatter\"},{\"hovertemplate\":\"K=7\\u003cbr\\u003elayer=%{x}\\u003cbr\\u003escore=%{y}\\u003cextra\\u003e\\u003c\\u002fextra\\u003e\",\"legendgroup\":\"7\",\"line\":{\"color\":\"#FF6692\",\"dash\":\"solid\"},\"marker\":{\"symbol\":\"circle\"},\"mode\":\"lines\",\"name\":\"7\",\"orientation\":\"v\",\"showlegend\":true,\"x\":[\"embedder.block1.conv_in0\",\"embedder.block1.res1.relu1_out\",\"embedder.block1.res1.relu2_out\",\"embedder.block1.res1.resadd_out\",\"embedder.block1.res2.relu1_out\",\"embedder.block1.res2.relu2_out\",\"embedder.block1.res2.resadd_out\",\"embedder.block2.res1.relu1_out\",\"embedder.block2.res1.relu2_out\",\"embedder.block2.res1.resadd_out\",\"embedder.block2.res2.relu1_out\",\"embedder.block2.res2.relu2_out\",\"embedder.block2.res2.resadd_out\",\"embedder.block3.res1.relu1_out\",\"embedder.block3.res1.relu2_out\",\"embedder.block3.res1.resadd_out\",\"embedder.block3.res2.relu1_out\",\"embedder.block3.res2.relu2_out\",\"embedder.block3.res2.resadd_out\"],\"xaxis\":\"x\",\"y\":[0.95,0.975,0.75,0.9125,0.9,0.8375,0.9625,0.8625,0.75,0.8,0.6,0.55,0.725,0.575,0.6,0.7,0.6875,0.6375,0.7125],\"yaxis\":\"y\",\"type\":\"scatter\"},{\"hovertemplate\":\"K=8\\u003cbr\\u003elayer=%{x}\\u003cbr\\u003escore=%{y}\\u003cextra\\u003e\\u003c\\u002fextra\\u003e\",\"legendgroup\":\"8\",\"line\":{\"color\":\"#B6E880\",\"dash\":\"solid\"},\"marker\":{\"symbol\":\"circle\"},\"mode\":\"lines\",\"name\":\"8\",\"orientation\":\"v\",\"showlegend\":true,\"x\":[\"embedder.block1.conv_in0\",\"embedder.block1.res1.relu1_out\",\"embedder.block1.res1.relu2_out\",\"embedder.block1.res1.resadd_out\",\"embedder.block1.res2.relu1_out\",\"embedder.block1.res2.relu2_out\",\"embedder.block1.res2.resadd_out\",\"embedder.block2.res1.relu1_out\",\"embedder.block2.res1.relu2_out\",\"embedder.block2.res1.resadd_out\",\"embedder.block2.res2.relu1_out\",\"embedder.block2.res2.relu2_out\",\"embedder.block2.res2.resadd_out\",\"embedder.block3.res1.relu1_out\",\"embedder.block3.res1.relu2_out\",\"embedder.block3.res1.resadd_out\",\"embedder.block3.res2.relu1_out\",\"embedder.block3.res2.relu2_out\",\"embedder.block3.res2.resadd_out\"],\"xaxis\":\"x\",\"y\":[0.95,0.975,0.7375,0.9125,0.9125,0.8625,0.9375,0.85,0.4625,0.8125,0.5625,0.625,0.7875,0.575,0.6375,0.7,0.6875,0.6625,0.725],\"yaxis\":\"y\",\"type\":\"scatter\"},{\"hovertemplate\":\"K=9\\u003cbr\\u003elayer=%{x}\\u003cbr\\u003escore=%{y}\\u003cextra\\u003e\\u003c\\u002fextra\\u003e\",\"legendgroup\":\"9\",\"line\":{\"color\":\"#FF97FF\",\"dash\":\"solid\"},\"marker\":{\"symbol\":\"circle\"},\"mode\":\"lines\",\"name\":\"9\",\"orientation\":\"v\",\"showlegend\":true,\"x\":[\"embedder.block1.conv_in0\",\"embedder.block1.res1.relu1_out\",\"embedder.block1.res1.relu2_out\",\"embedder.block1.res1.resadd_out\",\"embedder.block1.res2.relu1_out\",\"embedder.block1.res2.relu2_out\",\"embedder.block1.res2.resadd_out\",\"embedder.block2.res1.relu1_out\",\"embedder.block2.res1.relu2_out\",\"embedder.block2.res1.resadd_out\",\"embedder.block2.res2.relu1_out\",\"embedder.block2.res2.relu2_out\",\"embedder.block2.res2.resadd_out\",\"embedder.block3.res1.relu1_out\",\"embedder.block3.res1.relu2_out\",\"embedder.block3.res1.resadd_out\",\"embedder.block3.res2.relu1_out\",\"embedder.block3.res2.relu2_out\",\"embedder.block3.res2.resadd_out\"],\"xaxis\":\"x\",\"y\":[0.95,0.975,0.75,0.9375,0.9125,0.85,0.925,0.8375,0.4625,0.8375,0.6125,0.65,0.8,0.575,0.6625,0.7,0.6875,0.6625,0.725],\"yaxis\":\"y\",\"type\":\"scatter\"},{\"hovertemplate\":\"K=10\\u003cbr\\u003elayer=%{x}\\u003cbr\\u003escore=%{y}\\u003cextra\\u003e\\u003c\\u002fextra\\u003e\",\"legendgroup\":\"10\",\"line\":{\"color\":\"#FECB52\",\"dash\":\"solid\"},\"marker\":{\"symbol\":\"circle\"},\"mode\":\"lines\",\"name\":\"10\",\"orientation\":\"v\",\"showlegend\":true,\"x\":[\"embedder.block1.conv_in0\",\"embedder.block1.res1.relu1_out\",\"embedder.block1.res1.relu2_out\",\"embedder.block1.res1.resadd_out\",\"embedder.block1.res2.relu1_out\",\"embedder.block1.res2.relu2_out\",\"embedder.block1.res2.resadd_out\",\"embedder.block2.res1.relu1_out\",\"embedder.block2.res1.relu2_out\",\"embedder.block2.res1.resadd_out\",\"embedder.block2.res2.relu1_out\",\"embedder.block2.res2.relu2_out\",\"embedder.block2.res2.resadd_out\",\"embedder.block3.res1.relu1_out\",\"embedder.block3.res1.relu2_out\",\"embedder.block3.res1.resadd_out\",\"embedder.block3.res2.relu1_out\",\"embedder.block3.res2.relu2_out\",\"embedder.block3.res2.resadd_out\"],\"xaxis\":\"x\",\"y\":[0.95,0.975,0.75,0.9375,0.95,0.85,0.9625,0.8375,0.5375,0.825,0.575,0.675,0.775,0.6,0.65,0.675,0.6875,0.65,0.725],\"yaxis\":\"y\",\"type\":\"scatter\"},{\"hovertemplate\":\"K=11\\u003cbr\\u003elayer=%{x}\\u003cbr\\u003escore=%{y}\\u003cextra\\u003e\\u003c\\u002fextra\\u003e\",\"legendgroup\":\"11\",\"line\":{\"color\":\"#636efa\",\"dash\":\"solid\"},\"marker\":{\"symbol\":\"circle\"},\"mode\":\"lines\",\"name\":\"11\",\"orientation\":\"v\",\"showlegend\":true,\"x\":[\"embedder.block1.conv_in0\",\"embedder.block1.res1.relu1_out\",\"embedder.block1.res1.relu2_out\",\"embedder.block1.res1.resadd_out\",\"embedder.block1.res2.relu1_out\",\"embedder.block1.res2.relu2_out\",\"embedder.block1.res2.resadd_out\",\"embedder.block2.res1.relu1_out\",\"embedder.block2.res1.relu2_out\",\"embedder.block2.res1.resadd_out\",\"embedder.block2.res2.relu1_out\",\"embedder.block2.res2.relu2_out\",\"embedder.block2.res2.resadd_out\",\"embedder.block3.res1.relu1_out\",\"embedder.block3.res1.relu2_out\",\"embedder.block3.res1.resadd_out\",\"embedder.block3.res2.relu1_out\",\"embedder.block3.res2.relu2_out\",\"embedder.block3.res2.resadd_out\"],\"xaxis\":\"x\",\"y\":[0.95,0.975,0.75,0.95,0.9375,0.85,0.95,0.825,0.55,0.775,0.5875,0.6875,0.7875,0.6,0.65,0.675,0.6875,0.6625,0.725],\"yaxis\":\"y\",\"type\":\"scatter\"},{\"hovertemplate\":\"K=12\\u003cbr\\u003elayer=%{x}\\u003cbr\\u003escore=%{y}\\u003cextra\\u003e\\u003c\\u002fextra\\u003e\",\"legendgroup\":\"12\",\"line\":{\"color\":\"#EF553B\",\"dash\":\"solid\"},\"marker\":{\"symbol\":\"circle\"},\"mode\":\"lines\",\"name\":\"12\",\"orientation\":\"v\",\"showlegend\":true,\"x\":[\"embedder.block1.conv_in0\",\"embedder.block1.res1.relu1_out\",\"embedder.block1.res1.relu2_out\",\"embedder.block1.res1.resadd_out\",\"embedder.block1.res2.relu1_out\",\"embedder.block1.res2.relu2_out\",\"embedder.block1.res2.resadd_out\",\"embedder.block2.res1.relu1_out\",\"embedder.block2.res1.relu2_out\",\"embedder.block2.res1.resadd_out\",\"embedder.block2.res2.relu1_out\",\"embedder.block2.res2.relu2_out\",\"embedder.block2.res2.resadd_out\",\"embedder.block3.res1.relu1_out\",\"embedder.block3.res1.relu2_out\",\"embedder.block3.res1.resadd_out\",\"embedder.block3.res2.relu1_out\",\"embedder.block3.res2.relu2_out\",\"embedder.block3.res2.resadd_out\"],\"xaxis\":\"x\",\"y\":[0.95,0.975,0.775,0.925,0.9375,0.85,0.9375,0.825,0.55,0.7875,0.5875,0.7,0.8,0.6,0.6875,0.7125,0.6875,0.6625,0.725],\"yaxis\":\"y\",\"type\":\"scatter\"},{\"hovertemplate\":\"K=13\\u003cbr\\u003elayer=%{x}\\u003cbr\\u003escore=%{y}\\u003cextra\\u003e\\u003c\\u002fextra\\u003e\",\"legendgroup\":\"13\",\"line\":{\"color\":\"#00cc96\",\"dash\":\"solid\"},\"marker\":{\"symbol\":\"circle\"},\"mode\":\"lines\",\"name\":\"13\",\"orientation\":\"v\",\"showlegend\":true,\"x\":[\"embedder.block1.conv_in0\",\"embedder.block1.res1.relu1_out\",\"embedder.block1.res1.relu2_out\",\"embedder.block1.res1.resadd_out\",\"embedder.block1.res2.relu1_out\",\"embedder.block1.res2.relu2_out\",\"embedder.block1.res2.resadd_out\",\"embedder.block2.res1.relu1_out\",\"embedder.block2.res1.relu2_out\",\"embedder.block2.res1.resadd_out\",\"embedder.block2.res2.relu1_out\",\"embedder.block2.res2.relu2_out\",\"embedder.block2.res2.resadd_out\",\"embedder.block3.res1.relu1_out\",\"embedder.block3.res1.relu2_out\",\"embedder.block3.res1.resadd_out\",\"embedder.block3.res2.relu1_out\",\"embedder.block3.res2.relu2_out\",\"embedder.block3.res2.resadd_out\"],\"xaxis\":\"x\",\"y\":[0.95,0.975,0.8,0.9625,0.9375,0.85,0.925,0.825,0.55,0.7875,0.5875,0.6625,0.7875,0.6125,0.6875,0.725,0.7,0.675,0.6625],\"yaxis\":\"y\",\"type\":\"scatter\"},{\"hovertemplate\":\"K=14\\u003cbr\\u003elayer=%{x}\\u003cbr\\u003escore=%{y}\\u003cextra\\u003e\\u003c\\u002fextra\\u003e\",\"legendgroup\":\"14\",\"line\":{\"color\":\"#ab63fa\",\"dash\":\"solid\"},\"marker\":{\"symbol\":\"circle\"},\"mode\":\"lines\",\"name\":\"14\",\"orientation\":\"v\",\"showlegend\":true,\"x\":[\"embedder.block1.conv_in0\",\"embedder.block1.res1.relu1_out\",\"embedder.block1.res1.relu2_out\",\"embedder.block1.res1.resadd_out\",\"embedder.block1.res2.relu1_out\",\"embedder.block1.res2.relu2_out\",\"embedder.block1.res2.resadd_out\",\"embedder.block2.res1.relu1_out\",\"embedder.block2.res1.relu2_out\",\"embedder.block2.res1.resadd_out\",\"embedder.block2.res2.relu1_out\",\"embedder.block2.res2.relu2_out\",\"embedder.block2.res2.resadd_out\",\"embedder.block3.res1.relu1_out\",\"embedder.block3.res1.relu2_out\",\"embedder.block3.res1.resadd_out\",\"embedder.block3.res2.relu1_out\",\"embedder.block3.res2.relu2_out\",\"embedder.block3.res2.resadd_out\"],\"xaxis\":\"x\",\"y\":[0.95,0.975,0.825,0.9625,0.9375,0.85,0.9375,0.8125,0.6,0.85,0.5875,0.6625,0.8125,0.6,0.7,0.6875,0.6875,0.6875,0.65],\"yaxis\":\"y\",\"type\":\"scatter\"},{\"hovertemplate\":\"K=15\\u003cbr\\u003elayer=%{x}\\u003cbr\\u003escore=%{y}\\u003cextra\\u003e\\u003c\\u002fextra\\u003e\",\"legendgroup\":\"15\",\"line\":{\"color\":\"#FFA15A\",\"dash\":\"solid\"},\"marker\":{\"symbol\":\"circle\"},\"mode\":\"lines\",\"name\":\"15\",\"orientation\":\"v\",\"showlegend\":true,\"x\":[\"embedder.block1.conv_in0\",\"embedder.block1.res1.relu1_out\",\"embedder.block1.res1.relu2_out\",\"embedder.block1.res1.resadd_out\",\"embedder.block1.res2.relu1_out\",\"embedder.block1.res2.relu2_out\",\"embedder.block1.res2.resadd_out\",\"embedder.block2.res1.relu1_out\",\"embedder.block2.res1.relu2_out\",\"embedder.block2.res1.resadd_out\",\"embedder.block2.res2.relu1_out\",\"embedder.block2.res2.relu2_out\",\"embedder.block2.res2.resadd_out\",\"embedder.block3.res1.relu1_out\",\"embedder.block3.res1.relu2_out\",\"embedder.block3.res1.resadd_out\",\"embedder.block3.res2.relu1_out\",\"embedder.block3.res2.relu2_out\",\"embedder.block3.res2.resadd_out\"],\"xaxis\":\"x\",\"y\":[0.95,0.975,0.825,0.9625,0.9375,0.85,0.9375,0.8,0.6,0.85,0.6625,0.6625,0.8,0.5875,0.7,0.7125,0.6875,0.7,0.6625],\"yaxis\":\"y\",\"type\":\"scatter\"},{\"hovertemplate\":\"K=16\\u003cbr\\u003elayer=%{x}\\u003cbr\\u003escore=%{y}\\u003cextra\\u003e\\u003c\\u002fextra\\u003e\",\"legendgroup\":\"16\",\"line\":{\"color\":\"#19d3f3\",\"dash\":\"solid\"},\"marker\":{\"symbol\":\"circle\"},\"mode\":\"lines\",\"name\":\"16\",\"orientation\":\"v\",\"showlegend\":true,\"x\":[\"embedder.block1.conv_in0\",\"embedder.block1.res1.relu1_out\",\"embedder.block1.res1.relu2_out\",\"embedder.block1.res1.resadd_out\",\"embedder.block1.res2.relu1_out\",\"embedder.block1.res2.relu2_out\",\"embedder.block1.res2.resadd_out\",\"embedder.block2.res1.relu1_out\",\"embedder.block2.res1.relu2_out\",\"embedder.block2.res1.resadd_out\",\"embedder.block2.res2.relu1_out\",\"embedder.block2.res2.relu2_out\",\"embedder.block2.res2.resadd_out\",\"embedder.block3.res1.relu1_out\",\"embedder.block3.res1.relu2_out\",\"embedder.block3.res1.resadd_out\",\"embedder.block3.res2.relu1_out\",\"embedder.block3.res2.relu2_out\",\"embedder.block3.res2.resadd_out\"],\"xaxis\":\"x\",\"y\":[0.95,0.9625,0.825,0.9625,0.9375,0.8375,0.95,0.8,0.6,0.8375,0.6625,0.6875,0.8375,0.5875,0.7125,0.6875,0.7,0.6875,0.65],\"yaxis\":\"y\",\"type\":\"scatter\"}],                        {\"template\":{\"data\":{\"histogram2dcontour\":[{\"type\":\"histogram2dcontour\",\"colorbar\":{\"outlinewidth\":0,\"ticks\":\"\"},\"colorscale\":[[0.0,\"#0d0887\"],[0.1111111111111111,\"#46039f\"],[0.2222222222222222,\"#7201a8\"],[0.3333333333333333,\"#9c179e\"],[0.4444444444444444,\"#bd3786\"],[0.5555555555555556,\"#d8576b\"],[0.6666666666666666,\"#ed7953\"],[0.7777777777777778,\"#fb9f3a\"],[0.8888888888888888,\"#fdca26\"],[1.0,\"#f0f921\"]]}],\"choropleth\":[{\"type\":\"choropleth\",\"colorbar\":{\"outlinewidth\":0,\"ticks\":\"\"}}],\"histogram2d\":[{\"type\":\"histogram2d\",\"colorbar\":{\"outlinewidth\":0,\"ticks\":\"\"},\"colorscale\":[[0.0,\"#0d0887\"],[0.1111111111111111,\"#46039f\"],[0.2222222222222222,\"#7201a8\"],[0.3333333333333333,\"#9c179e\"],[0.4444444444444444,\"#bd3786\"],[0.5555555555555556,\"#d8576b\"],[0.6666666666666666,\"#ed7953\"],[0.7777777777777778,\"#fb9f3a\"],[0.8888888888888888,\"#fdca26\"],[1.0,\"#f0f921\"]]}],\"heatmap\":[{\"type\":\"heatmap\",\"colorbar\":{\"outlinewidth\":0,\"ticks\":\"\"},\"colorscale\":[[0.0,\"#0d0887\"],[0.1111111111111111,\"#46039f\"],[0.2222222222222222,\"#7201a8\"],[0.3333333333333333,\"#9c179e\"],[0.4444444444444444,\"#bd3786\"],[0.5555555555555556,\"#d8576b\"],[0.6666666666666666,\"#ed7953\"],[0.7777777777777778,\"#fb9f3a\"],[0.8888888888888888,\"#fdca26\"],[1.0,\"#f0f921\"]]}],\"heatmapgl\":[{\"type\":\"heatmapgl\",\"colorbar\":{\"outlinewidth\":0,\"ticks\":\"\"},\"colorscale\":[[0.0,\"#0d0887\"],[0.1111111111111111,\"#46039f\"],[0.2222222222222222,\"#7201a8\"],[0.3333333333333333,\"#9c179e\"],[0.4444444444444444,\"#bd3786\"],[0.5555555555555556,\"#d8576b\"],[0.6666666666666666,\"#ed7953\"],[0.7777777777777778,\"#fb9f3a\"],[0.8888888888888888,\"#fdca26\"],[1.0,\"#f0f921\"]]}],\"contourcarpet\":[{\"type\":\"contourcarpet\",\"colorbar\":{\"outlinewidth\":0,\"ticks\":\"\"}}],\"contour\":[{\"type\":\"contour\",\"colorbar\":{\"outlinewidth\":0,\"ticks\":\"\"},\"colorscale\":[[0.0,\"#0d0887\"],[0.1111111111111111,\"#46039f\"],[0.2222222222222222,\"#7201a8\"],[0.3333333333333333,\"#9c179e\"],[0.4444444444444444,\"#bd3786\"],[0.5555555555555556,\"#d8576b\"],[0.6666666666666666,\"#ed7953\"],[0.7777777777777778,\"#fb9f3a\"],[0.8888888888888888,\"#fdca26\"],[1.0,\"#f0f921\"]]}],\"surface\":[{\"type\":\"surface\",\"colorbar\":{\"outlinewidth\":0,\"ticks\":\"\"},\"colorscale\":[[0.0,\"#0d0887\"],[0.1111111111111111,\"#46039f\"],[0.2222222222222222,\"#7201a8\"],[0.3333333333333333,\"#9c179e\"],[0.4444444444444444,\"#bd3786\"],[0.5555555555555556,\"#d8576b\"],[0.6666666666666666,\"#ed7953\"],[0.7777777777777778,\"#fb9f3a\"],[0.8888888888888888,\"#fdca26\"],[1.0,\"#f0f921\"]]}],\"mesh3d\":[{\"type\":\"mesh3d\",\"colorbar\":{\"outlinewidth\":0,\"ticks\":\"\"}}],\"scatter\":[{\"fillpattern\":{\"fillmode\":\"overlay\",\"size\":10,\"solidity\":0.2},\"type\":\"scatter\"}],\"parcoords\":[{\"type\":\"parcoords\",\"line\":{\"colorbar\":{\"outlinewidth\":0,\"ticks\":\"\"}}}],\"scatterpolargl\":[{\"type\":\"scatterpolargl\",\"marker\":{\"colorbar\":{\"outlinewidth\":0,\"ticks\":\"\"}}}],\"bar\":[{\"error_x\":{\"color\":\"#2a3f5f\"},\"error_y\":{\"color\":\"#2a3f5f\"},\"marker\":{\"line\":{\"color\":\"#E5ECF6\",\"width\":0.5},\"pattern\":{\"fillmode\":\"overlay\",\"size\":10,\"solidity\":0.2}},\"type\":\"bar\"}],\"scattergeo\":[{\"type\":\"scattergeo\",\"marker\":{\"colorbar\":{\"outlinewidth\":0,\"ticks\":\"\"}}}],\"scatterpolar\":[{\"type\":\"scatterpolar\",\"marker\":{\"colorbar\":{\"outlinewidth\":0,\"ticks\":\"\"}}}],\"histogram\":[{\"marker\":{\"pattern\":{\"fillmode\":\"overlay\",\"size\":10,\"solidity\":0.2}},\"type\":\"histogram\"}],\"scattergl\":[{\"type\":\"scattergl\",\"marker\":{\"colorbar\":{\"outlinewidth\":0,\"ticks\":\"\"}}}],\"scatter3d\":[{\"type\":\"scatter3d\",\"line\":{\"colorbar\":{\"outlinewidth\":0,\"ticks\":\"\"}},\"marker\":{\"colorbar\":{\"outlinewidth\":0,\"ticks\":\"\"}}}],\"scattermapbox\":[{\"type\":\"scattermapbox\",\"marker\":{\"colorbar\":{\"outlinewidth\":0,\"ticks\":\"\"}}}],\"scatterternary\":[{\"type\":\"scatterternary\",\"marker\":{\"colorbar\":{\"outlinewidth\":0,\"ticks\":\"\"}}}],\"scattercarpet\":[{\"type\":\"scattercarpet\",\"marker\":{\"colorbar\":{\"outlinewidth\":0,\"ticks\":\"\"}}}],\"carpet\":[{\"aaxis\":{\"endlinecolor\":\"#2a3f5f\",\"gridcolor\":\"white\",\"linecolor\":\"white\",\"minorgridcolor\":\"white\",\"startlinecolor\":\"#2a3f5f\"},\"baxis\":{\"endlinecolor\":\"#2a3f5f\",\"gridcolor\":\"white\",\"linecolor\":\"white\",\"minorgridcolor\":\"white\",\"startlinecolor\":\"#2a3f5f\"},\"type\":\"carpet\"}],\"table\":[{\"cells\":{\"fill\":{\"color\":\"#EBF0F8\"},\"line\":{\"color\":\"white\"}},\"header\":{\"fill\":{\"color\":\"#C8D4E3\"},\"line\":{\"color\":\"white\"}},\"type\":\"table\"}],\"barpolar\":[{\"marker\":{\"line\":{\"color\":\"#E5ECF6\",\"width\":0.5},\"pattern\":{\"fillmode\":\"overlay\",\"size\":10,\"solidity\":0.2}},\"type\":\"barpolar\"}],\"pie\":[{\"automargin\":true,\"type\":\"pie\"}]},\"layout\":{\"autotypenumbers\":\"strict\",\"colorway\":[\"#636efa\",\"#EF553B\",\"#00cc96\",\"#ab63fa\",\"#FFA15A\",\"#19d3f3\",\"#FF6692\",\"#B6E880\",\"#FF97FF\",\"#FECB52\"],\"font\":{\"color\":\"#2a3f5f\"},\"hovermode\":\"closest\",\"hoverlabel\":{\"align\":\"left\"},\"paper_bgcolor\":\"white\",\"plot_bgcolor\":\"#E5ECF6\",\"polar\":{\"bgcolor\":\"#E5ECF6\",\"angularaxis\":{\"gridcolor\":\"white\",\"linecolor\":\"white\",\"ticks\":\"\"},\"radialaxis\":{\"gridcolor\":\"white\",\"linecolor\":\"white\",\"ticks\":\"\"}},\"ternary\":{\"bgcolor\":\"#E5ECF6\",\"aaxis\":{\"gridcolor\":\"white\",\"linecolor\":\"white\",\"ticks\":\"\"},\"baxis\":{\"gridcolor\":\"white\",\"linecolor\":\"white\",\"ticks\":\"\"},\"caxis\":{\"gridcolor\":\"white\",\"linecolor\":\"white\",\"ticks\":\"\"}},\"coloraxis\":{\"colorbar\":{\"outlinewidth\":0,\"ticks\":\"\"}},\"colorscale\":{\"sequential\":[[0.0,\"#0d0887\"],[0.1111111111111111,\"#46039f\"],[0.2222222222222222,\"#7201a8\"],[0.3333333333333333,\"#9c179e\"],[0.4444444444444444,\"#bd3786\"],[0.5555555555555556,\"#d8576b\"],[0.6666666666666666,\"#ed7953\"],[0.7777777777777778,\"#fb9f3a\"],[0.8888888888888888,\"#fdca26\"],[1.0,\"#f0f921\"]],\"sequentialminus\":[[0.0,\"#0d0887\"],[0.1111111111111111,\"#46039f\"],[0.2222222222222222,\"#7201a8\"],[0.3333333333333333,\"#9c179e\"],[0.4444444444444444,\"#bd3786\"],[0.5555555555555556,\"#d8576b\"],[0.6666666666666666,\"#ed7953\"],[0.7777777777777778,\"#fb9f3a\"],[0.8888888888888888,\"#fdca26\"],[1.0,\"#f0f921\"]],\"diverging\":[[0,\"#8e0152\"],[0.1,\"#c51b7d\"],[0.2,\"#de77ae\"],[0.3,\"#f1b6da\"],[0.4,\"#fde0ef\"],[0.5,\"#f7f7f7\"],[0.6,\"#e6f5d0\"],[0.7,\"#b8e186\"],[0.8,\"#7fbc41\"],[0.9,\"#4d9221\"],[1,\"#276419\"]]},\"xaxis\":{\"gridcolor\":\"white\",\"linecolor\":\"white\",\"ticks\":\"\",\"title\":{\"standoff\":15},\"zerolinecolor\":\"white\",\"automargin\":true,\"zerolinewidth\":2},\"yaxis\":{\"gridcolor\":\"white\",\"linecolor\":\"white\",\"ticks\":\"\",\"title\":{\"standoff\":15},\"zerolinecolor\":\"white\",\"automargin\":true,\"zerolinewidth\":2},\"scene\":{\"xaxis\":{\"backgroundcolor\":\"#E5ECF6\",\"gridcolor\":\"white\",\"linecolor\":\"white\",\"showbackground\":true,\"ticks\":\"\",\"zerolinecolor\":\"white\",\"gridwidth\":2},\"yaxis\":{\"backgroundcolor\":\"#E5ECF6\",\"gridcolor\":\"white\",\"linecolor\":\"white\",\"showbackground\":true,\"ticks\":\"\",\"zerolinecolor\":\"white\",\"gridwidth\":2},\"zaxis\":{\"backgroundcolor\":\"#E5ECF6\",\"gridcolor\":\"white\",\"linecolor\":\"white\",\"showbackground\":true,\"ticks\":\"\",\"zerolinecolor\":\"white\",\"gridwidth\":2}},\"shapedefaults\":{\"line\":{\"color\":\"#2a3f5f\"}},\"annotationdefaults\":{\"arrowcolor\":\"#2a3f5f\",\"arrowhead\":0,\"arrowwidth\":1},\"geo\":{\"bgcolor\":\"white\",\"landcolor\":\"#E5ECF6\",\"subunitcolor\":\"white\",\"showland\":true,\"showlakes\":true,\"lakecolor\":\"white\"},\"title\":{\"x\":0.05},\"mapbox\":{\"style\":\"light\"}}},\"xaxis\":{\"anchor\":\"y\",\"domain\":[0.0,1.0],\"title\":{\"text\":\"layer\"}},\"yaxis\":{\"anchor\":\"x\",\"domain\":[0.0,1.0],\"title\":{\"text\":\"score\"}},\"legend\":{\"title\":{\"text\":\"K\"},\"tracegroupgap\":0},\"title\":{\"text\":\"Sparse probe scores for \\\"conv pixel contains c\\\" over layers and K values for h. Score = 0.7300000000000001.\"},\"shapes\":[{\"line\":{\"dash\":\"dot\"},\"type\":\"line\",\"x0\":0,\"x1\":1,\"xref\":\"x domain\",\"y0\":1.0,\"y1\":1.0,\"yref\":\"y\"},{\"line\":{\"dash\":\"dot\"},\"type\":\"line\",\"x0\":0,\"x1\":1,\"xref\":\"x domain\",\"y0\":0.5,\"y1\":0.5,\"yref\":\"y\"}],\"annotations\":[{\"showarrow\":false,\"text\":\"perfect\",\"x\":1,\"xanchor\":\"right\",\"xref\":\"x domain\",\"y\":1.0,\"yanchor\":\"top\",\"yref\":\"y\"},{\"showarrow\":false,\"text\":\"baseline\",\"x\":1,\"xanchor\":\"right\",\"xref\":\"x domain\",\"y\":0.5,\"yanchor\":\"top\",\"yref\":\"y\"}]},                        {\"responsive\": true}                    ).then(function(){\n",
       "                            \n",
       "var gd = document.getElementById('9cba6f4c-2eeb-4f42-968b-f8b0e8fc8b5a');\n",
       "var x = new MutationObserver(function (mutations, observer) {{\n",
       "        var display = window.getComputedStyle(gd).display;\n",
       "        if (!display || display === 'none') {{\n",
       "            console.log([gd, 'removed!']);\n",
       "            Plotly.purge(gd);\n",
       "            observer.disconnect();\n",
       "        }}\n",
       "}});\n",
       "\n",
       "// Listen for the removal of the full notebook cells\n",
       "var notebookContainer = gd.closest('#notebook-container');\n",
       "if (notebookContainer) {{\n",
       "    x.observe(notebookContainer, {childList: true});\n",
       "}}\n",
       "\n",
       "// Listen for the clearing of the current output cell\n",
       "var outputEl = gd.closest('.output');\n",
       "if (outputEl) {{\n",
       "    x.observe(outputEl, {childList: true});\n",
       "}}\n",
       "\n",
       "                        })                };                });            </script>        </div>"
      ]
     },
     "metadata": {},
     "output_type": "display_data"
    }
   ],
   "source": [
    "\n",
    "\n",
    "# Calculate object-model scores\n",
    "def calc_obj_model_scores(scores_df, K_value, linear_weighting=True):\n",
    "    filtered_df = scores_df[scores_df['K'] == 16]\n",
    "\n",
    "    # Generate linearly interpolated vector\n",
    "    \n",
    "    #interpolated_vector = np.linspace(0, 1, n)\n",
    "\n",
    "    # Multiply the scores by the interpolated vector\n",
    "    n = len(filtered_df)\n",
    "\n",
    "    if linear_weighting is True:\n",
    "        weighted_vector = np.linspace(1, n, n)*2/(n+1)\n",
    "    else:\n",
    "        weighted_vector = np.ones(n)\n",
    "\n",
    "    filtered_df['adjusted_score'] = filtered_df['score'] * weighted_vector\n",
    "\n",
    "    score = filtered_df['adjusted_score'].sum() / n\n",
    "\n",
    "    return score\n",
    "\n",
    "# Train probes and show results\n",
    "\n",
    "index_nums = np.arange(16)+1\n",
    "\n",
    "for obj_model_names, pixel_data_this in pixel_data.items():\n",
    "    scores_list = []\n",
    "    for value_label, (pixels, is_obj, rows_in_value, cols_in_value, f_test, sort_inds) in tqdm(pixel_data_this.items()):\n",
    "        for K in index_nums:\n",
    "            results = cpr.linear_probe(pixels[:,sort_inds[:K]], is_obj, C=10, random_state=42)\n",
    "            scores_list.append({'layer': value_label, 'K': K, 'score': results['test_score']})\n",
    "    scores_df = pd.DataFrame(scores_list)\n",
    "\n",
    "    \n",
    "\n",
    "    # Calculate object-model score\n",
    "    linear_weighting=True\n",
    "    score = calc_obj_model_scores(scores_df, 16, linear_weighting)\n",
    "    obj_model_scores[obj_model_names] = score\n",
    "\n",
    "\n",
    "\n",
    "    fig = px.line(scores_df, x='layer', y='score', color='K',\n",
    "        title=f'Sparse probe scores for \"conv pixel contains {obj_model_names[0]}\" over layers and K values for {obj_model_names[1]}. Score = {score}.')\n",
    "    fig.add_hline(y=1.,  line_dash=\"dot\", annotation_text=\"perfect\",  annotation_position=\"bottom right\")\n",
    "    fig.add_hline(y=0.5, line_dash=\"dot\", annotation_text=\"baseline\", annotation_position=\"bottom right\")\n",
    "    fig.show()\n",
    "\n",
    "\n",
    "\n"
   ]
  },
  {
   "cell_type": "code",
   "execution_count": 43,
   "metadata": {},
   "outputs": [
    {
     "name": "stdout",
     "output_type": "stream",
     "text": [
      "{('goal', 'Cheese Mouse'): 0.5472272163400349, ('goal', 'Top Right Mouse'): 0.4527727836599651}\n"
     ]
    }
   ],
   "source": [
    "#Compute softmax of scores\n",
    "\n",
    "def softmax(arr):\n",
    "    \"\"\"Compute softmax values for each element in arr.\"\"\"\n",
    "    e_arr = np.exp(arr - np.max(arr))  # subtract max for numerical stability\n",
    "    return e_arr / e_arr.sum()\n",
    "\n",
    "softmaxed_scores = softmax(list(obj_model_scores.values()))\n",
    "obj_model_softmaxed_scores = {key: val for key, val in zip(obj_model_scores.keys(), softmaxed_scores)}\n",
    "\n",
    "print(obj_model_softmaxed_scores)"
   ]
  },
  {
   "cell_type": "markdown",
   "metadata": {},
   "source": [
    "## Stuff with channels"
   ]
  },
  {
   "cell_type": "code",
   "execution_count": 44,
   "metadata": {},
   "outputs": [
    {
     "ename": "KeyboardInterrupt",
     "evalue": "",
     "output_type": "error",
     "traceback": [
      "\u001b[0;31m---------------------------------------------------------------------------\u001b[0m",
      "\u001b[0;31mKeyboardInterrupt\u001b[0m                         Traceback (most recent call last)",
      "Cell \u001b[0;32mIn[44], line 32\u001b[0m\n\u001b[1;32m     29\u001b[0m     value \u001b[39m=\u001b[39m hook_to_use\u001b[39m.\u001b[39mget_value_by_label(value_label) \u001b[39m# probably we can use any hook here\u001b[39;00m\n\u001b[1;32m     31\u001b[0m     \u001b[39mfor\u001b[39;00m ch_ind \u001b[39min\u001b[39;00m tqdm(\u001b[39mrange\u001b[39m(value\u001b[39m.\u001b[39mshape[\u001b[39m1\u001b[39m])): \u001b[39m# want to loop over channels here\u001b[39;00m\n\u001b[0;32m---> 32\u001b[0m         results \u001b[39m=\u001b[39m cpr\u001b[39m.\u001b[39;49mlinear_probe(pixels[:,ch_ind], is_obj, C\u001b[39m=\u001b[39;49m\u001b[39m10\u001b[39;49m, random_state\u001b[39m=\u001b[39;49m\u001b[39m42\u001b[39;49m) \u001b[39m# need this to take in a single channel (sort_inds bit)\u001b[39;00m\n\u001b[1;32m     33\u001b[0m         scores_list\u001b[39m.\u001b[39mappend({\u001b[39m'\u001b[39m\u001b[39mlayer\u001b[39m\u001b[39m'\u001b[39m: value_label, \u001b[39m'\u001b[39m\u001b[39mchannel\u001b[39m\u001b[39m'\u001b[39m: ch_ind, \u001b[39m'\u001b[39m\u001b[39mscore\u001b[39m\u001b[39m'\u001b[39m: results[\u001b[39m'\u001b[39m\u001b[39mtest_score\u001b[39m\u001b[39m'\u001b[39m]}) \u001b[39m# need to label the channel here\u001b[39;00m\n\u001b[1;32m     34\u001b[0m scores_df \u001b[39m=\u001b[39m pd\u001b[39m.\u001b[39mDataFrame(scores_list)\n",
      "File \u001b[0;32m~/miniconda3/envs/procgen_custom_maze/lib/python3.8/site-packages/circrl/probing.py:63\u001b[0m, in \u001b[0;36mlinear_probe\u001b[0;34m(X_full, y, model_type, test_size, random_state, **regression_kwargs)\u001b[0m\n\u001b[1;32m     61\u001b[0m \u001b[39mif\u001b[39;00m model_type \u001b[39m==\u001b[39m \u001b[39m'\u001b[39m\u001b[39mclassifier\u001b[39m\u001b[39m'\u001b[39m:\n\u001b[1;32m     62\u001b[0m     result[\u001b[39m'\u001b[39m\u001b[39mconf_matrix\u001b[39m\u001b[39m'\u001b[39m] \u001b[39m=\u001b[39m metrics\u001b[39m.\u001b[39mconfusion_matrix(y_test, y_pred)\n\u001b[0;32m---> 63\u001b[0m     result[\u001b[39m'\u001b[39m\u001b[39mreport\u001b[39m\u001b[39m'\u001b[39m] \u001b[39m=\u001b[39m metrics\u001b[39m.\u001b[39;49mclassification_report(y_test, y_pred)\n\u001b[1;32m     65\u001b[0m \u001b[39mreturn\u001b[39;00m result\n",
      "File \u001b[0;32m~/miniconda3/envs/procgen_custom_maze/lib/python3.8/site-packages/sklearn/utils/_param_validation.py:211\u001b[0m, in \u001b[0;36mvalidate_params.<locals>.decorator.<locals>.wrapper\u001b[0;34m(*args, **kwargs)\u001b[0m\n\u001b[1;32m    205\u001b[0m \u001b[39mtry\u001b[39;00m:\n\u001b[1;32m    206\u001b[0m     \u001b[39mwith\u001b[39;00m config_context(\n\u001b[1;32m    207\u001b[0m         skip_parameter_validation\u001b[39m=\u001b[39m(\n\u001b[1;32m    208\u001b[0m             prefer_skip_nested_validation \u001b[39mor\u001b[39;00m global_skip_validation\n\u001b[1;32m    209\u001b[0m         )\n\u001b[1;32m    210\u001b[0m     ):\n\u001b[0;32m--> 211\u001b[0m         \u001b[39mreturn\u001b[39;00m func(\u001b[39m*\u001b[39;49margs, \u001b[39m*\u001b[39;49m\u001b[39m*\u001b[39;49mkwargs)\n\u001b[1;32m    212\u001b[0m \u001b[39mexcept\u001b[39;00m InvalidParameterError \u001b[39mas\u001b[39;00m e:\n\u001b[1;32m    213\u001b[0m     \u001b[39m# When the function is just a wrapper around an estimator, we allow\u001b[39;00m\n\u001b[1;32m    214\u001b[0m     \u001b[39m# the function to delegate validation to the estimator, but we replace\u001b[39;00m\n\u001b[1;32m    215\u001b[0m     \u001b[39m# the name of the estimator by the name of the function in the error\u001b[39;00m\n\u001b[1;32m    216\u001b[0m     \u001b[39m# message to avoid confusion.\u001b[39;00m\n\u001b[1;32m    217\u001b[0m     msg \u001b[39m=\u001b[39m re\u001b[39m.\u001b[39msub(\n\u001b[1;32m    218\u001b[0m         \u001b[39mr\u001b[39m\u001b[39m\"\u001b[39m\u001b[39mparameter of \u001b[39m\u001b[39m\\\u001b[39m\u001b[39mw+ must be\u001b[39m\u001b[39m\"\u001b[39m,\n\u001b[1;32m    219\u001b[0m         \u001b[39mf\u001b[39m\u001b[39m\"\u001b[39m\u001b[39mparameter of \u001b[39m\u001b[39m{\u001b[39;00mfunc\u001b[39m.\u001b[39m\u001b[39m__qualname__\u001b[39m\u001b[39m}\u001b[39;00m\u001b[39m must be\u001b[39m\u001b[39m\"\u001b[39m,\n\u001b[1;32m    220\u001b[0m         \u001b[39mstr\u001b[39m(e),\n\u001b[1;32m    221\u001b[0m     )\n",
      "File \u001b[0;32m~/miniconda3/envs/procgen_custom_maze/lib/python3.8/site-packages/sklearn/metrics/_classification.py:2630\u001b[0m, in \u001b[0;36mclassification_report\u001b[0;34m(y_true, y_pred, labels, target_names, sample_weight, digits, output_dict, zero_division)\u001b[0m\n\u001b[1;32m   2623\u001b[0m \u001b[39mif\u001b[39;00m line_heading \u001b[39m==\u001b[39m \u001b[39m\"\u001b[39m\u001b[39maccuracy\u001b[39m\u001b[39m\"\u001b[39m:\n\u001b[1;32m   2624\u001b[0m     row_fmt_accuracy \u001b[39m=\u001b[39m (\n\u001b[1;32m   2625\u001b[0m         \u001b[39m\"\u001b[39m\u001b[39m{\u001b[39m\u001b[39m:>\u001b[39m\u001b[39m{width}\u001b[39;00m\u001b[39ms} \u001b[39m\u001b[39m\"\u001b[39m\n\u001b[1;32m   2626\u001b[0m         \u001b[39m+\u001b[39m \u001b[39m\"\u001b[39m\u001b[39m \u001b[39m\u001b[39m{\u001b[39m\u001b[39m:>9.\u001b[39m\u001b[39m{digits}\u001b[39;00m\u001b[39m}\u001b[39m\u001b[39m\"\u001b[39m \u001b[39m*\u001b[39m \u001b[39m2\u001b[39m\n\u001b[1;32m   2627\u001b[0m         \u001b[39m+\u001b[39m \u001b[39m\"\u001b[39m\u001b[39m \u001b[39m\u001b[39m{\u001b[39m\u001b[39m:>9.\u001b[39m\u001b[39m{digits}\u001b[39;00m\u001b[39mf}\u001b[39m\u001b[39m\"\u001b[39m\n\u001b[1;32m   2628\u001b[0m         \u001b[39m+\u001b[39m \u001b[39m\"\u001b[39m\u001b[39m \u001b[39m\u001b[39m{:>9}\u001b[39;00m\u001b[39m\\n\u001b[39;00m\u001b[39m\"\u001b[39m\n\u001b[1;32m   2629\u001b[0m     )\n\u001b[0;32m-> 2630\u001b[0m     report \u001b[39m+\u001b[39m\u001b[39m=\u001b[39m row_fmt_accuracy\u001b[39m.\u001b[39;49mformat(\n\u001b[1;32m   2631\u001b[0m         line_heading, \u001b[39m\"\u001b[39;49m\u001b[39m\"\u001b[39;49m, \u001b[39m\"\u001b[39;49m\u001b[39m\"\u001b[39;49m, \u001b[39m*\u001b[39;49mavg[\u001b[39m2\u001b[39;49m:], width\u001b[39m=\u001b[39;49mwidth, digits\u001b[39m=\u001b[39;49mdigits\n\u001b[1;32m   2632\u001b[0m     )\n\u001b[1;32m   2633\u001b[0m \u001b[39melse\u001b[39;00m:\n\u001b[1;32m   2634\u001b[0m     report \u001b[39m+\u001b[39m\u001b[39m=\u001b[39m row_fmt\u001b[39m.\u001b[39mformat(line_heading, \u001b[39m*\u001b[39mavg, width\u001b[39m=\u001b[39mwidth, digits\u001b[39m=\u001b[39mdigits)\n",
      "\u001b[0;31mKeyboardInterrupt\u001b[0m: "
     ]
    }
   ],
   "source": [
    "%%capture\n",
    "\n",
    "pixel_data = {}\n",
    "f_test_dfs = {}\n",
    "\n",
    "hook_to_use = hook1\n",
    "pixel_data['cheese1'], f_test_dfs['cheese'] = make_pixel_data(values_to_store, goal_pos, hook1)\n",
    "pixel_data['cheese2'], f_test_dfs['cheese'] = make_pixel_data(values_to_store, goal_pos, hook2)\n",
    "\n",
    "# Train probes and show results\n",
    "# index_nums = np.arange(10)+1\n",
    "# for obj_name, pixel_data_this in pixel_data.items():\n",
    "#     scores_list = []\n",
    "#     for value_label, (pixels, is_obj, rows_in_value, cols_in_value, f_test, sort_inds) in tqdm(pixel_data_this.items()):\n",
    "#         for K in index_nums:\n",
    "#             results = cpr.linear_probe(pixels[:,sort_inds[:K]], is_obj, C=10, random_state=42)\n",
    "#             scores_list.append({'layer': value_label, 'K': K, 'score': results['test_score']})\n",
    "#     scores_df = pd.DataFrame(scores_list)\n",
    "\n",
    "#     fig = px.line(scores_df, x='layer', y='score', color='K',\n",
    "#         title=f'Sparse probe scores for \"conv pixel contains {obj_name}\" over resadd layers and K values')\n",
    "#     fig.add_hline(y=1.,  line_dash=\"dot\", annotation_text=\"perfect\",  annotation_position=\"bottom right\")\n",
    "#     fig.add_hline(y=0.5, line_dash=\"dot\", annotation_text=\"baseline\", annotation_position=\"bottom right\")\n",
    "#     fig.show()\n",
    "\n",
    "\n",
    "# Train probes and show results\n",
    "for obj_name, pixel_data_this in pixel_data.items():\n",
    "    scores_list = []\n",
    "    for value_label, (pixels, is_obj, rows_in_value, cols_in_value, f_test, sort_inds) in tqdm(pixel_data_this.items()):\n",
    "        value = hook_to_use.get_value_by_label(value_label) # probably we can use any hook here\n",
    "        \n",
    "        for ch_ind in tqdm(range(value.shape[1])): # want to loop over channels here\n",
    "            results = cpr.linear_probe(pixels[:,ch_ind], is_obj, C=10, random_state=42) # need this to take in a single channel (sort_inds bit)\n",
    "            scores_list.append({'layer': value_label, 'channel': ch_ind, 'score': results['test_score']}) # need to label the channel here\n",
    "    scores_df = pd.DataFrame(scores_list)\n",
    "\n",
    "    fig = px.line(scores_df, x='layer', y='score', color='channel',\n",
    "        title=f'Sparse probe scores for \"conv pixel contains {obj_name}\" over resadd layers and K values')\n",
    "    fig.add_hline(y=1.,  line_dash=\"dot\", annotation_text=\"perfect\",  annotation_position=\"bottom right\")\n",
    "    fig.add_hline(y=0.5, line_dash=\"dot\", annotation_text=\"baseline\", annotation_position=\"bottom right\")\n",
    "    fig.show()"
   ]
  },
  {
   "cell_type": "code",
   "execution_count": null,
   "metadata": {},
   "outputs": [
    {
     "data": {
      "image/png": "[encoded data removed]",
      "text/plain": [
       "<Figure size 896x672 with 2 Axes>"
      ]
     },
     "metadata": {},
     "output_type": "display_data"
    },
    {
     "data": {
      "image/png": "[encoded data removed]",
      "text/plain": [
       "<Figure size 420x420 with 1 Axes>"
      ]
     },
     "metadata": {},
     "output_type": "display_data"
    },
    {
     "data": {
      "text/plain": [
       "array([[[201, 152, 105],\n",
       "        [201, 152, 105],\n",
       "        [201, 152, 105],\n",
       "        ...,\n",
       "        [189, 137,  88],\n",
       "        [201, 152, 105],\n",
       "        [201, 152, 105]],\n",
       "\n",
       "       [[201, 152, 105],\n",
       "        [201, 152, 105],\n",
       "        [201, 152, 105],\n",
       "        ...,\n",
       "        [189, 137,  88],\n",
       "        [189, 137,  88],\n",
       "        [189, 137,  88]],\n",
       "\n",
       "       [[189, 137,  88],\n",
       "        [189, 137,  88],\n",
       "        [201, 152, 105],\n",
       "        ...,\n",
       "        [189, 137,  88],\n",
       "        [189, 137,  88],\n",
       "        [189, 137,  88]],\n",
       "\n",
       "       ...,\n",
       "\n",
       "       [[197, 143,  92],\n",
       "        [197, 143,  92],\n",
       "        [197, 143,  92],\n",
       "        ...,\n",
       "        [201, 152, 105],\n",
       "        [201, 152, 105],\n",
       "        [201, 152, 105]],\n",
       "\n",
       "       [[201, 152, 105],\n",
       "        [197, 143,  92],\n",
       "        [197, 143,  92],\n",
       "        ...,\n",
       "        [201, 152, 105],\n",
       "        [201, 152, 105],\n",
       "        [201, 152, 105]],\n",
       "\n",
       "       [[201, 152, 105],\n",
       "        [201, 152, 105],\n",
       "        [201, 152, 105],\n",
       "        ...,\n",
       "        [201, 152, 105],\n",
       "        [201, 152, 105],\n",
       "        [201, 152, 105]]], dtype=uint8)"
      ]
     },
     "execution_count": 26,
     "metadata": {},
     "output_type": "execute_result"
    }
   ],
   "source": [
    "# activations = visualization.get_activations()\n",
    "hook_to_use = hook1\n",
    "layer_name = 'embedder.block1.res1.relu1_out'\n",
    "layer_name = value_labels_conv[10]\n",
    "channel_no = 103\n",
    "env_no = 9\n",
    "activations = hook_to_use.values_by_label[layer_name][env_no, channel_no, :, :]\n",
    "plt.title(f'Layer: {layer_name}, Channel: {channel_no}, Environment: {env_no}')\n",
    "plt.imshow(activations, cmap='hot', interpolation='nearest')\n",
    "plt.colorbar()\n",
    "plt.show()\n",
    "visualization.visualize_venv(venv, env_no, show_plot=True)"
   ]
  },
  {
   "cell_type": "code",
   "execution_count": null,
   "metadata": {},
   "outputs": [],
   "source": [
    "# def linear_probe_single_channels(hook, value_labels, y, \n",
    "#         value_preproc_func=lambda value: value, random_state=None,\n",
    "#         **regression_kwargs):\n",
    "#     '''Probe with all individual channels in all specified values taken from the\n",
    "#     provided hook object.  Wrapper around linear_probe.'''\n",
    "#     results = []\n",
    "#     for value_label in tqdm(value_labels):\n",
    "\n",
    "#         value = hook.get_value_by_label(value_label)\n",
    "\n",
    "#         for ch_ind in tqdm(range(value.shape[1])):\n",
    "#             ch = value[:,ch_ind,:,:]\n",
    "#             print(value_preproc_func(ch).shape)\n",
    "#             results_this = cpr.linear_probe(value_preproc_func(ch), y, **regression_kwargs)\n",
    "#             results_this.update({\n",
    "#                 'value_label': value_label,\n",
    "#                 'channel': ch_ind,})\n",
    "#             results.append(results_this)\n",
    "            \n",
    "#     results_df = pd.DataFrame(results).set_index(['value_label', 'channel']).sort_values(\n",
    "#         'test_score', ascending=False)\n",
    "#     return results_df\n",
    "# results = linear_probe_single_channels(hook1, values_to_store[5:6], goal_pos_y, random_state=42)"
   ]
  }
 ],
 "metadata": {
  "kernelspec": {
   "display_name": "procgen_env",
   "language": "python",
   "name": "python3"
  },
  "language_info": {
   "codemirror_mode": {
    "name": "ipython",
    "version": 3
   },
   "file_extension": ".py",
   "mimetype": "text/x-python",
   "name": "python",
   "nbconvert_exporter": "python",
   "pygments_lexer": "ipython3",
   "version": "3.8.17"
  },
  "orig_nbformat": 4
 },
 "nbformat": 4,
 "nbformat_minor": 2
}
