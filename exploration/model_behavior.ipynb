{
 "cells": [
  {
   "cell_type": "code",
   "execution_count": 2,
   "metadata": {},
   "outputs": [],
   "source": [
    "import os\n",
    "import time\n",
    "import csv\n",
    "from abc import ABC, abstractmethod\n",
    "import numpy as np\n",
    "import pandas as pd\n",
    "import torch\n",
    "import torch.nn as nn\n",
    "import torch.nn.functional as F\n",
    "import torch.optim as optim\n",
    "from torch.distributions import Categorical\n",
    "from torch.utils.data.sampler import BatchSampler, SubsetRandomSampler\n",
    "from collections import deque\n",
    "\n",
    "import gym\n",
    "from gym3 import ToBaselinesVecEnv\n",
    "from procgen import ProcgenEnv, ProcgenGym3Env\n",
    "from procgen_tools import visualization, maze\n",
    "from procgen_tools.imports import *\n",
    "import matplotlib.pyplot as plt"
   ]
  },
  {
   "cell_type": "code",
   "execution_count": 37,
   "metadata": {},
   "outputs": [],
   "source": [
    "# Load models\n",
    "policy, hook = load_model('15', 15)"
   ]
  },
  {
   "cell_type": "code",
   "execution_count": 79,
   "metadata": {},
   "outputs": [
    {
     "name": "stdout",
     "output_type": "stream",
     "text": [
      "Env: cheese. Episode finished after 67 timesteps\n",
      "Env: redgem. Episode finished after 7 timesteps\n",
      "Env: yellowstar. Episode finished after 100 timesteps\n"
     ]
    }
   ],
   "source": [
    "# Record behavior of model\n",
    "import imageio\n",
    "#temporarily choose one venv\n",
    "\n",
    "# Load environments\n",
    "venv_cheese = maze.create_venv(1, 0, 0, env_name='maze')\n",
    "venv_redgem = maze.create_venv(1, 0, 0, env_name='maze_redgem_yellowstar')\n",
    "venv_yellowstar = maze.create_venv(1, 0, 0, env_name='maze_yellowstar_redgem')\n",
    "\n",
    "venvs = [venv_cheese, venv_redgem, venv_yellowstar]\n",
    "venvs_names = ['cheese', 'redgem', 'yellowstar']\n",
    "\n",
    "for i, venv in enumerate(venvs):\n",
    "\n",
    "    frames = []\n",
    "    observation = venv.reset()\n",
    "    observation = torch.tensor(observation, dtype=torch.float32)  \n",
    "\n",
    "    for j in range(100):\n",
    "        frames.append(venv.render(mode='rgb_array')) #mode='rgb_array'\n",
    "        action_probs, _ = policy(observation)  # replace with your model's prediction method\n",
    "        action = action_probs.sample().item()\n",
    "        action_np = np.array([action], dtype=np.int32)\n",
    "        observation, reward, done, info = venv.step(action_np)\n",
    "        observation = torch.tensor(observation, dtype=torch.float32)  \n",
    "\n",
    "        if done:\n",
    "            break\n",
    "\n",
    "    print(f\"Env: {venvs_names[i]}. Episode finished after {j+1} timesteps\")\n",
    "\n",
    "    imageio.mimwrite(f'recordings/output_{venvs_names[i]}.gif', frames, format='.gif')\n"
   ]
  }
 ],
 "metadata": {
  "kernelspec": {
   "display_name": "procgen_custom_maze",
   "language": "python",
   "name": "python3"
  },
  "language_info": {
   "codemirror_mode": {
    "name": "ipython",
    "version": 3
   },
   "file_extension": ".py",
   "mimetype": "text/x-python",
   "name": "python",
   "nbconvert_exporter": "python",
   "pygments_lexer": "ipython3",
   "version": "3.8.17"
  },
  "orig_nbformat": 4
 },
 "nbformat": 4,
 "nbformat_minor": 2
}
